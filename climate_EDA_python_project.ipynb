{
 "cells": [
  {
   "cell_type": "markdown",
   "id": "c97a2c61",
   "metadata": {
    "slideshow": {
     "slide_type": "slide"
    }
   },
   "source": [
    "# Rate of Warming of Global Countries and Cities\n",
    "## *Analysis of rate of warming across Earth (1880-2013)*\n",
    "**** "
   ]
  },
  {
   "cell_type": "markdown",
   "id": "199acf95",
   "metadata": {
    "slideshow": {
     "slide_type": "fragment"
    }
   },
   "source": [
    "<a id='TOC'></a>\n",
    "1. [Introduction](#Introduction)\n",
    "2. [Data Overview](#Overview)<br>\n",
    "    a. [Loading](#Loading)<br>\n",
    "    b. [Cleaning/Filtering](#Cleaning)<br>\n",
    "3. [Exploratory Data Analysis (EDA)](#EDA)<br>\n",
    "    a. [Warmest & coldest countries/cities](#Extremes)<br> \n",
    "    b. [Average global temperature over time](#Trending)<br>\n",
    "4. [Answering Questions](#Answers)<br>\n",
    "    a. [Fastest-Warming Countries & Cities and Temperature Ranges](#Fastest)<br>  \n",
    "5. [Conclusions, Recommendations, and Areas for Further Exploration](#Conclusion)"
   ]
  },
  {
   "cell_type": "markdown",
   "id": "28b727b9",
   "metadata": {
    "slideshow": {
     "slide_type": "slide"
    }
   },
   "source": [
    "**** \n",
    "<a id='Introduction'></a>\n",
    "### 1. [Introduction](#Introduction)\n",
    "\n",
    "In this analysis, we will look at average temperature readings for several countries and cities across the globe in order to determine:\n",
    "* the warmest and coldest countries,\n",
    "* the warmest and coldest cities,\n",
    "* the country and city with the greatest rate of warming\\*,\n",
    "* the country and city with the greatest ranges in average temperatures.\n",
    "\n",
    "\\* Note: \"*greatest rate of warming*\" will be defined as the location that has the greatest rolling 10-year average increase in average temperature change. This calculated field is not included in the raw data, so it will be added as a column in our working dataframes.\n",
    "\n",
    "The purpose of this analysis is to inform global citizens of the urgency with which to act as our planet continues to warm. Of course, those based in any of the countries or cities that are found to be warming at an increased rate will immediately see the relevancy in their own lives but this information should also be taken into consideration by individuals that live elsewhere in the world, at the very least for the sake of empathy and empowerment."
   ]
  },
  {
   "cell_type": "markdown",
   "id": "b7c59772",
   "metadata": {
    "slideshow": {
     "slide_type": "fragment"
    }
   },
   "source": [
    "[Back to TOC](#TOC)"
   ]
  },
  {
   "cell_type": "markdown",
   "id": "f243c2f0",
   "metadata": {
    "slideshow": {
     "slide_type": "slide"
    }
   },
   "source": [
    "**** \n",
    "<a id='Overview'></a>\n",
    "### 2. [Data Overview](#Overview)\n",
    "\n",
    "This analysis will work with two datasets:\n",
    "* `GlobalLandTemperaturesByCountry.csv` and\n",
    "* `GlobalLandTemperaturesByCity.csv`\n",
    "\n",
    "We will first use the `GlobalLandTemperaturesByCountry.csv` set in order to look at warming on a national scale, followed by an identical analysis with the `GlobalTemperaturesByCity.csv` set to observe warming across global cities.\n",
    "\n",
    "Ideally, we are able to answer such questions as:\n",
    "* *Which country/countries is/are warming the fastest?*\n",
    "* *Which city/cities is/are warming the fastest?*\n",
    "* *Can we accurately predict temperatures for a specific country or city?*\n",
    "\n",
    "It should be noted that although both datasets contain average temperatures (at the country or city level respectively) dating back to 1743(!), we will only be using records from 1880 onward for the sake of volume processing."
   ]
  },
  {
   "cell_type": "markdown",
   "id": "660e6fd6",
   "metadata": {
    "slideshow": {
     "slide_type": "slide"
    }
   },
   "source": [
    "<a id='Loading'></a>\n",
    "#### [Loading the Data](#Loading)"
   ]
  },
  {
   "cell_type": "code",
   "execution_count": 1,
   "id": "0997fddc",
   "metadata": {
    "slideshow": {
     "slide_type": "fragment"
    }
   },
   "outputs": [
    {
     "data": {
      "text/html": [
       "        <script type=\"text/javascript\">\n",
       "        window.PlotlyConfig = {MathJaxConfig: 'local'};\n",
       "        if (window.MathJax) {MathJax.Hub.Config({SVG: {font: \"STIX-Web\"}});}\n",
       "        if (typeof require !== 'undefined') {\n",
       "        require.undef(\"plotly\");\n",
       "        requirejs.config({\n",
       "            paths: {\n",
       "                'plotly': ['https://cdn.plot.ly/plotly-2.11.1.min']\n",
       "            }\n",
       "        });\n",
       "        require(['plotly'], function(Plotly) {\n",
       "            window._Plotly = Plotly;\n",
       "        });\n",
       "        }\n",
       "        </script>\n",
       "        "
      ]
     },
     "metadata": {},
     "output_type": "display_data"
    }
   ],
   "source": [
    "import numpy as np \n",
    "import pandas as pd \n",
    "import matplotlib\n",
    "import matplotlib.pyplot as plt\n",
    "import plotly.offline as py\n",
    "py.init_notebook_mode(connected=True)\n",
    "import plotly.graph_objs as go\n",
    "import plotly.tools as tls\n",
    "# import lazypredict\n",
    "from pmdarima.arima import auto_arima\n",
    "import seaborn as sns\n",
    "import itertools\n",
    "import statsmodels.api as sm\n",
    "from statsmodels.tsa.seasonal import seasonal_decompose\n",
    "from statsmodels.graphics.tsaplots import plot_acf, plot_pacf\n",
    "from sklearn.metrics import mean_squared_error\n",
    "from statsmodels.tsa.stattools import adfuller\n",
    "from math import sqrt\n",
    "import warnings\n",
    "warnings.filterwarnings('ignore')\n",
    "%matplotlib inline"
   ]
  },
  {
   "cell_type": "code",
   "execution_count": 2,
   "id": "aa06b014",
   "metadata": {
    "slideshow": {
     "slide_type": "fragment"
    }
   },
   "outputs": [],
   "source": [
    "plt.style.use('fivethirtyeight')\n",
    "matplotlib.rcParams['axes.labelsize'] = 14\n",
    "matplotlib.rcParams['xtick.labelsize'] = 12\n",
    "matplotlib.rcParams['ytick.labelsize'] = 12\n",
    "matplotlib.rcParams['text.color'] = 'b'\n",
    "# matplotlib.rcParams['axes.prop_cycle'] = cycler(color=['xkcd:light red',\n",
    "#                                                        'xkcd:light orange',\n",
    "#                                                        'xkcd:light yellow',\n",
    "#                                                        'xkcd:light green',\n",
    "#                                                        'xkcd:light blue',\n",
    "#                                                        'xkcd:light purple',\n",
    "#                                                        'xkcd:grey'])\n",
    "\n",
    "# Create an array with the colors you want to use\n",
    "colors = ['xkcd:grey', 'xkcd:light purple', 'xkcd:light yellow','xkcd:light green']"
   ]
  },
  {
   "cell_type": "code",
   "execution_count": 3,
   "id": "2ae0b421",
   "metadata": {
    "slideshow": {
     "slide_type": "fragment"
    }
   },
   "outputs": [],
   "source": [
    "# load Country csv\n",
    "country=pd.read_csv('GlobalLandTemperaturesByCountry.csv',\n",
    "                 infer_datetime_format=True,\n",
    "                date_parser=True)\n",
    "\n",
    "country['dt']=pd.to_datetime(country['dt'])\n",
    "\n",
    "\n",
    "# load City csv\n",
    "city=pd.read_csv('GlobalLandTemperaturesByCity.csv',\n",
    "                 infer_datetime_format=True,\n",
    "                date_parser=True)\n",
    "\n",
    "city['dt']=pd.to_datetime(city['dt'])"
   ]
  },
  {
   "cell_type": "markdown",
   "id": "9fc3abae",
   "metadata": {
    "slideshow": {
     "slide_type": "fragment"
    }
   },
   "source": [
    "[Back to TOC](#TOC)"
   ]
  },
  {
   "cell_type": "markdown",
   "id": "c0230b51",
   "metadata": {
    "slideshow": {
     "slide_type": "slide"
    }
   },
   "source": [
    "<a id='Cleaning'></a>\n",
    "#### [Cleaning/Filtering](#Cleaning)"
   ]
  },
  {
   "cell_type": "markdown",
   "id": "666ba6c0",
   "metadata": {
    "slideshow": {
     "slide_type": "subslide"
    }
   },
   "source": [
    "We will first work with the `Country` data. Let's take surface look at the table and the number of rows (i.e., `shape[0]`)."
   ]
  },
  {
   "cell_type": "code",
   "execution_count": 78,
   "id": "d8745728",
   "metadata": {
    "scrolled": true,
    "slideshow": {
     "slide_type": "fragment"
    }
   },
   "outputs": [
    {
     "data": {
      "text/html": [
       "<div>\n",
       "<style scoped>\n",
       "    .dataframe tbody tr th:only-of-type {\n",
       "        vertical-align: middle;\n",
       "    }\n",
       "\n",
       "    .dataframe tbody tr th {\n",
       "        vertical-align: top;\n",
       "    }\n",
       "\n",
       "    .dataframe thead th {\n",
       "        text-align: right;\n",
       "    }\n",
       "</style>\n",
       "<table border=\"1\" class=\"dataframe\">\n",
       "  <thead>\n",
       "    <tr style=\"text-align: right;\">\n",
       "      <th></th>\n",
       "      <th>dt</th>\n",
       "      <th>AverageTemperature</th>\n",
       "      <th>AverageTemperatureUncertainty</th>\n",
       "      <th>Country</th>\n",
       "    </tr>\n",
       "  </thead>\n",
       "  <tbody>\n",
       "    <tr>\n",
       "      <th>0</th>\n",
       "      <td>1743-11-01</td>\n",
       "      <td>4.384</td>\n",
       "      <td>2.294</td>\n",
       "      <td>Åland</td>\n",
       "    </tr>\n",
       "    <tr>\n",
       "      <th>1</th>\n",
       "      <td>1743-12-01</td>\n",
       "      <td>NaN</td>\n",
       "      <td>NaN</td>\n",
       "      <td>Åland</td>\n",
       "    </tr>\n",
       "    <tr>\n",
       "      <th>2</th>\n",
       "      <td>1744-01-01</td>\n",
       "      <td>NaN</td>\n",
       "      <td>NaN</td>\n",
       "      <td>Åland</td>\n",
       "    </tr>\n",
       "    <tr>\n",
       "      <th>3</th>\n",
       "      <td>1744-02-01</td>\n",
       "      <td>NaN</td>\n",
       "      <td>NaN</td>\n",
       "      <td>Åland</td>\n",
       "    </tr>\n",
       "    <tr>\n",
       "      <th>4</th>\n",
       "      <td>1744-03-01</td>\n",
       "      <td>NaN</td>\n",
       "      <td>NaN</td>\n",
       "      <td>Åland</td>\n",
       "    </tr>\n",
       "  </tbody>\n",
       "</table>\n",
       "</div>"
      ],
      "text/plain": [
       "          dt  AverageTemperature  AverageTemperatureUncertainty Country\n",
       "0 1743-11-01               4.384                          2.294   Åland\n",
       "1 1743-12-01                 NaN                            NaN   Åland\n",
       "2 1744-01-01                 NaN                            NaN   Åland\n",
       "3 1744-02-01                 NaN                            NaN   Åland\n",
       "4 1744-03-01                 NaN                            NaN   Åland"
      ]
     },
     "execution_count": 78,
     "metadata": {},
     "output_type": "execute_result"
    }
   ],
   "source": [
    "country.head()"
   ]
  },
  {
   "cell_type": "code",
   "execution_count": 5,
   "id": "8129c81d",
   "metadata": {
    "scrolled": true,
    "slideshow": {
     "slide_type": "fragment"
    }
   },
   "outputs": [
    {
     "data": {
      "text/plain": [
       "577462"
      ]
     },
     "execution_count": 5,
     "metadata": {},
     "output_type": "execute_result"
    }
   ],
   "source": [
    "country.shape[0]"
   ]
  },
  {
   "cell_type": "code",
   "execution_count": 6,
   "id": "ab4724ba",
   "metadata": {
    "slideshow": {
     "slide_type": "fragment"
    }
   },
   "outputs": [
    {
     "data": {
      "text/plain": [
       "dt                               datetime64[ns]\n",
       "AverageTemperature                      float64\n",
       "AverageTemperatureUncertainty           float64\n",
       "Country                                  object\n",
       "dtype: object"
      ]
     },
     "execution_count": 6,
     "metadata": {},
     "output_type": "execute_result"
    }
   ],
   "source": [
    "# data types\n",
    "country.dtypes"
   ]
  },
  {
   "cell_type": "markdown",
   "id": "f3c5b147",
   "metadata": {
    "slideshow": {
     "slide_type": "slide"
    }
   },
   "source": [
    "In this table, we have the following columns:\n",
    "* `dt` (datetime): date (YYYY-MM-DD), observations collected monthly from 1743-11-01 through 2013-09-01\n",
    "* `AverageTemperature` (float): average temperature, recorded in degrees Celsius (°C)\n",
    "* `AverageTemperatureUncertainty` (float): the 95% confidence interval around the average\n",
    "* `Country` (object, string): ... the country\n",
    "\n",
    "At an initial glance, with over half of a million records, we will begin by cleaning the `country` table to see how many NaN values exist and where in the table they fall."
   ]
  },
  {
   "cell_type": "code",
   "execution_count": 7,
   "id": "25de04db",
   "metadata": {
    "scrolled": true,
    "slideshow": {
     "slide_type": "slide"
    }
   },
   "outputs": [
    {
     "data": {
      "text/plain": [
       "dt                                   0\n",
       "AverageTemperature               32651\n",
       "AverageTemperatureUncertainty    31912\n",
       "Country                              0\n",
       "dtype: int64"
      ]
     },
     "execution_count": 7,
     "metadata": {},
     "output_type": "execute_result"
    }
   ],
   "source": [
    "country.isna().sum()"
   ]
  },
  {
   "cell_type": "markdown",
   "id": "1ce97369",
   "metadata": {
    "slideshow": {
     "slide_type": "fragment"
    }
   },
   "source": [
    "We have 32,641 temperature points missing out of 577,462 (~5.5%). We will filter the dataset to include only records from 1880 onward and reassess."
   ]
  },
  {
   "cell_type": "code",
   "execution_count": 8,
   "id": "8f39630b",
   "metadata": {
    "slideshow": {
     "slide_type": "fragment"
    }
   },
   "outputs": [
    {
     "data": {
      "text/plain": [
       "386654"
      ]
     },
     "execution_count": 8,
     "metadata": {},
     "output_type": "execute_result"
    }
   ],
   "source": [
    "# filtered (1880 onwards)\n",
    "country_filt=country[(country['dt']>'1879-12-31')]\n",
    "country_filt.shape[0]"
   ]
  },
  {
   "cell_type": "code",
   "execution_count": 9,
   "id": "bf5835ef",
   "metadata": {
    "slideshow": {
     "slide_type": "fragment"
    }
   },
   "outputs": [
    {
     "data": {
      "text/plain": [
       "dt                                  0\n",
       "AverageTemperature               2658\n",
       "AverageTemperatureUncertainty    1919\n",
       "Country                             0\n",
       "dtype: int64"
      ]
     },
     "execution_count": 9,
     "metadata": {},
     "output_type": "execute_result"
    }
   ],
   "source": [
    "country_filt.isna().sum()"
   ]
  },
  {
   "cell_type": "markdown",
   "id": "9a0a2a0d",
   "metadata": {
    "slideshow": {
     "slide_type": "slide"
    }
   },
   "source": [
    "After filtering by date, we now have 2658 missing temperature records out of 386, 654 in total (< 1%).\n",
    "\n",
    "With this, we can more confidently drop the NaN values that remain."
   ]
  },
  {
   "cell_type": "code",
   "execution_count": 10,
   "id": "58d205e9",
   "metadata": {
    "slideshow": {
     "slide_type": "fragment"
    }
   },
   "outputs": [
    {
     "data": {
      "text/plain": [
       "dt                               0\n",
       "AverageTemperature               0\n",
       "AverageTemperatureUncertainty    0\n",
       "Country                          0\n",
       "dtype: int64"
      ]
     },
     "execution_count": 10,
     "metadata": {},
     "output_type": "execute_result"
    }
   ],
   "source": [
    "# drop NaNs inplace\n",
    "country_filt.dropna(how='any',axis=0, inplace=True)\n",
    "\n",
    "# confirm\n",
    "country_filt.isna().sum()"
   ]
  },
  {
   "cell_type": "code",
   "execution_count": 11,
   "id": "b1ac1013",
   "metadata": {
    "slideshow": {
     "slide_type": "fragment"
    }
   },
   "outputs": [
    {
     "data": {
      "text/html": [
       "<div>\n",
       "<style scoped>\n",
       "    .dataframe tbody tr th:only-of-type {\n",
       "        vertical-align: middle;\n",
       "    }\n",
       "\n",
       "    .dataframe tbody tr th {\n",
       "        vertical-align: top;\n",
       "    }\n",
       "\n",
       "    .dataframe thead th {\n",
       "        text-align: right;\n",
       "    }\n",
       "</style>\n",
       "<table border=\"1\" class=\"dataframe\">\n",
       "  <thead>\n",
       "    <tr style=\"text-align: right;\">\n",
       "      <th></th>\n",
       "      <th>dt</th>\n",
       "      <th>AverageTemperature</th>\n",
       "      <th>AverageTemperatureUncertainty</th>\n",
       "      <th>Country</th>\n",
       "    </tr>\n",
       "  </thead>\n",
       "  <tbody>\n",
       "    <tr>\n",
       "      <th>1634</th>\n",
       "      <td>1880-01-01</td>\n",
       "      <td>-1.928</td>\n",
       "      <td>1.186</td>\n",
       "      <td>Åland</td>\n",
       "    </tr>\n",
       "    <tr>\n",
       "      <th>1635</th>\n",
       "      <td>1880-02-01</td>\n",
       "      <td>-0.920</td>\n",
       "      <td>0.927</td>\n",
       "      <td>Åland</td>\n",
       "    </tr>\n",
       "    <tr>\n",
       "      <th>1636</th>\n",
       "      <td>1880-03-01</td>\n",
       "      <td>-0.838</td>\n",
       "      <td>0.671</td>\n",
       "      <td>Åland</td>\n",
       "    </tr>\n",
       "    <tr>\n",
       "      <th>1637</th>\n",
       "      <td>1880-04-01</td>\n",
       "      <td>2.111</td>\n",
       "      <td>0.514</td>\n",
       "      <td>Åland</td>\n",
       "    </tr>\n",
       "    <tr>\n",
       "      <th>1638</th>\n",
       "      <td>1880-05-01</td>\n",
       "      <td>6.393</td>\n",
       "      <td>0.727</td>\n",
       "      <td>Åland</td>\n",
       "    </tr>\n",
       "  </tbody>\n",
       "</table>\n",
       "</div>"
      ],
      "text/plain": [
       "             dt  AverageTemperature  AverageTemperatureUncertainty Country\n",
       "1634 1880-01-01              -1.928                          1.186   Åland\n",
       "1635 1880-02-01              -0.920                          0.927   Åland\n",
       "1636 1880-03-01              -0.838                          0.671   Åland\n",
       "1637 1880-04-01               2.111                          0.514   Åland\n",
       "1638 1880-05-01               6.393                          0.727   Åland"
      ]
     },
     "execution_count": 11,
     "metadata": {},
     "output_type": "execute_result"
    }
   ],
   "source": [
    "# the head of the working table\n",
    "country_filt.head()"
   ]
  },
  {
   "cell_type": "code",
   "execution_count": 12,
   "id": "33556da7",
   "metadata": {
    "scrolled": true,
    "slideshow": {
     "slide_type": "fragment"
    }
   },
   "outputs": [
    {
     "data": {
      "text/plain": [
       "383996"
      ]
     },
     "execution_count": 12,
     "metadata": {},
     "output_type": "execute_result"
    }
   ],
   "source": [
    "# total remaining records\n",
    "country_filt.shape[0]"
   ]
  },
  {
   "cell_type": "markdown",
   "id": "bbf8c242",
   "metadata": {
    "slideshow": {
     "slide_type": "slide"
    }
   },
   "source": [
    "We will now take a look at the number of distinct `Country` entries in this table, primarily to ensure there are no duplicates but also to get a sense of how global this dataset really is."
   ]
  },
  {
   "cell_type": "code",
   "execution_count": 13,
   "id": "f4283cc0",
   "metadata": {
    "scrolled": true,
    "slideshow": {
     "slide_type": "fragment"
    }
   },
   "outputs": [
    {
     "name": "stdout",
     "output_type": "stream",
     "text": [
      "['Afghanistan' 'Africa' 'Albania' 'Algeria' 'American Samoa' 'Andorra'\n",
      " 'Angola' 'Anguilla' 'Antigua And Barbuda' 'Argentina' 'Armenia' 'Aruba'\n",
      " 'Asia' 'Australia' 'Austria' 'Azerbaijan' 'Bahamas' 'Bahrain'\n",
      " 'Baker Island' 'Bangladesh' 'Barbados' 'Belarus' 'Belgium' 'Belize'\n",
      " 'Benin' 'Bhutan' 'Bolivia' 'Bonaire, Saint Eustatius And Saba'\n",
      " 'Bosnia And Herzegovina' 'Botswana' 'Brazil' 'British Virgin Islands'\n",
      " 'Bulgaria' 'Burkina Faso' 'Burma' 'Burundi' 'Cambodia' 'Cameroon'\n",
      " 'Canada' 'Cape Verde' 'Cayman Islands' 'Central African Republic' 'Chad'\n",
      " 'Chile' 'China' 'Christmas Island' 'Colombia' 'Comoros' 'Congo'\n",
      " 'Congo (Democratic Republic Of The)' 'Costa Rica' 'Croatia' 'Cuba'\n",
      " 'Curaçao' 'Cyprus' 'Czech Republic' \"Côte D'Ivoire\" 'Denmark'\n",
      " 'Denmark (Europe)' 'Djibouti' 'Dominica' 'Dominican Republic' 'Ecuador'\n",
      " 'Egypt' 'El Salvador' 'Equatorial Guinea' 'Eritrea' 'Estonia' 'Ethiopia'\n",
      " 'Europe' 'Falkland Islands (Islas Malvinas)' 'Faroe Islands'\n",
      " 'Federated States Of Micronesia' 'Fiji' 'Finland' 'France'\n",
      " 'France (Europe)' 'French Guiana' 'French Polynesia'\n",
      " 'French Southern And Antarctic Lands' 'Gabon' 'Gambia' 'Gaza Strip'\n",
      " 'Georgia' 'Germany' 'Ghana' 'Greece' 'Greenland' 'Grenada' 'Guadeloupe'\n",
      " 'Guam' 'Guatemala' 'Guernsey' 'Guinea' 'Guinea Bissau' 'Guyana' 'Haiti'\n",
      " 'Heard Island And Mcdonald Islands' 'Honduras' 'Hong Kong' 'Hungary'\n",
      " 'Iceland' 'India' 'Indonesia' 'Iran' 'Iraq' 'Ireland' 'Isle Of Man'\n",
      " 'Israel' 'Italy' 'Jamaica' 'Japan' 'Jersey' 'Jordan' 'Kazakhstan' 'Kenya'\n",
      " 'Kingman Reef' 'Kiribati' 'Kuwait' 'Kyrgyzstan' 'Laos' 'Latvia' 'Lebanon'\n",
      " 'Lesotho' 'Liberia' 'Libya' 'Liechtenstein' 'Lithuania' 'Luxembourg'\n",
      " 'Macau' 'Macedonia' 'Madagascar' 'Malawi' 'Malaysia' 'Mali' 'Malta'\n",
      " 'Martinique' 'Mauritania' 'Mauritius' 'Mayotte' 'Mexico' 'Moldova'\n",
      " 'Monaco' 'Mongolia' 'Montenegro' 'Montserrat' 'Morocco' 'Mozambique'\n",
      " 'Namibia' 'Nepal' 'Netherlands' 'Netherlands (Europe)' 'New Caledonia'\n",
      " 'New Zealand' 'Nicaragua' 'Niger' 'Nigeria' 'Niue' 'North America'\n",
      " 'North Korea' 'Northern Mariana Islands' 'Norway' 'Oceania' 'Oman'\n",
      " 'Pakistan' 'Palau' 'Palestina' 'Palmyra Atoll' 'Panama'\n",
      " 'Papua New Guinea' 'Paraguay' 'Peru' 'Philippines' 'Poland' 'Portugal'\n",
      " 'Puerto Rico' 'Qatar' 'Reunion' 'Romania' 'Russia' 'Rwanda'\n",
      " 'Saint Barthélemy' 'Saint Kitts And Nevis' 'Saint Lucia' 'Saint Martin'\n",
      " 'Saint Pierre And Miquelon' 'Saint Vincent And The Grenadines' 'Samoa'\n",
      " 'San Marino' 'Sao Tome And Principe' 'Saudi Arabia' 'Senegal' 'Serbia'\n",
      " 'Seychelles' 'Sierra Leone' 'Singapore' 'Sint Maarten' 'Slovakia'\n",
      " 'Slovenia' 'Solomon Islands' 'Somalia' 'South Africa' 'South America'\n",
      " 'South Georgia And The South Sandwich Isla' 'South Korea' 'Spain'\n",
      " 'Sri Lanka' 'Sudan' 'Suriname' 'Svalbard And Jan Mayen' 'Swaziland'\n",
      " 'Sweden' 'Switzerland' 'Syria' 'Taiwan' 'Tajikistan' 'Tanzania'\n",
      " 'Thailand' 'Timor Leste' 'Togo' 'Tonga' 'Trinidad And Tobago' 'Tunisia'\n",
      " 'Turkey' 'Turkmenistan' 'Turks And Caicas Islands' 'Uganda' 'Ukraine'\n",
      " 'United Arab Emirates' 'United Kingdom' 'United Kingdom (Europe)'\n",
      " 'United States' 'Uruguay' 'Uzbekistan' 'Venezuela' 'Vietnam'\n",
      " 'Virgin Islands' 'Western Sahara' 'Yemen' 'Zambia' 'Zimbabwe' 'Åland']\n"
     ]
    }
   ],
   "source": [
    "# unique countries in dataset, sorted\n",
    "unique_countries=pd.unique(country_filt['Country'])\n",
    "unique_countries.sort()\n",
    "print(unique_countries)"
   ]
  },
  {
   "cell_type": "markdown",
   "id": "e2e95b00",
   "metadata": {
    "slideshow": {
     "slide_type": "subslide"
    }
   },
   "source": [
    "We can see in the list above that there are continent (c) entries as well as some *apparent* duplicates (d) of countries.\n",
    "\n",
    "* **Continents/regions**:\n",
    "    * `Africa` (c),\n",
    "    * `Asia` (c),\n",
    "    * `Denmark (Europe)` (d),\n",
    "    * `Europe` (c),\n",
    "    * `France (Europe)` (d),\n",
    "    * `Netherlands (Europe)` (d),\n",
    "    * `North America` (c),\n",
    "    * `Oceania` (c),\n",
    "    * `South America` (c),\n",
    "    * `United Kingdom (Europe) (d)`\n",
    "\n",
    "After doing some digging, the Berkeley Earth data page shows that `France (Europe)` refers to mainland France while `France` refers to mainland France **and** any overseas French colonies/territories (e.g., Réunion in Africa, New Caledonia in Oceania, Suriname in South America).\n",
    "\n",
    "In other words, it turns out, in fact, that **these are not duplicates**.\n",
    "\n",
    "Since this analysis will focus on the geographical implications of change in average temperature (not to mention that all three of the aforementioned examples are also included as unique countries), we will keep any of the entries listed as `NAME (Europe)` and drop any of the singular `NAME` countries. Additionally, we will drop any of the `Country` names that are, in fact, entire continents, as this is too large an area to consider for the purposes of our analysis.\n",
    "\n",
    "Other noticings:\n",
    "* **Naming** (not concerning, just good to know alternative names/spelling):\n",
    "    * `Palestina` (alt. naming),\n",
    "    * `South Georgia And The South Sandwich Isla` (name cut off),\n",
    "    * `Turks And Caicas Islands`, (alt. spelling)\n"
   ]
  },
  {
   "cell_type": "code",
   "execution_count": 14,
   "id": "90dff64b",
   "metadata": {
    "slideshow": {
     "slide_type": "subslide"
    }
   },
   "outputs": [],
   "source": [
    "# dropping continent records and \"colony\" labels\n",
    "country_filt_clean=country_filt[~country_filt['Country'].isin(['Africa',\n",
    "                                                                 'Asia',\n",
    "                                                                 'Denmark',\n",
    "                                                                 'France',\n",
    "                                                                 'Netherlands',\n",
    "                                                                 'North America',\n",
    "                                                                 'Oceania',\n",
    "                                                                 'South America',\n",
    "                                                                 'United Kingdom'\n",
    "                                                                ])]\n",
    "\n",
    "# replacing `NAME (Europe)` in favour of `NAME` records\n",
    "country_filt_clean=country_filt_clean.replace(['Denmark (Europe)',\n",
    "                                                 'France (Europe)',\n",
    "                                                 'Netherlands (Europe)',\n",
    "                                                 'United Kingdom (Europe)'],\n",
    "                                                ['Denmark',\n",
    "                                                 'France',\n",
    "                                                 'Netherlands',\n",
    "                                                 'United Kingdom'\n",
    "                                                ])"
   ]
  },
  {
   "cell_type": "code",
   "execution_count": 15,
   "id": "928a6b86",
   "metadata": {
    "scrolled": true,
    "slideshow": {
     "slide_type": "subslide"
    }
   },
   "outputs": [
    {
     "data": {
      "text/html": [
       "<div>\n",
       "<style scoped>\n",
       "    .dataframe tbody tr th:only-of-type {\n",
       "        vertical-align: middle;\n",
       "    }\n",
       "\n",
       "    .dataframe tbody tr th {\n",
       "        vertical-align: top;\n",
       "    }\n",
       "\n",
       "    .dataframe thead th {\n",
       "        text-align: right;\n",
       "    }\n",
       "</style>\n",
       "<table border=\"1\" class=\"dataframe\">\n",
       "  <thead>\n",
       "    <tr style=\"text-align: right;\">\n",
       "      <th></th>\n",
       "      <th>dt</th>\n",
       "      <th>AverageTemperature</th>\n",
       "      <th>AverageTemperatureUncertainty</th>\n",
       "      <th>Country</th>\n",
       "    </tr>\n",
       "  </thead>\n",
       "  <tbody>\n",
       "    <tr>\n",
       "      <th>1634</th>\n",
       "      <td>1880-01-01</td>\n",
       "      <td>-1.928</td>\n",
       "      <td>1.186</td>\n",
       "      <td>Åland</td>\n",
       "    </tr>\n",
       "    <tr>\n",
       "      <th>1635</th>\n",
       "      <td>1880-02-01</td>\n",
       "      <td>-0.920</td>\n",
       "      <td>0.927</td>\n",
       "      <td>Åland</td>\n",
       "    </tr>\n",
       "    <tr>\n",
       "      <th>1636</th>\n",
       "      <td>1880-03-01</td>\n",
       "      <td>-0.838</td>\n",
       "      <td>0.671</td>\n",
       "      <td>Åland</td>\n",
       "    </tr>\n",
       "    <tr>\n",
       "      <th>1637</th>\n",
       "      <td>1880-04-01</td>\n",
       "      <td>2.111</td>\n",
       "      <td>0.514</td>\n",
       "      <td>Åland</td>\n",
       "    </tr>\n",
       "    <tr>\n",
       "      <th>1638</th>\n",
       "      <td>1880-05-01</td>\n",
       "      <td>6.393</td>\n",
       "      <td>0.727</td>\n",
       "      <td>Åland</td>\n",
       "    </tr>\n",
       "  </tbody>\n",
       "</table>\n",
       "</div>"
      ],
      "text/plain": [
       "             dt  AverageTemperature  AverageTemperatureUncertainty Country\n",
       "1634 1880-01-01              -1.928                          1.186   Åland\n",
       "1635 1880-02-01              -0.920                          0.927   Åland\n",
       "1636 1880-03-01              -0.838                          0.671   Åland\n",
       "1637 1880-04-01               2.111                          0.514   Åland\n",
       "1638 1880-05-01               6.393                          0.727   Åland"
      ]
     },
     "execution_count": 15,
     "metadata": {},
     "output_type": "execute_result"
    }
   ],
   "source": [
    "# looking at the cleaned country table\n",
    "country_filt_clean.head()"
   ]
  },
  {
   "cell_type": "code",
   "execution_count": 16,
   "id": "03b4065d",
   "metadata": {
    "slideshow": {
     "slide_type": "fragment"
    }
   },
   "outputs": [
    {
     "name": "stdout",
     "output_type": "stream",
     "text": [
      "In the 'AvgTempsbyCountry' table, there are 369559 records amongst 233 unique countries.\n"
     ]
    }
   ],
   "source": [
    "# number of records in country table\n",
    "print(f\"In the 'AvgTempsbyCountry' table, there are {country_filt_clean.shape[0]} records amongst {country_filt_clean['Country'].nunique()} unique countries.\")"
   ]
  },
  {
   "cell_type": "code",
   "execution_count": 17,
   "id": "98610f97",
   "metadata": {
    "scrolled": false,
    "slideshow": {
     "slide_type": "slide"
    }
   },
   "outputs": [
    {
     "data": {
      "text/plain": [
       "Text(0, 0.5, 'Count')"
      ]
     },
     "execution_count": 17,
     "metadata": {},
     "output_type": "execute_result"
    },
    {
     "data": {
      "image/png": "[encoded data removed]",
      "text/plain": [
       "<Figure size 1152x432 with 1 Axes>"
      ]
     },
     "metadata": {},
     "output_type": "display_data"
    }
   ],
   "source": [
    "# distribution of ALL temperatures in filtered dataframe\n",
    "sns.set(rc = {'figure.figsize':(16,6)})\n",
    "ax = sns.histplot(country_filt_clean, x='AverageTemperature', binwidth=0.5, color='xkcd:sage', kde=True, legend=False)\n",
    "ax.set_title('Distribution of Average Temperatures (Amongst Countries)')\n",
    "ax.set_xlabel('Average Temperature (°C)')\n",
    "ax.set_ylabel('Count')"
   ]
  },
  {
   "cell_type": "markdown",
   "id": "e82112ac",
   "metadata": {
    "slideshow": {
     "slide_type": "slide"
    }
   },
   "source": [
    "For continuity, we will perform the same degree of \"filtering\" (i.e., from 1880 onward) with the `city` table."
   ]
  },
  {
   "cell_type": "code",
   "execution_count": 80,
   "id": "c5d83a11",
   "metadata": {
    "scrolled": false,
    "slideshow": {
     "slide_type": "fragment"
    }
   },
   "outputs": [
    {
     "data": {
      "text/html": [
       "<div>\n",
       "<style scoped>\n",
       "    .dataframe tbody tr th:only-of-type {\n",
       "        vertical-align: middle;\n",
       "    }\n",
       "\n",
       "    .dataframe tbody tr th {\n",
       "        vertical-align: top;\n",
       "    }\n",
       "\n",
       "    .dataframe thead th {\n",
       "        text-align: right;\n",
       "    }\n",
       "</style>\n",
       "<table border=\"1\" class=\"dataframe\">\n",
       "  <thead>\n",
       "    <tr style=\"text-align: right;\">\n",
       "      <th></th>\n",
       "      <th>dt</th>\n",
       "      <th>AverageTemperature</th>\n",
       "      <th>AverageTemperatureUncertainty</th>\n",
       "      <th>City</th>\n",
       "      <th>Country</th>\n",
       "      <th>Latitude</th>\n",
       "      <th>Longitude</th>\n",
       "    </tr>\n",
       "  </thead>\n",
       "  <tbody>\n",
       "    <tr>\n",
       "      <th>0</th>\n",
       "      <td>1743-11-01</td>\n",
       "      <td>6.068</td>\n",
       "      <td>1.737</td>\n",
       "      <td>Århus</td>\n",
       "      <td>Denmark</td>\n",
       "      <td>57.05N</td>\n",
       "      <td>10.33E</td>\n",
       "    </tr>\n",
       "    <tr>\n",
       "      <th>1</th>\n",
       "      <td>1743-12-01</td>\n",
       "      <td>NaN</td>\n",
       "      <td>NaN</td>\n",
       "      <td>Århus</td>\n",
       "      <td>Denmark</td>\n",
       "      <td>57.05N</td>\n",
       "      <td>10.33E</td>\n",
       "    </tr>\n",
       "    <tr>\n",
       "      <th>2</th>\n",
       "      <td>1744-01-01</td>\n",
       "      <td>NaN</td>\n",
       "      <td>NaN</td>\n",
       "      <td>Århus</td>\n",
       "      <td>Denmark</td>\n",
       "      <td>57.05N</td>\n",
       "      <td>10.33E</td>\n",
       "    </tr>\n",
       "    <tr>\n",
       "      <th>3</th>\n",
       "      <td>1744-02-01</td>\n",
       "      <td>NaN</td>\n",
       "      <td>NaN</td>\n",
       "      <td>Århus</td>\n",
       "      <td>Denmark</td>\n",
       "      <td>57.05N</td>\n",
       "      <td>10.33E</td>\n",
       "    </tr>\n",
       "    <tr>\n",
       "      <th>4</th>\n",
       "      <td>1744-03-01</td>\n",
       "      <td>NaN</td>\n",
       "      <td>NaN</td>\n",
       "      <td>Århus</td>\n",
       "      <td>Denmark</td>\n",
       "      <td>57.05N</td>\n",
       "      <td>10.33E</td>\n",
       "    </tr>\n",
       "  </tbody>\n",
       "</table>\n",
       "</div>"
      ],
      "text/plain": [
       "          dt  AverageTemperature  AverageTemperatureUncertainty   City  \\\n",
       "0 1743-11-01               6.068                          1.737  Århus   \n",
       "1 1743-12-01                 NaN                            NaN  Århus   \n",
       "2 1744-01-01                 NaN                            NaN  Århus   \n",
       "3 1744-02-01                 NaN                            NaN  Århus   \n",
       "4 1744-03-01                 NaN                            NaN  Århus   \n",
       "\n",
       "   Country Latitude Longitude  \n",
       "0  Denmark   57.05N    10.33E  \n",
       "1  Denmark   57.05N    10.33E  \n",
       "2  Denmark   57.05N    10.33E  \n",
       "3  Denmark   57.05N    10.33E  \n",
       "4  Denmark   57.05N    10.33E  "
      ]
     },
     "execution_count": 80,
     "metadata": {},
     "output_type": "execute_result"
    }
   ],
   "source": [
    "city.head()"
   ]
  },
  {
   "cell_type": "code",
   "execution_count": 19,
   "id": "77f58760",
   "metadata": {
    "slideshow": {
     "slide_type": "fragment"
    }
   },
   "outputs": [
    {
     "data": {
      "text/plain": [
       "8599212"
      ]
     },
     "execution_count": 19,
     "metadata": {},
     "output_type": "execute_result"
    }
   ],
   "source": [
    "city.shape[0]"
   ]
  },
  {
   "cell_type": "code",
   "execution_count": 20,
   "id": "501c8eee",
   "metadata": {
    "scrolled": true,
    "slideshow": {
     "slide_type": "fragment"
    }
   },
   "outputs": [
    {
     "data": {
      "text/plain": [
       "dt                               datetime64[ns]\n",
       "AverageTemperature                      float64\n",
       "AverageTemperatureUncertainty           float64\n",
       "City                                     object\n",
       "Country                                  object\n",
       "Latitude                                 object\n",
       "Longitude                                object\n",
       "dtype: object"
      ]
     },
     "execution_count": 20,
     "metadata": {},
     "output_type": "execute_result"
    }
   ],
   "source": [
    "# data types\n",
    "city.dtypes"
   ]
  },
  {
   "cell_type": "markdown",
   "id": "03e7c897",
   "metadata": {
    "slideshow": {
     "slide_type": "slide"
    }
   },
   "source": [
    "In this table, we have the following columns:\n",
    "* `dt` (datetime): date (YYYY-MM-DD), observations collected monthly from 1743-11-01 through 2013-09-01\n",
    "* `AverageTemperature` (float): average temperature, recorded in degrees Celsius\n",
    "* `AverageTemperatureUncertainty` (float): the 95% confidence interval around the average\n",
    "* `City` (object, string): city name\n",
    "* `Country` (object, string): country name\n",
    "* `Latitude` (object, string): geo-coordinates, latitude (might need to be cleaned if used)\n",
    "* `Longitude` (object, string): geo-coordinates, longitude (might need to be cleaned if used)\n",
    "\n",
    "Similarly, now with over 8.5 million records, we will begin by cleaning the `city` table to see how many NaN values exist and where in the table they fall."
   ]
  },
  {
   "cell_type": "code",
   "execution_count": 21,
   "id": "14f09d75",
   "metadata": {
    "scrolled": true,
    "slideshow": {
     "slide_type": "subslide"
    }
   },
   "outputs": [
    {
     "data": {
      "text/plain": [
       "dt                                    0\n",
       "AverageTemperature               364130\n",
       "AverageTemperatureUncertainty    364130\n",
       "City                                  0\n",
       "Country                               0\n",
       "Latitude                              0\n",
       "Longitude                             0\n",
       "dtype: int64"
      ]
     },
     "execution_count": 21,
     "metadata": {},
     "output_type": "execute_result"
    }
   ],
   "source": [
    "# checking for NaNs (count by column)\n",
    "city.isna().sum()"
   ]
  },
  {
   "cell_type": "code",
   "execution_count": 22,
   "id": "d140e656",
   "metadata": {
    "slideshow": {
     "slide_type": "fragment"
    }
   },
   "outputs": [
    {
     "data": {
      "text/plain": [
       "5633253"
      ]
     },
     "execution_count": 22,
     "metadata": {},
     "output_type": "execute_result"
    }
   ],
   "source": [
    "# filtered by date (1880 onwards)\n",
    "city_filt=city[(city['dt']>'1879-12-31')]\n",
    "city_filt.shape[0]"
   ]
  },
  {
   "cell_type": "code",
   "execution_count": 23,
   "id": "1f9ea02a",
   "metadata": {
    "scrolled": true,
    "slideshow": {
     "slide_type": "fragment"
    }
   },
   "outputs": [
    {
     "data": {
      "text/plain": [
       "dt                                   0\n",
       "AverageTemperature               10780\n",
       "AverageTemperatureUncertainty    10780\n",
       "City                                 0\n",
       "Country                              0\n",
       "Latitude                             0\n",
       "Longitude                            0\n",
       "dtype: int64"
      ]
     },
     "execution_count": 23,
     "metadata": {},
     "output_type": "execute_result"
    }
   ],
   "source": [
    "city_filt.isna().sum()"
   ]
  },
  {
   "cell_type": "markdown",
   "id": "facb2f9a",
   "metadata": {
    "slideshow": {
     "slide_type": "subslide"
    }
   },
   "source": [
    "After filtering by date, we now have 10,780 missing temperature records out of 5,633,253 in total (again, < 1%).\n",
    "\n",
    "Again, now we can more confidently drop the NaN values that remain."
   ]
  },
  {
   "cell_type": "code",
   "execution_count": 24,
   "id": "cb49cfad",
   "metadata": {
    "slideshow": {
     "slide_type": "fragment"
    }
   },
   "outputs": [
    {
     "data": {
      "text/plain": [
       "dt                               0\n",
       "AverageTemperature               0\n",
       "AverageTemperatureUncertainty    0\n",
       "City                             0\n",
       "Country                          0\n",
       "Latitude                         0\n",
       "Longitude                        0\n",
       "dtype: int64"
      ]
     },
     "execution_count": 24,
     "metadata": {},
     "output_type": "execute_result"
    }
   ],
   "source": [
    "# drop NaNs inplace\n",
    "city_filt.dropna(how='any',axis=0, inplace=True)\n",
    "\n",
    "# confirm\n",
    "city_filt.isna().sum()"
   ]
  },
  {
   "cell_type": "code",
   "execution_count": 82,
   "id": "0ea85a9d",
   "metadata": {
    "scrolled": true,
    "slideshow": {
     "slide_type": "fragment"
    }
   },
   "outputs": [
    {
     "data": {
      "text/html": [
       "<div>\n",
       "<style scoped>\n",
       "    .dataframe tbody tr th:only-of-type {\n",
       "        vertical-align: middle;\n",
       "    }\n",
       "\n",
       "    .dataframe tbody tr th {\n",
       "        vertical-align: top;\n",
       "    }\n",
       "\n",
       "    .dataframe thead th {\n",
       "        text-align: right;\n",
       "    }\n",
       "</style>\n",
       "<table border=\"1\" class=\"dataframe\">\n",
       "  <thead>\n",
       "    <tr style=\"text-align: right;\">\n",
       "      <th></th>\n",
       "      <th>dt</th>\n",
       "      <th>AverageTemperature</th>\n",
       "      <th>AverageTemperatureUncertainty</th>\n",
       "      <th>City</th>\n",
       "      <th>Country</th>\n",
       "      <th>Latitude</th>\n",
       "      <th>Longitude</th>\n",
       "      <th>cardinal_NS</th>\n",
       "      <th>cardinal_WE</th>\n",
       "      <th>hemisphere</th>\n",
       "    </tr>\n",
       "  </thead>\n",
       "  <tbody>\n",
       "    <tr>\n",
       "      <th>1634</th>\n",
       "      <td>1880-01-01</td>\n",
       "      <td>-0.356</td>\n",
       "      <td>1.029</td>\n",
       "      <td>Århus</td>\n",
       "      <td>Denmark</td>\n",
       "      <td>57.05N</td>\n",
       "      <td>10.33E</td>\n",
       "      <td>N</td>\n",
       "      <td>E</td>\n",
       "      <td>NE</td>\n",
       "    </tr>\n",
       "    <tr>\n",
       "      <th>1635</th>\n",
       "      <td>1880-02-01</td>\n",
       "      <td>1.503</td>\n",
       "      <td>0.290</td>\n",
       "      <td>Århus</td>\n",
       "      <td>Denmark</td>\n",
       "      <td>57.05N</td>\n",
       "      <td>10.33E</td>\n",
       "      <td>N</td>\n",
       "      <td>E</td>\n",
       "      <td>NE</td>\n",
       "    </tr>\n",
       "    <tr>\n",
       "      <th>1636</th>\n",
       "      <td>1880-03-01</td>\n",
       "      <td>2.730</td>\n",
       "      <td>0.565</td>\n",
       "      <td>Århus</td>\n",
       "      <td>Denmark</td>\n",
       "      <td>57.05N</td>\n",
       "      <td>10.33E</td>\n",
       "      <td>N</td>\n",
       "      <td>E</td>\n",
       "      <td>NE</td>\n",
       "    </tr>\n",
       "    <tr>\n",
       "      <th>1637</th>\n",
       "      <td>1880-04-01</td>\n",
       "      <td>6.505</td>\n",
       "      <td>0.411</td>\n",
       "      <td>Århus</td>\n",
       "      <td>Denmark</td>\n",
       "      <td>57.05N</td>\n",
       "      <td>10.33E</td>\n",
       "      <td>N</td>\n",
       "      <td>E</td>\n",
       "      <td>NE</td>\n",
       "    </tr>\n",
       "    <tr>\n",
       "      <th>1638</th>\n",
       "      <td>1880-05-01</td>\n",
       "      <td>10.334</td>\n",
       "      <td>0.632</td>\n",
       "      <td>Århus</td>\n",
       "      <td>Denmark</td>\n",
       "      <td>57.05N</td>\n",
       "      <td>10.33E</td>\n",
       "      <td>N</td>\n",
       "      <td>E</td>\n",
       "      <td>NE</td>\n",
       "    </tr>\n",
       "  </tbody>\n",
       "</table>\n",
       "</div>"
      ],
      "text/plain": [
       "             dt  AverageTemperature  AverageTemperatureUncertainty   City  \\\n",
       "1634 1880-01-01              -0.356                          1.029  Århus   \n",
       "1635 1880-02-01               1.503                          0.290  Århus   \n",
       "1636 1880-03-01               2.730                          0.565  Århus   \n",
       "1637 1880-04-01               6.505                          0.411  Århus   \n",
       "1638 1880-05-01              10.334                          0.632  Århus   \n",
       "\n",
       "      Country Latitude Longitude cardinal_NS cardinal_WE hemisphere  \n",
       "1634  Denmark   57.05N    10.33E           N           E         NE  \n",
       "1635  Denmark   57.05N    10.33E           N           E         NE  \n",
       "1636  Denmark   57.05N    10.33E           N           E         NE  \n",
       "1637  Denmark   57.05N    10.33E           N           E         NE  \n",
       "1638  Denmark   57.05N    10.33E           N           E         NE  "
      ]
     },
     "execution_count": 82,
     "metadata": {},
     "output_type": "execute_result"
    }
   ],
   "source": [
    "# the head of the working table\n",
    "city_filt.head()"
   ]
  },
  {
   "cell_type": "markdown",
   "id": "5a7605e3",
   "metadata": {
    "slideshow": {
     "slide_type": "slide"
    }
   },
   "source": [
    "We will now look at the countries that are represented in the `city` table."
   ]
  },
  {
   "cell_type": "code",
   "execution_count": 26,
   "id": "bcb9e115",
   "metadata": {
    "scrolled": true,
    "slideshow": {
     "slide_type": "fragment"
    }
   },
   "outputs": [
    {
     "name": "stdout",
     "output_type": "stream",
     "text": [
      "['Afghanistan' 'Albania' 'Algeria' 'Angola' 'Argentina' 'Armenia'\n",
      " 'Australia' 'Austria' 'Azerbaijan' 'Bahamas' 'Bahrain' 'Bangladesh'\n",
      " 'Belarus' 'Belgium' 'Benin' 'Bolivia' 'Bosnia And Herzegovina' 'Botswana'\n",
      " 'Brazil' 'Bulgaria' 'Burkina Faso' 'Burma' 'Burundi' 'Cambodia'\n",
      " 'Cameroon' 'Canada' 'Central African Republic' 'Chad' 'Chile' 'China'\n",
      " 'Colombia' 'Congo' 'Congo (Democratic Republic Of The)' 'Costa Rica'\n",
      " 'Croatia' 'Cuba' 'Cyprus' 'Czech Republic' \"Côte D'Ivoire\" 'Denmark'\n",
      " 'Djibouti' 'Dominican Republic' 'Ecuador' 'Egypt' 'El Salvador'\n",
      " 'Equatorial Guinea' 'Eritrea' 'Estonia' 'Ethiopia' 'Finland' 'France'\n",
      " 'Gabon' 'Gambia' 'Georgia' 'Germany' 'Ghana' 'Greece' 'Guatemala'\n",
      " 'Guinea' 'Guinea Bissau' 'Guyana' 'Haiti' 'Honduras' 'Hong Kong'\n",
      " 'Hungary' 'Iceland' 'India' 'Indonesia' 'Iran' 'Iraq' 'Ireland' 'Israel'\n",
      " 'Italy' 'Jamaica' 'Japan' 'Jordan' 'Kazakhstan' 'Kenya' 'Laos' 'Latvia'\n",
      " 'Lebanon' 'Lesotho' 'Liberia' 'Libya' 'Lithuania' 'Macedonia'\n",
      " 'Madagascar' 'Malawi' 'Malaysia' 'Mali' 'Mauritania' 'Mauritius' 'Mexico'\n",
      " 'Moldova' 'Mongolia' 'Montenegro' 'Morocco' 'Mozambique' 'Namibia'\n",
      " 'Nepal' 'Netherlands' 'New Zealand' 'Nicaragua' 'Niger' 'Nigeria'\n",
      " 'Norway' 'Oman' 'Pakistan' 'Panama' 'Papua New Guinea' 'Paraguay' 'Peru'\n",
      " 'Philippines' 'Poland' 'Portugal' 'Puerto Rico' 'Qatar' 'Reunion'\n",
      " 'Romania' 'Russia' 'Rwanda' 'Saudi Arabia' 'Senegal' 'Serbia'\n",
      " 'Sierra Leone' 'Singapore' 'Slovakia' 'Slovenia' 'Somalia' 'South Africa'\n",
      " 'South Korea' 'Spain' 'Sri Lanka' 'Sudan' 'Suriname' 'Swaziland' 'Sweden'\n",
      " 'Switzerland' 'Syria' 'Taiwan' 'Tajikistan' 'Tanzania' 'Thailand' 'Togo'\n",
      " 'Tunisia' 'Turkey' 'Turkmenistan' 'Uganda' 'Ukraine'\n",
      " 'United Arab Emirates' 'United Kingdom' 'United States' 'Uruguay'\n",
      " 'Uzbekistan' 'Venezuela' 'Vietnam' 'Yemen' 'Zambia' 'Zimbabwe']\n"
     ]
    }
   ],
   "source": [
    "# unique countries in dataset, sorted\n",
    "unique_countries = pd.unique(city_filt['Country'])\n",
    "unique_countries.sort()\n",
    "print(unique_countries)"
   ]
  },
  {
   "cell_type": "markdown",
   "id": "11a47e53",
   "metadata": {
    "slideshow": {
     "slide_type": "fragment"
    }
   },
   "source": [
    "We don't seem to have the same problem with naming of countries in the `city` table as we did with the `country` table, which is great."
   ]
  },
  {
   "cell_type": "code",
   "execution_count": 27,
   "id": "fc7b1866",
   "metadata": {
    "scrolled": true,
    "slideshow": {
     "slide_type": "fragment"
    }
   },
   "outputs": [
    {
     "name": "stdout",
     "output_type": "stream",
     "text": [
      "In the 'AvgTempsbyCity' table, there are 5622473 records amongst 3448 unique cities across 159 unique countries.\n"
     ]
    }
   ],
   "source": [
    "#remaining records\n",
    "print(f\"In the 'AvgTempsbyCity' table, there are {city_filt.shape[0]} records amongst {city_filt['City'].nunique()} unique cities across {city_filt['Country'].nunique()} unique countries.\")"
   ]
  },
  {
   "cell_type": "code",
   "execution_count": 28,
   "id": "2c57f1a3",
   "metadata": {
    "scrolled": false,
    "slideshow": {
     "slide_type": "slide"
    }
   },
   "outputs": [
    {
     "data": {
      "text/html": [
       "<div>\n",
       "<style scoped>\n",
       "    .dataframe tbody tr th:only-of-type {\n",
       "        vertical-align: middle;\n",
       "    }\n",
       "\n",
       "    .dataframe tbody tr th {\n",
       "        vertical-align: top;\n",
       "    }\n",
       "\n",
       "    .dataframe thead th {\n",
       "        text-align: right;\n",
       "    }\n",
       "</style>\n",
       "<table border=\"1\" class=\"dataframe\">\n",
       "  <thead>\n",
       "    <tr style=\"text-align: right;\">\n",
       "      <th></th>\n",
       "      <th>dt</th>\n",
       "      <th>AverageTemperature</th>\n",
       "      <th>AverageTemperatureUncertainty</th>\n",
       "      <th>City</th>\n",
       "      <th>Country</th>\n",
       "      <th>Latitude</th>\n",
       "      <th>Longitude</th>\n",
       "      <th>cardinal_NS</th>\n",
       "      <th>cardinal_WE</th>\n",
       "      <th>hemisphere</th>\n",
       "    </tr>\n",
       "  </thead>\n",
       "  <tbody>\n",
       "    <tr>\n",
       "      <th>1634</th>\n",
       "      <td>1880-01-01</td>\n",
       "      <td>-0.356</td>\n",
       "      <td>1.029</td>\n",
       "      <td>Århus</td>\n",
       "      <td>Denmark</td>\n",
       "      <td>57.05N</td>\n",
       "      <td>10.33E</td>\n",
       "      <td>N</td>\n",
       "      <td>E</td>\n",
       "      <td>NE</td>\n",
       "    </tr>\n",
       "    <tr>\n",
       "      <th>1635</th>\n",
       "      <td>1880-02-01</td>\n",
       "      <td>1.503</td>\n",
       "      <td>0.290</td>\n",
       "      <td>Århus</td>\n",
       "      <td>Denmark</td>\n",
       "      <td>57.05N</td>\n",
       "      <td>10.33E</td>\n",
       "      <td>N</td>\n",
       "      <td>E</td>\n",
       "      <td>NE</td>\n",
       "    </tr>\n",
       "    <tr>\n",
       "      <th>1636</th>\n",
       "      <td>1880-03-01</td>\n",
       "      <td>2.730</td>\n",
       "      <td>0.565</td>\n",
       "      <td>Århus</td>\n",
       "      <td>Denmark</td>\n",
       "      <td>57.05N</td>\n",
       "      <td>10.33E</td>\n",
       "      <td>N</td>\n",
       "      <td>E</td>\n",
       "      <td>NE</td>\n",
       "    </tr>\n",
       "    <tr>\n",
       "      <th>1637</th>\n",
       "      <td>1880-04-01</td>\n",
       "      <td>6.505</td>\n",
       "      <td>0.411</td>\n",
       "      <td>Århus</td>\n",
       "      <td>Denmark</td>\n",
       "      <td>57.05N</td>\n",
       "      <td>10.33E</td>\n",
       "      <td>N</td>\n",
       "      <td>E</td>\n",
       "      <td>NE</td>\n",
       "    </tr>\n",
       "    <tr>\n",
       "      <th>1638</th>\n",
       "      <td>1880-05-01</td>\n",
       "      <td>10.334</td>\n",
       "      <td>0.632</td>\n",
       "      <td>Århus</td>\n",
       "      <td>Denmark</td>\n",
       "      <td>57.05N</td>\n",
       "      <td>10.33E</td>\n",
       "      <td>N</td>\n",
       "      <td>E</td>\n",
       "      <td>NE</td>\n",
       "    </tr>\n",
       "  </tbody>\n",
       "</table>\n",
       "</div>"
      ],
      "text/plain": [
       "             dt  AverageTemperature  AverageTemperatureUncertainty   City  \\\n",
       "1634 1880-01-01              -0.356                          1.029  Århus   \n",
       "1635 1880-02-01               1.503                          0.290  Århus   \n",
       "1636 1880-03-01               2.730                          0.565  Århus   \n",
       "1637 1880-04-01               6.505                          0.411  Århus   \n",
       "1638 1880-05-01              10.334                          0.632  Århus   \n",
       "\n",
       "      Country Latitude Longitude cardinal_NS cardinal_WE hemisphere  \n",
       "1634  Denmark   57.05N    10.33E           N           E         NE  \n",
       "1635  Denmark   57.05N    10.33E           N           E         NE  \n",
       "1636  Denmark   57.05N    10.33E           N           E         NE  \n",
       "1637  Denmark   57.05N    10.33E           N           E         NE  \n",
       "1638  Denmark   57.05N    10.33E           N           E         NE  "
      ]
     },
     "execution_count": 28,
     "metadata": {},
     "output_type": "execute_result"
    }
   ],
   "source": [
    "# identifying each unique city by its hemispheres (via lat/long)\n",
    "city_filt['cardinal_NS'] = city_filt['Latitude'].str[-1:]\n",
    "city_filt['cardinal_WE'] = city_filt['Longitude'].str[-1:]\n",
    "city_filt['hemisphere'] = city_filt['cardinal_NS'] + city_filt['cardinal_WE']\n",
    "city_filt.head()"
   ]
  },
  {
   "cell_type": "markdown",
   "id": "1894a915",
   "metadata": {
    "slideshow": {
     "slide_type": "fragment"
    }
   },
   "source": [
    "[Back to TOC](#TOC)"
   ]
  },
  {
   "cell_type": "markdown",
   "id": "264fd34f",
   "metadata": {
    "slideshow": {
     "slide_type": "slide"
    }
   },
   "source": [
    "**** \n",
    "<a id='EDA'></a>\n",
    "### 3. [Exploratory Data Analysis (EDA)](#EDA)\n",
    "\n",
    "Now that we have cleaned up and filtered both tables, we will look at the extremes of temperature records, in addition to the spread of average temperatures (across all years) across the globe."
   ]
  },
  {
   "cell_type": "code",
   "execution_count": 29,
   "id": "24cbe2f9",
   "metadata": {
    "scrolled": true,
    "slideshow": {
     "slide_type": "subslide"
    }
   },
   "outputs": [
    {
     "data": {
      "text/html": [
       "<div>\n",
       "<style scoped>\n",
       "    .dataframe tbody tr th:only-of-type {\n",
       "        vertical-align: middle;\n",
       "    }\n",
       "\n",
       "    .dataframe tbody tr th {\n",
       "        vertical-align: top;\n",
       "    }\n",
       "\n",
       "    .dataframe thead th {\n",
       "        text-align: right;\n",
       "    }\n",
       "</style>\n",
       "<table border=\"1\" class=\"dataframe\">\n",
       "  <thead>\n",
       "    <tr style=\"text-align: right;\">\n",
       "      <th></th>\n",
       "      <th>count</th>\n",
       "      <th>mean</th>\n",
       "      <th>std</th>\n",
       "      <th>min</th>\n",
       "      <th>25%</th>\n",
       "      <th>50%</th>\n",
       "      <th>75%</th>\n",
       "      <th>max</th>\n",
       "    </tr>\n",
       "  </thead>\n",
       "  <tbody>\n",
       "    <tr>\n",
       "      <th>AverageTemperature</th>\n",
       "      <td>369559.0</td>\n",
       "      <td>19.057251</td>\n",
       "      <td>10.214798</td>\n",
       "      <td>-37.177</td>\n",
       "      <td>13.590</td>\n",
       "      <td>23.403</td>\n",
       "      <td>26.327</td>\n",
       "      <td>38.842</td>\n",
       "    </tr>\n",
       "    <tr>\n",
       "      <th>AverageTemperatureUncertainty</th>\n",
       "      <td>369559.0</td>\n",
       "      <td>0.508208</td>\n",
       "      <td>0.352316</td>\n",
       "      <td>0.052</td>\n",
       "      <td>0.279</td>\n",
       "      <td>0.407</td>\n",
       "      <td>0.633</td>\n",
       "      <td>8.425</td>\n",
       "    </tr>\n",
       "  </tbody>\n",
       "</table>\n",
       "</div>"
      ],
      "text/plain": [
       "                                  count       mean        std     min     25%  \\\n",
       "AverageTemperature             369559.0  19.057251  10.214798 -37.177  13.590   \n",
       "AverageTemperatureUncertainty  369559.0   0.508208   0.352316   0.052   0.279   \n",
       "\n",
       "                                  50%     75%     max  \n",
       "AverageTemperature             23.403  26.327  38.842  \n",
       "AverageTemperatureUncertainty   0.407   0.633   8.425  "
      ]
     },
     "execution_count": 29,
     "metadata": {},
     "output_type": "execute_result"
    }
   ],
   "source": [
    "country_filt_clean.describe().T"
   ]
  },
  {
   "cell_type": "markdown",
   "id": "38bf3a34",
   "metadata": {
    "slideshow": {
     "slide_type": "fragment"
    }
   },
   "source": [
    "With the quick summary above, we can see that, within the truncated (123-year) dataset, we have:\n",
    "* 369,559 records in total,\n",
    "* a minimum average temperature of -37.177°C 🥶,\n",
    "* a maximum average temperature of 38.842°C 🥵,\n",
    "* a resulting range of nearly 80°C (76.019°C, exactly) across all countries.\n",
    "\n",
    "Now, our breakdown by hemisphere..."
   ]
  },
  {
   "cell_type": "code",
   "execution_count": 30,
   "id": "0325234c",
   "metadata": {
    "scrolled": true,
    "slideshow": {
     "slide_type": "subslide"
    }
   },
   "outputs": [
    {
     "data": {
      "image/png": "[encoded data removed]",
      "text/plain": [
       "<Figure size 1152x432 with 1 Axes>"
      ]
     },
     "metadata": {},
     "output_type": "display_data"
    }
   ],
   "source": [
    "hemi_df = city_filt.groupby('hemisphere')\n",
    "hemi_df = hemi_df.agg({'Country': 'nunique'})\n",
    "hemi_df = hemi_df.reset_index()\n",
    "\n",
    "sns.set(rc = {'figure.figsize':(16,6)})\n",
    "ax = sns.barplot(data=hemi_df, x='hemisphere', y='Country', palette='gist_earth_r')\n",
    "ax.set_title('Count of Unique Countries by Hemisphere')\n",
    "ax.set_xlabel('Hemisphere')\n",
    "ax.set_ylabel('Country Count')\n",
    "\n",
    "# label each bar in barplot\n",
    "for p in ax.patches:\n",
    " height = p.get_height() # get the height of each bar\n",
    " # adding text to each bar\n",
    " ax.text(x = p.get_x()+(p.get_width()/2), # x-coordinate position of data label, padded to be in the middle of the bar\n",
    " y = height+1, # y-coordinate position of data label, padded 100 above bar\n",
    " s = '{:.0f}'.format(height), # data label, formatted to ignore decimals\n",
    " ha = 'center') # sets horizontal alignment (ha) to center"
   ]
  },
  {
   "cell_type": "markdown",
   "id": "759122c6",
   "metadata": {
    "slideshow": {
     "slide_type": "fragment"
    }
   },
   "source": [
    "This breakdown is important to keep in mind if, for example, considering which area of the world is warmest/warming the fastest; the count of cities in the NE quadrant of Earth vastly outnumber those in all others (especially SW). A weighted average would be important to implement in such exploration."
   ]
  },
  {
   "cell_type": "code",
   "execution_count": 31,
   "id": "6485fc4e",
   "metadata": {
    "scrolled": true,
    "slideshow": {
     "slide_type": "subslide"
    }
   },
   "outputs": [
    {
     "data": {
      "text/plain": [
       "Text(0, 0.5, 'Average Temperature')"
      ]
     },
     "execution_count": 31,
     "metadata": {},
     "output_type": "execute_result"
    },
    {
     "data": {
      "image/png": "[encoded data removed]",
      "text/plain": [
       "<Figure size 1152x432 with 1 Axes>"
      ]
     },
     "metadata": {},
     "output_type": "display_data"
    }
   ],
   "source": [
    "# series.boxplot('AverageTemperature', by = 'hemisphere', figsize=(16, 8), color='xkcd:forest green', grid=True)\n",
    "sns.set(rc = {'figure.figsize':(16,6)})\n",
    "ax = sns.boxplot(x='hemisphere', y='AverageTemperature', data=city_filt, color='xkcd:sage')\n",
    "ax.set_title('Average Temperature by Hemisphere Boxplot')\n",
    "ax.set_xlabel('Hemisphere')\n",
    "ax.set_ylabel('Average Temperature')"
   ]
  },
  {
   "cell_type": "markdown",
   "id": "fa892092",
   "metadata": {
    "slideshow": {
     "slide_type": "fragment"
    }
   },
   "source": [
    "Again, we can see that there are not only far more cities included in the dataset from the NE quadrant of the Earth, but that this area also has the greatest range in `AverageTemperature` (as denoted by the spread of whiskers). The region with the smallest range in temperatures is the SE. This is to be expected: the more values within a given group, the more likely there is to be greater variance across a singular quantitative measurement."
   ]
  },
  {
   "cell_type": "code",
   "execution_count": 32,
   "id": "6c44f5f0",
   "metadata": {
    "slideshow": {
     "slide_type": "subslide"
    }
   },
   "outputs": [
    {
     "data": {
      "text/plain": [
       "Text(0, 0.5, 'Count')"
      ]
     },
     "execution_count": 32,
     "metadata": {},
     "output_type": "execute_result"
    },
    {
     "data": {
      "image/png": "[encoded data removed]",
      "text/plain": [
       "<Figure size 1152x432 with 1 Axes>"
      ]
     },
     "metadata": {},
     "output_type": "display_data"
    }
   ],
   "source": [
    "# sns.displot(country_filt, x='AverageTemperature', binwidth=0.5)\n",
    "\n",
    "sns.set(rc = {'figure.figsize':(16,6)})\n",
    "ax = sns.histplot(city_filt, x='AverageTemperature', binwidth=1, color='xkcd:sage', hue='hemisphere', palette='gist_earth_r', alpha=0.4, kde=True, legend=True)\n",
    "ax.set_title('Distribution of Average Temperatures (Cities by Hemisphere)')\n",
    "ax.set_xlabel('Average Temperature (°C)')\n",
    "ax.set_ylabel('Count')"
   ]
  },
  {
   "cell_type": "markdown",
   "id": "0b67301e",
   "metadata": {
    "slideshow": {
     "slide_type": "fragment"
    }
   },
   "source": [
    "[Back to TOC](#TOC)"
   ]
  },
  {
   "cell_type": "markdown",
   "id": "10291e9c",
   "metadata": {
    "slideshow": {
     "slide_type": "slide"
    }
   },
   "source": [
    "<a id='Extremes'></a>\n",
    "#### [Warmest & coldest countries/cities](#Extremes)"
   ]
  },
  {
   "cell_type": "code",
   "execution_count": 33,
   "id": "a1a68ff3",
   "metadata": {
    "slideshow": {
     "slide_type": "fragment"
    }
   },
   "outputs": [
    {
     "data": {
      "text/html": [
       "<div>\n",
       "<style scoped>\n",
       "    .dataframe tbody tr th:only-of-type {\n",
       "        vertical-align: middle;\n",
       "    }\n",
       "\n",
       "    .dataframe tbody tr th {\n",
       "        vertical-align: top;\n",
       "    }\n",
       "\n",
       "    .dataframe thead th {\n",
       "        text-align: right;\n",
       "    }\n",
       "</style>\n",
       "<table border=\"1\" class=\"dataframe\">\n",
       "  <thead>\n",
       "    <tr style=\"text-align: right;\">\n",
       "      <th></th>\n",
       "      <th>dt</th>\n",
       "      <th>AverageTemperature</th>\n",
       "      <th>AverageTemperatureUncertainty</th>\n",
       "      <th>Country</th>\n",
       "    </tr>\n",
       "  </thead>\n",
       "  <tbody>\n",
       "    <tr>\n",
       "      <th>284851</th>\n",
       "      <td>2012-07-01</td>\n",
       "      <td>38.842</td>\n",
       "      <td>0.464</td>\n",
       "      <td>Kuwait</td>\n",
       "    </tr>\n",
       "    <tr>\n",
       "      <th>284707</th>\n",
       "      <td>2000-07-01</td>\n",
       "      <td>38.705</td>\n",
       "      <td>0.467</td>\n",
       "      <td>Kuwait</td>\n",
       "    </tr>\n",
       "    <tr>\n",
       "      <th>284827</th>\n",
       "      <td>2010-07-01</td>\n",
       "      <td>38.495</td>\n",
       "      <td>0.498</td>\n",
       "      <td>Kuwait</td>\n",
       "    </tr>\n",
       "    <tr>\n",
       "      <th>284684</th>\n",
       "      <td>1998-08-01</td>\n",
       "      <td>38.436</td>\n",
       "      <td>0.353</td>\n",
       "      <td>Kuwait</td>\n",
       "    </tr>\n",
       "    <tr>\n",
       "      <th>284708</th>\n",
       "      <td>2000-08-01</td>\n",
       "      <td>38.315</td>\n",
       "      <td>0.593</td>\n",
       "      <td>Kuwait</td>\n",
       "    </tr>\n",
       "    <tr>\n",
       "      <th>284863</th>\n",
       "      <td>2013-07-01</td>\n",
       "      <td>38.234</td>\n",
       "      <td>0.454</td>\n",
       "      <td>Kuwait</td>\n",
       "    </tr>\n",
       "    <tr>\n",
       "      <th>284839</th>\n",
       "      <td>2011-07-01</td>\n",
       "      <td>38.156</td>\n",
       "      <td>0.375</td>\n",
       "      <td>Kuwait</td>\n",
       "    </tr>\n",
       "    <tr>\n",
       "      <th>284696</th>\n",
       "      <td>1999-08-01</td>\n",
       "      <td>38.153</td>\n",
       "      <td>0.442</td>\n",
       "      <td>Kuwait</td>\n",
       "    </tr>\n",
       "    <tr>\n",
       "      <th>284780</th>\n",
       "      <td>2006-08-01</td>\n",
       "      <td>38.100</td>\n",
       "      <td>0.790</td>\n",
       "      <td>Kuwait</td>\n",
       "    </tr>\n",
       "    <tr>\n",
       "      <th>284731</th>\n",
       "      <td>2002-07-01</td>\n",
       "      <td>38.042</td>\n",
       "      <td>0.346</td>\n",
       "      <td>Kuwait</td>\n",
       "    </tr>\n",
       "  </tbody>\n",
       "</table>\n",
       "</div>"
      ],
      "text/plain": [
       "               dt  AverageTemperature  AverageTemperatureUncertainty Country\n",
       "284851 2012-07-01              38.842                          0.464  Kuwait\n",
       "284707 2000-07-01              38.705                          0.467  Kuwait\n",
       "284827 2010-07-01              38.495                          0.498  Kuwait\n",
       "284684 1998-08-01              38.436                          0.353  Kuwait\n",
       "284708 2000-08-01              38.315                          0.593  Kuwait\n",
       "284863 2013-07-01              38.234                          0.454  Kuwait\n",
       "284839 2011-07-01              38.156                          0.375  Kuwait\n",
       "284696 1999-08-01              38.153                          0.442  Kuwait\n",
       "284780 2006-08-01              38.100                          0.790  Kuwait\n",
       "284731 2002-07-01              38.042                          0.346  Kuwait"
      ]
     },
     "execution_count": 33,
     "metadata": {},
     "output_type": "execute_result"
    }
   ],
   "source": [
    "# top 10 warmest temperatures (no aggregation)\n",
    "country_filt_clean.nlargest(10,'AverageTemperature')"
   ]
  },
  {
   "cell_type": "code",
   "execution_count": 34,
   "id": "37f95481",
   "metadata": {
    "scrolled": false,
    "slideshow": {
     "slide_type": "fragment"
    }
   },
   "outputs": [
    {
     "data": {
      "text/html": [
       "<div>\n",
       "<style scoped>\n",
       "    .dataframe tbody tr th:only-of-type {\n",
       "        vertical-align: middle;\n",
       "    }\n",
       "\n",
       "    .dataframe tbody tr th {\n",
       "        vertical-align: top;\n",
       "    }\n",
       "\n",
       "    .dataframe thead th {\n",
       "        text-align: right;\n",
       "    }\n",
       "</style>\n",
       "<table border=\"1\" class=\"dataframe\">\n",
       "  <thead>\n",
       "    <tr style=\"text-align: right;\">\n",
       "      <th></th>\n",
       "      <th>dt</th>\n",
       "      <th>AverageTemperature</th>\n",
       "      <th>AverageTemperatureUncertainty</th>\n",
       "      <th>Country</th>\n",
       "    </tr>\n",
       "  </thead>\n",
       "  <tbody>\n",
       "    <tr>\n",
       "      <th>211035</th>\n",
       "      <td>1918-01-01</td>\n",
       "      <td>-37.177</td>\n",
       "      <td>4.248</td>\n",
       "      <td>Greenland</td>\n",
       "    </tr>\n",
       "    <tr>\n",
       "      <th>210796</th>\n",
       "      <td>1898-02-01</td>\n",
       "      <td>-36.738</td>\n",
       "      <td>2.992</td>\n",
       "      <td>Greenland</td>\n",
       "    </tr>\n",
       "    <tr>\n",
       "      <th>210939</th>\n",
       "      <td>1910-01-01</td>\n",
       "      <td>-36.574</td>\n",
       "      <td>4.706</td>\n",
       "      <td>Greenland</td>\n",
       "    </tr>\n",
       "    <tr>\n",
       "      <th>211815</th>\n",
       "      <td>1983-01-01</td>\n",
       "      <td>-36.332</td>\n",
       "      <td>3.355</td>\n",
       "      <td>Greenland</td>\n",
       "    </tr>\n",
       "    <tr>\n",
       "      <th>210748</th>\n",
       "      <td>1894-02-01</td>\n",
       "      <td>-36.211</td>\n",
       "      <td>2.985</td>\n",
       "      <td>Greenland</td>\n",
       "    </tr>\n",
       "    <tr>\n",
       "      <th>210806</th>\n",
       "      <td>1898-12-01</td>\n",
       "      <td>-36.110</td>\n",
       "      <td>5.670</td>\n",
       "      <td>Greenland</td>\n",
       "    </tr>\n",
       "    <tr>\n",
       "      <th>210712</th>\n",
       "      <td>1891-02-01</td>\n",
       "      <td>-35.916</td>\n",
       "      <td>3.161</td>\n",
       "      <td>Greenland</td>\n",
       "    </tr>\n",
       "    <tr>\n",
       "      <th>210784</th>\n",
       "      <td>1897-02-01</td>\n",
       "      <td>-35.831</td>\n",
       "      <td>3.163</td>\n",
       "      <td>Greenland</td>\n",
       "    </tr>\n",
       "    <tr>\n",
       "      <th>210627</th>\n",
       "      <td>1884-01-01</td>\n",
       "      <td>-35.803</td>\n",
       "      <td>2.772</td>\n",
       "      <td>Greenland</td>\n",
       "    </tr>\n",
       "    <tr>\n",
       "      <th>210952</th>\n",
       "      <td>1911-02-01</td>\n",
       "      <td>-35.611</td>\n",
       "      <td>2.396</td>\n",
       "      <td>Greenland</td>\n",
       "    </tr>\n",
       "  </tbody>\n",
       "</table>\n",
       "</div>"
      ],
      "text/plain": [
       "               dt  AverageTemperature  AverageTemperatureUncertainty  \\\n",
       "211035 1918-01-01             -37.177                          4.248   \n",
       "210796 1898-02-01             -36.738                          2.992   \n",
       "210939 1910-01-01             -36.574                          4.706   \n",
       "211815 1983-01-01             -36.332                          3.355   \n",
       "210748 1894-02-01             -36.211                          2.985   \n",
       "210806 1898-12-01             -36.110                          5.670   \n",
       "210712 1891-02-01             -35.916                          3.161   \n",
       "210784 1897-02-01             -35.831                          3.163   \n",
       "210627 1884-01-01             -35.803                          2.772   \n",
       "210952 1911-02-01             -35.611                          2.396   \n",
       "\n",
       "          Country  \n",
       "211035  Greenland  \n",
       "210796  Greenland  \n",
       "210939  Greenland  \n",
       "211815  Greenland  \n",
       "210748  Greenland  \n",
       "210806  Greenland  \n",
       "210712  Greenland  \n",
       "210784  Greenland  \n",
       "210627  Greenland  \n",
       "210952  Greenland  "
      ]
     },
     "execution_count": 34,
     "metadata": {},
     "output_type": "execute_result"
    }
   ],
   "source": [
    "# top 10 coldest temperatures (no aggregation)\n",
    "country_filt_clean.nsmallest(10,'AverageTemperature')"
   ]
  },
  {
   "cell_type": "markdown",
   "id": "9401fbd0",
   "metadata": {
    "slideshow": {
     "slide_type": "fragment"
    }
   },
   "source": [
    "From the two above outputs, we can see that the 10 warmest and coldest temperatures recorded belong to **Kuwait** and **Greenland**, respectively.\n",
    "\n",
    "In fact, upon deeper digging, Kuwait still holds 18 of the top 20 warmest temperature recordings and Greenland holds more than *60* of the coldest average temperatures.\n",
    "\n",
    "This is informative on its own but what if we wanted to look at the average temperature *across all years*?"
   ]
  },
  {
   "cell_type": "code",
   "execution_count": 35,
   "id": "fa5ca761",
   "metadata": {
    "scrolled": false,
    "slideshow": {
     "slide_type": "subslide"
    }
   },
   "outputs": [
    {
     "data": {
      "text/html": [
       "<div>\n",
       "<style scoped>\n",
       "    .dataframe tbody tr th:only-of-type {\n",
       "        vertical-align: middle;\n",
       "    }\n",
       "\n",
       "    .dataframe tbody tr th {\n",
       "        vertical-align: top;\n",
       "    }\n",
       "\n",
       "    .dataframe thead th {\n",
       "        text-align: right;\n",
       "    }\n",
       "</style>\n",
       "<table border=\"1\" class=\"dataframe\">\n",
       "  <thead>\n",
       "    <tr style=\"text-align: right;\">\n",
       "      <th></th>\n",
       "      <th>AverageTemperature</th>\n",
       "    </tr>\n",
       "    <tr>\n",
       "      <th>Country</th>\n",
       "      <th></th>\n",
       "    </tr>\n",
       "  </thead>\n",
       "  <tbody>\n",
       "    <tr>\n",
       "      <th>Djibouti</th>\n",
       "      <td>28.824230</td>\n",
       "    </tr>\n",
       "    <tr>\n",
       "      <th>Mali</th>\n",
       "      <td>28.515652</td>\n",
       "    </tr>\n",
       "    <tr>\n",
       "      <th>Burkina Faso</th>\n",
       "      <td>28.174345</td>\n",
       "    </tr>\n",
       "    <tr>\n",
       "      <th>Senegal</th>\n",
       "      <td>28.059028</td>\n",
       "    </tr>\n",
       "    <tr>\n",
       "      <th>Aruba</th>\n",
       "      <td>28.018186</td>\n",
       "    </tr>\n",
       "  </tbody>\n",
       "</table>\n",
       "</div>"
      ],
      "text/plain": [
       "              AverageTemperature\n",
       "Country                         \n",
       "Djibouti               28.824230\n",
       "Mali                   28.515652\n",
       "Burkina Faso           28.174345\n",
       "Senegal                28.059028\n",
       "Aruba                  28.018186"
      ]
     },
     "execution_count": 35,
     "metadata": {},
     "output_type": "execute_result"
    }
   ],
   "source": [
    "# warmest 5 countries by average average temperature\n",
    "warmest_countries = country_filt_clean.groupby(['Country'])['AverageTemperature'].mean().sort_values(ascending=False).to_frame()\n",
    "warmest_countries.head()"
   ]
  },
  {
   "cell_type": "code",
   "execution_count": 36,
   "id": "b82b3ee3",
   "metadata": {
    "scrolled": true,
    "slideshow": {
     "slide_type": "fragment"
    }
   },
   "outputs": [
    {
     "data": {
      "text/html": [
       "<div>\n",
       "<style scoped>\n",
       "    .dataframe tbody tr th:only-of-type {\n",
       "        vertical-align: middle;\n",
       "    }\n",
       "\n",
       "    .dataframe tbody tr th {\n",
       "        vertical-align: top;\n",
       "    }\n",
       "\n",
       "    .dataframe thead th {\n",
       "        text-align: right;\n",
       "    }\n",
       "</style>\n",
       "<table border=\"1\" class=\"dataframe\">\n",
       "  <thead>\n",
       "    <tr style=\"text-align: right;\">\n",
       "      <th></th>\n",
       "      <th>AverageTemperature</th>\n",
       "    </tr>\n",
       "    <tr>\n",
       "      <th>Country</th>\n",
       "      <th></th>\n",
       "    </tr>\n",
       "  </thead>\n",
       "  <tbody>\n",
       "    <tr>\n",
       "      <th>Greenland</th>\n",
       "      <td>-18.403868</td>\n",
       "    </tr>\n",
       "    <tr>\n",
       "      <th>Svalbard And Jan Mayen</th>\n",
       "      <td>-7.209146</td>\n",
       "    </tr>\n",
       "    <tr>\n",
       "      <th>Russia</th>\n",
       "      <td>-5.287311</td>\n",
       "    </tr>\n",
       "    <tr>\n",
       "      <th>Canada</th>\n",
       "      <td>-4.922534</td>\n",
       "    </tr>\n",
       "    <tr>\n",
       "      <th>Mongolia</th>\n",
       "      <td>-0.610554</td>\n",
       "    </tr>\n",
       "  </tbody>\n",
       "</table>\n",
       "</div>"
      ],
      "text/plain": [
       "                        AverageTemperature\n",
       "Country                                   \n",
       "Greenland                       -18.403868\n",
       "Svalbard And Jan Mayen           -7.209146\n",
       "Russia                           -5.287311\n",
       "Canada                           -4.922534\n",
       "Mongolia                         -0.610554"
      ]
     },
     "execution_count": 36,
     "metadata": {},
     "output_type": "execute_result"
    }
   ],
   "source": [
    "# coldest 5 countries by average average temperature\n",
    "coldest_countries = country_filt_clean.groupby(['Country'])['AverageTemperature'].mean().sort_values(ascending=True).to_frame()\n",
    "coldest_countries.head()"
   ]
  },
  {
   "cell_type": "markdown",
   "id": "18968769",
   "metadata": {
    "slideshow": {
     "slide_type": "fragment"
    }
   },
   "source": [
    "What's going on here?\n",
    "\n",
    "The coldest country is [significantly] Greenland. Conversely, Kuwait holds several of the warmest temperatures recorded but isn't on the \"top 5 warmest countries on average\" list.\n",
    "\n",
    "Let's check to see all of Kuwait's records."
   ]
  },
  {
   "cell_type": "code",
   "execution_count": 37,
   "id": "cbf4f0bb",
   "metadata": {
    "scrolled": false,
    "slideshow": {
     "slide_type": "subslide"
    }
   },
   "outputs": [
    {
     "data": {
      "text/plain": [
       "(0.0, 200.0)"
      ]
     },
     "execution_count": 37,
     "metadata": {},
     "output_type": "execute_result"
    },
    {
     "data": {
      "image/png": "[encoded data removed]",
      "text/plain": [
       "<Figure size 1152x432 with 1 Axes>"
      ]
     },
     "metadata": {},
     "output_type": "display_data"
    }
   ],
   "source": [
    "# looking at distribution of temperatures in Kuwait\n",
    "kuwait=country_filt_clean[(country_filt_clean['Country']=='Kuwait')]\n",
    "sns.histplot(data=kuwait, x='AverageTemperature', stat='count', binwidth=1, color='xkcd:sage', kde=True).set_title('Distribution of Average Temperatures in Kuwait')\n",
    "# to equally compare with Djibouti, set ranges on x- and y-axis\n",
    "plt.xlim(0, 40)\n",
    "plt.ylim(0, 200)"
   ]
  },
  {
   "cell_type": "code",
   "execution_count": 38,
   "id": "30a5097b",
   "metadata": {
    "scrolled": false,
    "slideshow": {
     "slide_type": "fragment"
    }
   },
   "outputs": [
    {
     "data": {
      "text/plain": [
       "(0.0, 200.0)"
      ]
     },
     "execution_count": 38,
     "metadata": {},
     "output_type": "execute_result"
    },
    {
     "data": {
      "image/png": "[encoded data removed]",
      "text/plain": [
       "<Figure size 1152x432 with 1 Axes>"
      ]
     },
     "metadata": {},
     "output_type": "display_data"
    }
   ],
   "source": [
    "# looking at distribution of temperatures in Djibouti\n",
    "djibouti=country_filt_clean[(country_filt_clean['Country']=='Djibouti')]\n",
    "sns.histplot(data=djibouti, x='AverageTemperature', stat='count', binwidth=1, color='xkcd:sage', kde=True).set_title('Distribution of Average Temperatures in Djibouti')\n",
    "# to equally compare with Kuwait, set ranges on x- and y-axis\n",
    "plt.xlim(0, 40)\n",
    "plt.ylim(0, 200)"
   ]
  },
  {
   "cell_type": "markdown",
   "id": "0ca3fee2",
   "metadata": {
    "slideshow": {
     "slide_type": "fragment"
    }
   },
   "source": [
    "Looking at the two histograms above, we can see why Djibouti takes the crown as the warmest country *on average*: most of its average temperature records are concentrated within the 25-35°C range, whereas Kuwait has a much broader range of average temperatures. Specifically for Kuwait's distribution, the local peaks around 14°C and 20/21°C surely influence the overall average.\n",
    "\n",
    "With that, we are able to concretely answer our first pair of questions. On average,\n",
    "* the **warmest country** is **Djibouti** 🇩🇯, and\n",
    "* the **coldest country** [by far] is **Greenland** 🇬🇱"
   ]
  },
  {
   "cell_type": "code",
   "execution_count": 39,
   "id": "576e0f56",
   "metadata": {
    "scrolled": false,
    "slideshow": {
     "slide_type": "slide"
    }
   },
   "outputs": [],
   "source": [
    "# average temperature for each country\n",
    "countries=np.unique(country_filt_clean['Country'])\n",
    "mean_temp=[]\n",
    "for country in countries:\n",
    "    mean_temp.append(country_filt_clean[country_filt_clean['Country']==country]['AverageTemperature'].mean())\n",
    "\n",
    "\n",
    "data=[dict(\n",
    "        type='choropleth',\n",
    "        locations=countries,\n",
    "        z=mean_temp,\n",
    "        locationmode='country names',\n",
    "        text=countries,\n",
    "        marker=dict(\n",
    "            line=dict(color='rgb(0,0,0)', width=1)),\n",
    "            colorbar=dict(autotick=True, tickprefix='', \n",
    "            title='Average Temperature, °C')\n",
    "            )\n",
    "       ]\n",
    "\n",
    "layout=dict(\n",
    "    title='Average Land Temperature by Country',\n",
    "    geo=dict(\n",
    "        showframe=False,\n",
    "        showocean=True,\n",
    "        oceancolor='rgb(200,250,240)',\n",
    "        projection=dict(\n",
    "        type='orthographic',\n",
    "            rotation=dict(\n",
    "                    lon=60,\n",
    "                    lat=10),\n",
    "        ),\n",
    "        lonaxis=dict(\n",
    "                showgrid=True,\n",
    "                gridcolor='rgb(102, 102, 102)'\n",
    "            ),\n",
    "        lataxis=dict(\n",
    "                showgrid=True,\n",
    "                gridcolor='rgb(102, 102, 102)'\n",
    "                )\n",
    "            ),\n",
    "        )\n",
    "\n",
    "fig=dict(data=data, layout=layout, figsize=(16, 16))\n",
    "py.iplot(fig, validate=False, filename='worldmap')"
   ]
  },
  {
   "cell_type": "code",
   "execution_count": 40,
   "id": "8959199f",
   "metadata": {
    "scrolled": true,
    "slideshow": {
     "slide_type": "slide"
    }
   },
   "outputs": [],
   "source": [
    "# here's an excessively long horizontal bar plot of average temperatures for ALL countries\n",
    "mean_temp_bar, countries_bar=(list(x) for x in zip(*sorted(zip(mean_temp, countries), reverse=True)))\n",
    "sns.set(font_scale=0.9) \n",
    "f,ax=plt.subplots(figsize=(18, 50))\n",
    "colors_cw=sns.color_palette('coolwarm', len(countries))\n",
    "sns.barplot(np.round(mean_temp_bar, decimals=2), countries_bar, palette=colors_cw[::-1])\n",
    "ax.bar_label(ax.containers[0])\n",
    "text=ax.set(xlabel='Average Temperature (°C)', title='Average Land Temperature (1880-2013)')"
   ]
  },
  {
   "cell_type": "markdown",
   "id": "80e10af6",
   "metadata": {
    "slideshow": {
     "slide_type": "slide"
    }
   },
   "source": [
    "#### Exploring the \"City\" Table"
   ]
  },
  {
   "cell_type": "code",
   "execution_count": 41,
   "id": "9658aafd",
   "metadata": {
    "scrolled": false,
    "slideshow": {
     "slide_type": "fragment"
    }
   },
   "outputs": [
    {
     "data": {
      "text/html": [
       "<div>\n",
       "<style scoped>\n",
       "    .dataframe tbody tr th:only-of-type {\n",
       "        vertical-align: middle;\n",
       "    }\n",
       "\n",
       "    .dataframe tbody tr th {\n",
       "        vertical-align: top;\n",
       "    }\n",
       "\n",
       "    .dataframe thead th {\n",
       "        text-align: right;\n",
       "    }\n",
       "</style>\n",
       "<table border=\"1\" class=\"dataframe\">\n",
       "  <thead>\n",
       "    <tr style=\"text-align: right;\">\n",
       "      <th></th>\n",
       "      <th>count</th>\n",
       "      <th>mean</th>\n",
       "      <th>std</th>\n",
       "      <th>min</th>\n",
       "      <th>25%</th>\n",
       "      <th>50%</th>\n",
       "      <th>75%</th>\n",
       "      <th>max</th>\n",
       "    </tr>\n",
       "  </thead>\n",
       "  <tbody>\n",
       "    <tr>\n",
       "      <th>AverageTemperature</th>\n",
       "      <td>5622473.0</td>\n",
       "      <td>17.731402</td>\n",
       "      <td>10.052709</td>\n",
       "      <td>-42.704</td>\n",
       "      <td>11.977</td>\n",
       "      <td>20.116</td>\n",
       "      <td>25.704</td>\n",
       "      <td>39.156</td>\n",
       "    </tr>\n",
       "    <tr>\n",
       "      <th>AverageTemperatureUncertainty</th>\n",
       "      <td>5622473.0</td>\n",
       "      <td>0.505360</td>\n",
       "      <td>0.336209</td>\n",
       "      <td>0.034</td>\n",
       "      <td>0.285</td>\n",
       "      <td>0.408</td>\n",
       "      <td>0.621</td>\n",
       "      <td>10.621</td>\n",
       "    </tr>\n",
       "  </tbody>\n",
       "</table>\n",
       "</div>"
      ],
      "text/plain": [
       "                                   count       mean        std     min  \\\n",
       "AverageTemperature             5622473.0  17.731402  10.052709 -42.704   \n",
       "AverageTemperatureUncertainty  5622473.0   0.505360   0.336209   0.034   \n",
       "\n",
       "                                  25%     50%     75%     max  \n",
       "AverageTemperature             11.977  20.116  25.704  39.156  \n",
       "AverageTemperatureUncertainty   0.285   0.408   0.621  10.621  "
      ]
     },
     "execution_count": 41,
     "metadata": {},
     "output_type": "execute_result"
    }
   ],
   "source": [
    "city_filt.describe().T"
   ]
  },
  {
   "cell_type": "markdown",
   "id": "a13ea499",
   "metadata": {
    "slideshow": {
     "slide_type": "fragment"
    }
   },
   "source": [
    "Once again, the quick summary above (and from cleaning earlier), we can see that, within the truncated (123-year) dataset, we have:\n",
    "* 5,622,473 records in total,\n",
    "* 3,448 unique cities.\n",
    "* 159 countries,\n",
    "* a minimum average temperature of -42.704°C 🥶🥶,\n",
    "* a maximum average temperature of 39.156°C 🥵🥵,\n",
    "* a resulting range of *more than* 80°C (81.86°C, exactly) across all cities.\n",
    "\n",
    "Again, we will explore to see in which cities in the world these extreme temperatures were recorded."
   ]
  },
  {
   "cell_type": "code",
   "execution_count": 42,
   "id": "5b5d8703",
   "metadata": {
    "scrolled": true,
    "slideshow": {
     "slide_type": "subslide"
    }
   },
   "outputs": [
    {
     "data": {
      "text/html": [
       "<div>\n",
       "<style scoped>\n",
       "    .dataframe tbody tr th:only-of-type {\n",
       "        vertical-align: middle;\n",
       "    }\n",
       "\n",
       "    .dataframe tbody tr th {\n",
       "        vertical-align: top;\n",
       "    }\n",
       "\n",
       "    .dataframe thead th {\n",
       "        text-align: right;\n",
       "    }\n",
       "</style>\n",
       "<table border=\"1\" class=\"dataframe\">\n",
       "  <thead>\n",
       "    <tr style=\"text-align: right;\">\n",
       "      <th></th>\n",
       "      <th>dt</th>\n",
       "      <th>AverageTemperature</th>\n",
       "      <th>AverageTemperatureUncertainty</th>\n",
       "      <th>City</th>\n",
       "      <th>Country</th>\n",
       "      <th>Latitude</th>\n",
       "      <th>Longitude</th>\n",
       "      <th>cardinal_NS</th>\n",
       "      <th>cardinal_WE</th>\n",
       "      <th>hemisphere</th>\n",
       "    </tr>\n",
       "  </thead>\n",
       "  <tbody>\n",
       "    <tr>\n",
       "      <th>117009</th>\n",
       "      <td>2013-07-01</td>\n",
       "      <td>39.156</td>\n",
       "      <td>0.370</td>\n",
       "      <td>Ahvaz</td>\n",
       "      <td>Iran</td>\n",
       "      <td>31.35N</td>\n",
       "      <td>49.01E</td>\n",
       "      <td>N</td>\n",
       "      <td>E</td>\n",
       "      <td>NE</td>\n",
       "    </tr>\n",
       "    <tr>\n",
       "      <th>4686139</th>\n",
       "      <td>2013-07-01</td>\n",
       "      <td>39.156</td>\n",
       "      <td>0.370</td>\n",
       "      <td>Masjed E Soleyman</td>\n",
       "      <td>Iran</td>\n",
       "      <td>31.35N</td>\n",
       "      <td>49.01E</td>\n",
       "      <td>N</td>\n",
       "      <td>E</td>\n",
       "      <td>NE</td>\n",
       "    </tr>\n",
       "    <tr>\n",
       "      <th>116997</th>\n",
       "      <td>2012-07-01</td>\n",
       "      <td>39.153</td>\n",
       "      <td>0.504</td>\n",
       "      <td>Ahvaz</td>\n",
       "      <td>Iran</td>\n",
       "      <td>31.35N</td>\n",
       "      <td>49.01E</td>\n",
       "      <td>N</td>\n",
       "      <td>E</td>\n",
       "      <td>NE</td>\n",
       "    </tr>\n",
       "    <tr>\n",
       "      <th>4686127</th>\n",
       "      <td>2012-07-01</td>\n",
       "      <td>39.153</td>\n",
       "      <td>0.504</td>\n",
       "      <td>Masjed E Soleyman</td>\n",
       "      <td>Iran</td>\n",
       "      <td>31.35N</td>\n",
       "      <td>49.01E</td>\n",
       "      <td>N</td>\n",
       "      <td>E</td>\n",
       "      <td>NE</td>\n",
       "    </tr>\n",
       "    <tr>\n",
       "      <th>116973</th>\n",
       "      <td>2010-07-01</td>\n",
       "      <td>38.964</td>\n",
       "      <td>0.477</td>\n",
       "      <td>Ahvaz</td>\n",
       "      <td>Iran</td>\n",
       "      <td>31.35N</td>\n",
       "      <td>49.01E</td>\n",
       "      <td>N</td>\n",
       "      <td>E</td>\n",
       "      <td>NE</td>\n",
       "    </tr>\n",
       "    <tr>\n",
       "      <th>4686103</th>\n",
       "      <td>2010-07-01</td>\n",
       "      <td>38.964</td>\n",
       "      <td>0.477</td>\n",
       "      <td>Masjed E Soleyman</td>\n",
       "      <td>Iran</td>\n",
       "      <td>31.35N</td>\n",
       "      <td>49.01E</td>\n",
       "      <td>N</td>\n",
       "      <td>E</td>\n",
       "      <td>NE</td>\n",
       "    </tr>\n",
       "    <tr>\n",
       "      <th>116853</th>\n",
       "      <td>2000-07-01</td>\n",
       "      <td>38.899</td>\n",
       "      <td>0.499</td>\n",
       "      <td>Ahvaz</td>\n",
       "      <td>Iran</td>\n",
       "      <td>31.35N</td>\n",
       "      <td>49.01E</td>\n",
       "      <td>N</td>\n",
       "      <td>E</td>\n",
       "      <td>NE</td>\n",
       "    </tr>\n",
       "    <tr>\n",
       "      <th>4685983</th>\n",
       "      <td>2000-07-01</td>\n",
       "      <td>38.899</td>\n",
       "      <td>0.499</td>\n",
       "      <td>Masjed E Soleyman</td>\n",
       "      <td>Iran</td>\n",
       "      <td>31.35N</td>\n",
       "      <td>49.01E</td>\n",
       "      <td>N</td>\n",
       "      <td>E</td>\n",
       "      <td>NE</td>\n",
       "    </tr>\n",
       "    <tr>\n",
       "      <th>116985</th>\n",
       "      <td>2011-07-01</td>\n",
       "      <td>38.793</td>\n",
       "      <td>0.369</td>\n",
       "      <td>Ahvaz</td>\n",
       "      <td>Iran</td>\n",
       "      <td>31.35N</td>\n",
       "      <td>49.01E</td>\n",
       "      <td>N</td>\n",
       "      <td>E</td>\n",
       "      <td>NE</td>\n",
       "    </tr>\n",
       "    <tr>\n",
       "      <th>4686115</th>\n",
       "      <td>2011-07-01</td>\n",
       "      <td>38.793</td>\n",
       "      <td>0.369</td>\n",
       "      <td>Masjed E Soleyman</td>\n",
       "      <td>Iran</td>\n",
       "      <td>31.35N</td>\n",
       "      <td>49.01E</td>\n",
       "      <td>N</td>\n",
       "      <td>E</td>\n",
       "      <td>NE</td>\n",
       "    </tr>\n",
       "  </tbody>\n",
       "</table>\n",
       "</div>"
      ],
      "text/plain": [
       "                dt  AverageTemperature  AverageTemperatureUncertainty  \\\n",
       "117009  2013-07-01              39.156                          0.370   \n",
       "4686139 2013-07-01              39.156                          0.370   \n",
       "116997  2012-07-01              39.153                          0.504   \n",
       "4686127 2012-07-01              39.153                          0.504   \n",
       "116973  2010-07-01              38.964                          0.477   \n",
       "4686103 2010-07-01              38.964                          0.477   \n",
       "116853  2000-07-01              38.899                          0.499   \n",
       "4685983 2000-07-01              38.899                          0.499   \n",
       "116985  2011-07-01              38.793                          0.369   \n",
       "4686115 2011-07-01              38.793                          0.369   \n",
       "\n",
       "                      City Country Latitude Longitude cardinal_NS cardinal_WE  \\\n",
       "117009               Ahvaz    Iran   31.35N    49.01E           N           E   \n",
       "4686139  Masjed E Soleyman    Iran   31.35N    49.01E           N           E   \n",
       "116997               Ahvaz    Iran   31.35N    49.01E           N           E   \n",
       "4686127  Masjed E Soleyman    Iran   31.35N    49.01E           N           E   \n",
       "116973               Ahvaz    Iran   31.35N    49.01E           N           E   \n",
       "4686103  Masjed E Soleyman    Iran   31.35N    49.01E           N           E   \n",
       "116853               Ahvaz    Iran   31.35N    49.01E           N           E   \n",
       "4685983  Masjed E Soleyman    Iran   31.35N    49.01E           N           E   \n",
       "116985               Ahvaz    Iran   31.35N    49.01E           N           E   \n",
       "4686115  Masjed E Soleyman    Iran   31.35N    49.01E           N           E   \n",
       "\n",
       "        hemisphere  \n",
       "117009          NE  \n",
       "4686139         NE  \n",
       "116997          NE  \n",
       "4686127         NE  \n",
       "116973          NE  \n",
       "4686103         NE  \n",
       "116853          NE  \n",
       "4685983         NE  \n",
       "116985          NE  \n",
       "4686115         NE  "
      ]
     },
     "execution_count": 42,
     "metadata": {},
     "output_type": "execute_result"
    }
   ],
   "source": [
    "# top 5 warmest city temperatures (no aggregation)\n",
    "city_filt.nlargest(10,'AverageTemperature')"
   ]
  },
  {
   "cell_type": "code",
   "execution_count": 43,
   "id": "549bb372",
   "metadata": {
    "scrolled": true,
    "slideshow": {
     "slide_type": "fragment"
    }
   },
   "outputs": [
    {
     "data": {
      "text/html": [
       "<div>\n",
       "<style scoped>\n",
       "    .dataframe tbody tr th:only-of-type {\n",
       "        vertical-align: middle;\n",
       "    }\n",
       "\n",
       "    .dataframe tbody tr th {\n",
       "        vertical-align: top;\n",
       "    }\n",
       "\n",
       "    .dataframe thead th {\n",
       "        text-align: right;\n",
       "    }\n",
       "</style>\n",
       "<table border=\"1\" class=\"dataframe\">\n",
       "  <thead>\n",
       "    <tr style=\"text-align: right;\">\n",
       "      <th></th>\n",
       "      <th>dt</th>\n",
       "      <th>AverageTemperature</th>\n",
       "      <th>AverageTemperatureUncertainty</th>\n",
       "      <th>City</th>\n",
       "      <th>Country</th>\n",
       "      <th>Latitude</th>\n",
       "      <th>Longitude</th>\n",
       "      <th>cardinal_NS</th>\n",
       "      <th>cardinal_WE</th>\n",
       "      <th>hemisphere</th>\n",
       "    </tr>\n",
       "  </thead>\n",
       "  <tbody>\n",
       "    <tr>\n",
       "      <th>5308640</th>\n",
       "      <td>1979-02-01</td>\n",
       "      <td>-42.704</td>\n",
       "      <td>0.972</td>\n",
       "      <td>Norilsk</td>\n",
       "      <td>Russia</td>\n",
       "      <td>69.92N</td>\n",
       "      <td>88.83E</td>\n",
       "      <td>N</td>\n",
       "      <td>E</td>\n",
       "      <td>NE</td>\n",
       "    </tr>\n",
       "    <tr>\n",
       "      <th>4067831</th>\n",
       "      <td>1893-01-01</td>\n",
       "      <td>-41.101</td>\n",
       "      <td>1.500</td>\n",
       "      <td>Kyzyl</td>\n",
       "      <td>Russia</td>\n",
       "      <td>52.24N</td>\n",
       "      <td>94.60E</td>\n",
       "      <td>N</td>\n",
       "      <td>E</td>\n",
       "      <td>NE</td>\n",
       "    </tr>\n",
       "    <tr>\n",
       "      <th>5308484</th>\n",
       "      <td>1966-02-01</td>\n",
       "      <td>-39.919</td>\n",
       "      <td>0.968</td>\n",
       "      <td>Norilsk</td>\n",
       "      <td>Russia</td>\n",
       "      <td>69.92N</td>\n",
       "      <td>88.83E</td>\n",
       "      <td>N</td>\n",
       "      <td>E</td>\n",
       "      <td>NE</td>\n",
       "    </tr>\n",
       "    <tr>\n",
       "      <th>5308579</th>\n",
       "      <td>1974-01-01</td>\n",
       "      <td>-39.683</td>\n",
       "      <td>1.298</td>\n",
       "      <td>Norilsk</td>\n",
       "      <td>Russia</td>\n",
       "      <td>69.92N</td>\n",
       "      <td>88.83E</td>\n",
       "      <td>N</td>\n",
       "      <td>E</td>\n",
       "      <td>NE</td>\n",
       "    </tr>\n",
       "    <tr>\n",
       "      <th>5308639</th>\n",
       "      <td>1979-01-01</td>\n",
       "      <td>-39.403</td>\n",
       "      <td>0.387</td>\n",
       "      <td>Norilsk</td>\n",
       "      <td>Russia</td>\n",
       "      <td>69.92N</td>\n",
       "      <td>88.83E</td>\n",
       "      <td>N</td>\n",
       "      <td>E</td>\n",
       "      <td>NE</td>\n",
       "    </tr>\n",
       "    <tr>\n",
       "      <th>4068143</th>\n",
       "      <td>1919-01-01</td>\n",
       "      <td>-39.038</td>\n",
       "      <td>1.500</td>\n",
       "      <td>Kyzyl</td>\n",
       "      <td>Russia</td>\n",
       "      <td>52.24N</td>\n",
       "      <td>94.60E</td>\n",
       "      <td>N</td>\n",
       "      <td>E</td>\n",
       "      <td>NE</td>\n",
       "    </tr>\n",
       "    <tr>\n",
       "      <th>4068743</th>\n",
       "      <td>1969-01-01</td>\n",
       "      <td>-38.906</td>\n",
       "      <td>0.761</td>\n",
       "      <td>Kyzyl</td>\n",
       "      <td>Russia</td>\n",
       "      <td>52.24N</td>\n",
       "      <td>94.60E</td>\n",
       "      <td>N</td>\n",
       "      <td>E</td>\n",
       "      <td>NE</td>\n",
       "    </tr>\n",
       "    <tr>\n",
       "      <th>5308520</th>\n",
       "      <td>1969-02-01</td>\n",
       "      <td>-38.784</td>\n",
       "      <td>0.974</td>\n",
       "      <td>Norilsk</td>\n",
       "      <td>Russia</td>\n",
       "      <td>69.92N</td>\n",
       "      <td>88.83E</td>\n",
       "      <td>N</td>\n",
       "      <td>E</td>\n",
       "      <td>NE</td>\n",
       "    </tr>\n",
       "    <tr>\n",
       "      <th>5307956</th>\n",
       "      <td>1922-02-01</td>\n",
       "      <td>-38.715</td>\n",
       "      <td>2.144</td>\n",
       "      <td>Norilsk</td>\n",
       "      <td>Russia</td>\n",
       "      <td>69.92N</td>\n",
       "      <td>88.83E</td>\n",
       "      <td>N</td>\n",
       "      <td>E</td>\n",
       "      <td>NE</td>\n",
       "    </tr>\n",
       "    <tr>\n",
       "      <th>4067915</th>\n",
       "      <td>1900-01-01</td>\n",
       "      <td>-38.693</td>\n",
       "      <td>2.190</td>\n",
       "      <td>Kyzyl</td>\n",
       "      <td>Russia</td>\n",
       "      <td>52.24N</td>\n",
       "      <td>94.60E</td>\n",
       "      <td>N</td>\n",
       "      <td>E</td>\n",
       "      <td>NE</td>\n",
       "    </tr>\n",
       "  </tbody>\n",
       "</table>\n",
       "</div>"
      ],
      "text/plain": [
       "                dt  AverageTemperature  AverageTemperatureUncertainty  \\\n",
       "5308640 1979-02-01             -42.704                          0.972   \n",
       "4067831 1893-01-01             -41.101                          1.500   \n",
       "5308484 1966-02-01             -39.919                          0.968   \n",
       "5308579 1974-01-01             -39.683                          1.298   \n",
       "5308639 1979-01-01             -39.403                          0.387   \n",
       "4068143 1919-01-01             -39.038                          1.500   \n",
       "4068743 1969-01-01             -38.906                          0.761   \n",
       "5308520 1969-02-01             -38.784                          0.974   \n",
       "5307956 1922-02-01             -38.715                          2.144   \n",
       "4067915 1900-01-01             -38.693                          2.190   \n",
       "\n",
       "            City Country Latitude Longitude cardinal_NS cardinal_WE hemisphere  \n",
       "5308640  Norilsk  Russia   69.92N    88.83E           N           E         NE  \n",
       "4067831    Kyzyl  Russia   52.24N    94.60E           N           E         NE  \n",
       "5308484  Norilsk  Russia   69.92N    88.83E           N           E         NE  \n",
       "5308579  Norilsk  Russia   69.92N    88.83E           N           E         NE  \n",
       "5308639  Norilsk  Russia   69.92N    88.83E           N           E         NE  \n",
       "4068143    Kyzyl  Russia   52.24N    94.60E           N           E         NE  \n",
       "4068743    Kyzyl  Russia   52.24N    94.60E           N           E         NE  \n",
       "5308520  Norilsk  Russia   69.92N    88.83E           N           E         NE  \n",
       "5307956  Norilsk  Russia   69.92N    88.83E           N           E         NE  \n",
       "4067915    Kyzyl  Russia   52.24N    94.60E           N           E         NE  "
      ]
     },
     "execution_count": 43,
     "metadata": {},
     "output_type": "execute_result"
    }
   ],
   "source": [
    "# top 10 coldest temperatures (no aggregation)\n",
    "city_filt.nsmallest(10,'AverageTemperature')"
   ]
  },
  {
   "cell_type": "markdown",
   "id": "66cbfeed",
   "metadata": {
    "slideshow": {
     "slide_type": "subslide"
    }
   },
   "source": [
    "Noticings from the above two outputs: \n",
    "* 39 of 40 warmest temperatures are recorded in **Iran**\n",
    "    * though Ahvaz and Masjed E Soleyman have the same readings, they are, in fact, distinct cities. Perhaps the exact locations of temperature recording are too close but, for the sake of inclusivity, we will consider both.\n",
    "* **Russia** has 60+ of coldest temperatures\n",
    "    * Norilsk seems to be, consistently, the coldest (Kyzyl close second)\n",
    "    \n",
    "**\\*Note**: there appear to be no cities from Greenland included in the `city` table. As a result, we can expect a *different* country to receive the torch in recognition of \"coldest\" (i.e., other than Greenland)."
   ]
  },
  {
   "cell_type": "code",
   "execution_count": 44,
   "id": "acc7b019",
   "metadata": {
    "scrolled": true,
    "slideshow": {
     "slide_type": "subslide"
    }
   },
   "outputs": [
    {
     "data": {
      "text/html": [
       "<div>\n",
       "<style scoped>\n",
       "    .dataframe tbody tr th:only-of-type {\n",
       "        vertical-align: middle;\n",
       "    }\n",
       "\n",
       "    .dataframe tbody tr th {\n",
       "        vertical-align: top;\n",
       "    }\n",
       "\n",
       "    .dataframe thead th {\n",
       "        text-align: right;\n",
       "    }\n",
       "</style>\n",
       "<table border=\"1\" class=\"dataframe\">\n",
       "  <thead>\n",
       "    <tr style=\"text-align: right;\">\n",
       "      <th></th>\n",
       "      <th>AverageTemperature</th>\n",
       "    </tr>\n",
       "    <tr>\n",
       "      <th>City</th>\n",
       "      <th></th>\n",
       "    </tr>\n",
       "  </thead>\n",
       "  <tbody>\n",
       "    <tr>\n",
       "      <th>Jibuti</th>\n",
       "      <td>29.160157</td>\n",
       "    </tr>\n",
       "    <tr>\n",
       "      <th>Khartoum</th>\n",
       "      <td>29.143188</td>\n",
       "    </tr>\n",
       "    <tr>\n",
       "      <th>Umm Durman</th>\n",
       "      <td>29.143188</td>\n",
       "    </tr>\n",
       "    <tr>\n",
       "      <th>Niamey</th>\n",
       "      <td>29.117342</td>\n",
       "    </tr>\n",
       "    <tr>\n",
       "      <th>Kassala</th>\n",
       "      <td>28.989550</td>\n",
       "    </tr>\n",
       "  </tbody>\n",
       "</table>\n",
       "</div>"
      ],
      "text/plain": [
       "            AverageTemperature\n",
       "City                          \n",
       "Jibuti               29.160157\n",
       "Khartoum             29.143188\n",
       "Umm Durman           29.143188\n",
       "Niamey               29.117342\n",
       "Kassala              28.989550"
      ]
     },
     "execution_count": 44,
     "metadata": {},
     "output_type": "execute_result"
    }
   ],
   "source": [
    "# warmest 5 cities by average average temperature\n",
    "warmest_cities = city_filt.groupby(['City'])['AverageTemperature'].mean().sort_values(ascending=False).to_frame()\n",
    "warmest_cities.head()"
   ]
  },
  {
   "cell_type": "markdown",
   "id": "fea0598a",
   "metadata": {
    "slideshow": {
     "slide_type": "fragment"
    }
   },
   "source": [
    "Jibuti (Arabic for \"Djibouti [City]\") is the capital of Djibouti, the country. With Djibouti being the warmest country, on average across 1880 through 2013, perhaps this isn't too surprising that its capital—and largest city—is the warmest.\n",
    "\n",
    "*Very* close contenders (within 0.05°C): Khartoum, Sudan; Umm Durman, Sudan; and Niamey, Niger."
   ]
  },
  {
   "cell_type": "code",
   "execution_count": 45,
   "id": "6f44f410",
   "metadata": {
    "scrolled": true,
    "slideshow": {
     "slide_type": "subslide"
    }
   },
   "outputs": [
    {
     "data": {
      "text/html": [
       "<div>\n",
       "<style scoped>\n",
       "    .dataframe tbody tr th:only-of-type {\n",
       "        vertical-align: middle;\n",
       "    }\n",
       "\n",
       "    .dataframe tbody tr th {\n",
       "        vertical-align: top;\n",
       "    }\n",
       "\n",
       "    .dataframe thead th {\n",
       "        text-align: right;\n",
       "    }\n",
       "</style>\n",
       "<table border=\"1\" class=\"dataframe\">\n",
       "  <thead>\n",
       "    <tr style=\"text-align: right;\">\n",
       "      <th></th>\n",
       "      <th>AverageTemperature</th>\n",
       "    </tr>\n",
       "    <tr>\n",
       "      <th>City</th>\n",
       "      <th></th>\n",
       "    </tr>\n",
       "  </thead>\n",
       "  <tbody>\n",
       "    <tr>\n",
       "      <th>Norilsk</th>\n",
       "      <td>-11.671984</td>\n",
       "    </tr>\n",
       "    <tr>\n",
       "      <th>Kyzyl</th>\n",
       "      <td>-6.009458</td>\n",
       "    </tr>\n",
       "    <tr>\n",
       "      <th>Chita</th>\n",
       "      <td>-4.128246</td>\n",
       "    </tr>\n",
       "    <tr>\n",
       "      <th>Ust Ilimsk</th>\n",
       "      <td>-3.777590</td>\n",
       "    </tr>\n",
       "    <tr>\n",
       "      <th>Nefteyugansk</th>\n",
       "      <td>-3.290976</td>\n",
       "    </tr>\n",
       "  </tbody>\n",
       "</table>\n",
       "</div>"
      ],
      "text/plain": [
       "              AverageTemperature\n",
       "City                            \n",
       "Norilsk               -11.671984\n",
       "Kyzyl                  -6.009458\n",
       "Chita                  -4.128246\n",
       "Ust Ilimsk             -3.777590\n",
       "Nefteyugansk           -3.290976"
      ]
     },
     "execution_count": 45,
     "metadata": {},
     "output_type": "execute_result"
    }
   ],
   "source": [
    "# coldest 5 cities by average average temperature\n",
    "coldest_cities = city_filt.groupby(['City'])['AverageTemperature'].mean().sort_values(ascending=True).to_frame()\n",
    "coldest_cities.head()"
   ]
  },
  {
   "cell_type": "markdown",
   "id": "c345783c",
   "metadata": {
    "slideshow": {
     "slide_type": "fragment"
    }
   },
   "source": [
    "The top 5 coldest cities, on average, are all in Russia.\n",
    "\n",
    "With this, we are able to concretely answer our second pair of questions. On average,\n",
    "* the **warmest city** is **Jibuti, Djibouti** 🇩🇯, and\n",
    "* the **coldest city** [by a significant margin] is **Norilsk, Russia** 🇷🇺"
   ]
  },
  {
   "cell_type": "markdown",
   "id": "a508220e",
   "metadata": {
    "slideshow": {
     "slide_type": "fragment"
    }
   },
   "source": [
    "[Back to TOC](#TOC)"
   ]
  },
  {
   "cell_type": "markdown",
   "id": "729844f6",
   "metadata": {
    "slideshow": {
     "slide_type": "slide"
    }
   },
   "source": [
    "<a id='Trending'></a>\n",
    "#### [Average Global Temperature Over Time](#Trending)\n",
    "\n",
    "We will now look at the average temperature across all countries over time for the entire span of our time series. To compare and contrast, we will do the same with our cities and see if the two trends are significantly different."
   ]
  },
  {
   "cell_type": "code",
   "execution_count": 46,
   "id": "4683481f",
   "metadata": {
    "scrolled": true,
    "slideshow": {
     "slide_type": "subslide"
    }
   },
   "outputs": [],
   "source": [
    "# average average country temperature over time (monthly)\n",
    "month_countries=country_filt_clean.groupby(pd.Grouper(key='dt', freq=\"1M\")).mean()\n",
    "f,ax=plt.subplots(figsize=(18, 8))\n",
    "sns.lineplot(data=month_countries, x='dt', y='AverageTemperature', color='xkcd:sage')\n",
    "text=ax.set(xlabel='Time (monthly)', ylabel='Average Temperature (°C)', title='Average Monthly Global (COUNTRY) Temperature (1880-2013)')"
   ]
  },
  {
   "cell_type": "markdown",
   "id": "5bbc35d2",
   "metadata": {
    "slideshow": {
     "slide_type": "fragment"
    }
   },
   "source": [
    "Although we can see an upward trend, maybe monthly was too dense. Let's try annually."
   ]
  },
  {
   "cell_type": "code",
   "execution_count": 47,
   "id": "40d20c52",
   "metadata": {
    "scrolled": true,
    "slideshow": {
     "slide_type": "subslide"
    }
   },
   "outputs": [],
   "source": [
    "# average average country temperature over time (annual)\n",
    "annual_countries=country_filt_clean.groupby(pd.Grouper(key='dt', freq=\"1Y\")).mean()\n",
    "f,ax=plt.subplots(figsize=(18, 8))\n",
    "sns.lineplot(data=annual_countries, x='dt', y='AverageTemperature', color='xkcd:sage')\n",
    "text=ax.set(xlabel='Time (annnual)', ylabel='Average Temperature (°C)', title='Average Annual Global (COUNTRY) Temperature (1880-2013)')"
   ]
  },
  {
   "cell_type": "markdown",
   "id": "c4bfdf1f",
   "metadata": {
    "slideshow": {
     "slide_type": "fragment"
    }
   },
   "source": [
    "Now, we can clearly see a general trend of increasing global temperatures over time."
   ]
  },
  {
   "cell_type": "code",
   "execution_count": 48,
   "id": "e1845000",
   "metadata": {
    "slideshow": {
     "slide_type": "subslide"
    }
   },
   "outputs": [],
   "source": [
    "# average average city temperature over time (monthly)\n",
    "month_cities=city_filt.groupby(pd.Grouper(key='dt', freq=\"1M\")).mean()\n",
    "f,ax=plt.subplots(figsize=(18, 8))\n",
    "sns.lineplot(data=month_cities, x='dt', y='AverageTemperature', color='xkcd:sage')\n",
    "text=ax.set(xlabel='Time (monthly)', ylabel='Average Temperature (°C)', title='Average Monthly Global (CITY) Temperature (1880-2013)')"
   ]
  },
  {
   "cell_type": "markdown",
   "id": "85925c52",
   "metadata": {
    "slideshow": {
     "slide_type": "fragment"
    }
   },
   "source": [
    "Once again, maybe a monthly basis is too dense to look at general trends. Instead, we will look at annual numbers."
   ]
  },
  {
   "cell_type": "code",
   "execution_count": 49,
   "id": "3dc4cbb8",
   "metadata": {
    "scrolled": false,
    "slideshow": {
     "slide_type": "subslide"
    }
   },
   "outputs": [],
   "source": [
    "# average average city temperature over time (annual)\n",
    "annual_cities=city_filt.groupby(pd.Grouper(key='dt', freq=\"1Y\")).mean()\n",
    "f,ax=plt.subplots(figsize=(18, 8))\n",
    "sns.lineplot(data=annual_cities, x='dt', y='AverageTemperature', color='xkcd:sage')\n",
    "text=ax.set(xlabel='Time (annnual)', ylabel='Average Temperature (°C)', title='Average Annual Global (CITY) Temperature (1880-2013)')"
   ]
  },
  {
   "cell_type": "markdown",
   "id": "8fd97213",
   "metadata": {
    "slideshow": {
     "slide_type": "fragment"
    }
   },
   "source": [
    "Since the geographical spread—and, as a result, diversity—is greater within the `city` table, we will use the trends found in the corresponding annual average plot to observe the average global temperature over time. By adding a trendline, we can see growth trend from 1880 through 2013."
   ]
  },
  {
   "cell_type": "markdown",
   "id": "6751211f",
   "metadata": {
    "slideshow": {
     "slide_type": "fragment"
    }
   },
   "source": [
    "[Back to TOC](#TOC)"
   ]
  },
  {
   "cell_type": "markdown",
   "id": "41fdd4ce",
   "metadata": {
    "slideshow": {
     "slide_type": "slide"
    }
   },
   "source": [
    "**** \n",
    "<a id='Answers'></a>\n",
    "### 4. [Answering Questions](#Answers)"
   ]
  },
  {
   "cell_type": "markdown",
   "id": "a008fa20",
   "metadata": {
    "slideshow": {
     "slide_type": "subslide"
    }
   },
   "source": [
    "<a id='Fastest'></a>\n",
    "#### [Fastest-Warming Countries & Cities and Temperature Ranges](#Fastest)\n",
    "\n",
    "As defined earlier, \"fastest-warming*\" will be measured by the rolling 10-year average increase in average temperature change. For the sake of recency, the rolling average will be calculated over the 5 and 10 most recent full years; since the data set ends of 2013, we will look at the rolling averages from the past 50 years (from 1938 onward).\n",
    "\n",
    "We will first filter our dataframe and then add columns for year-over-year growth as a percentage, in addition to rolling 10-year average of these year-over-year growth values."
   ]
  },
  {
   "cell_type": "code",
   "execution_count": 50,
   "id": "ecf8e73a",
   "metadata": {
    "scrolled": false,
    "slideshow": {
     "slide_type": "subslide"
    }
   },
   "outputs": [
    {
     "data": {
      "text/html": [
       "<div>\n",
       "<style scoped>\n",
       "    .dataframe tbody tr th:only-of-type {\n",
       "        vertical-align: middle;\n",
       "    }\n",
       "\n",
       "    .dataframe tbody tr th {\n",
       "        vertical-align: top;\n",
       "    }\n",
       "\n",
       "    .dataframe thead th {\n",
       "        text-align: right;\n",
       "    }\n",
       "</style>\n",
       "<table border=\"1\" class=\"dataframe\">\n",
       "  <thead>\n",
       "    <tr style=\"text-align: right;\">\n",
       "      <th></th>\n",
       "      <th>dt</th>\n",
       "      <th>AverageTemperature</th>\n",
       "      <th>AverageTemperatureUncertainty</th>\n",
       "      <th>Country</th>\n",
       "    </tr>\n",
       "  </thead>\n",
       "  <tbody>\n",
       "    <tr>\n",
       "      <th>2330</th>\n",
       "      <td>1938-01-01</td>\n",
       "      <td>-0.802</td>\n",
       "      <td>0.518</td>\n",
       "      <td>Åland</td>\n",
       "    </tr>\n",
       "    <tr>\n",
       "      <th>2331</th>\n",
       "      <td>1938-02-01</td>\n",
       "      <td>0.930</td>\n",
       "      <td>0.482</td>\n",
       "      <td>Åland</td>\n",
       "    </tr>\n",
       "    <tr>\n",
       "      <th>2332</th>\n",
       "      <td>1938-03-01</td>\n",
       "      <td>2.577</td>\n",
       "      <td>0.764</td>\n",
       "      <td>Åland</td>\n",
       "    </tr>\n",
       "    <tr>\n",
       "      <th>2333</th>\n",
       "      <td>1938-04-01</td>\n",
       "      <td>2.565</td>\n",
       "      <td>0.595</td>\n",
       "      <td>Åland</td>\n",
       "    </tr>\n",
       "    <tr>\n",
       "      <th>2334</th>\n",
       "      <td>1938-05-01</td>\n",
       "      <td>6.954</td>\n",
       "      <td>0.587</td>\n",
       "      <td>Åland</td>\n",
       "    </tr>\n",
       "  </tbody>\n",
       "</table>\n",
       "</div>"
      ],
      "text/plain": [
       "             dt  AverageTemperature  AverageTemperatureUncertainty Country\n",
       "2330 1938-01-01              -0.802                          0.518   Åland\n",
       "2331 1938-02-01               0.930                          0.482   Åland\n",
       "2332 1938-03-01               2.577                          0.764   Åland\n",
       "2333 1938-04-01               2.565                          0.595   Åland\n",
       "2334 1938-05-01               6.954                          0.587   Åland"
      ]
     },
     "execution_count": 50,
     "metadata": {},
     "output_type": "execute_result"
    }
   ],
   "source": [
    "# filter 1938 through 2013 (about 50 years)\n",
    "fast_warm_country = country_filt_clean[(country_filt_clean['dt']>='1938-01-01')]\n",
    "fast_warm_country.head()"
   ]
  },
  {
   "cell_type": "code",
   "execution_count": 51,
   "id": "e8385dea",
   "metadata": {
    "scrolled": true,
    "slideshow": {
     "slide_type": "subslide"
    }
   },
   "outputs": [
    {
     "data": {
      "text/html": [
       "<div>\n",
       "<style scoped>\n",
       "    .dataframe tbody tr th:only-of-type {\n",
       "        vertical-align: middle;\n",
       "    }\n",
       "\n",
       "    .dataframe tbody tr th {\n",
       "        vertical-align: top;\n",
       "    }\n",
       "\n",
       "    .dataframe thead th {\n",
       "        text-align: right;\n",
       "    }\n",
       "</style>\n",
       "<table border=\"1\" class=\"dataframe\">\n",
       "  <thead>\n",
       "    <tr style=\"text-align: right;\">\n",
       "      <th></th>\n",
       "      <th>Country</th>\n",
       "      <th>dt</th>\n",
       "      <th>min_temp</th>\n",
       "      <th>max_temp</th>\n",
       "      <th>avg_temp</th>\n",
       "    </tr>\n",
       "  </thead>\n",
       "  <tbody>\n",
       "    <tr>\n",
       "      <th>0</th>\n",
       "      <td>Afghanistan</td>\n",
       "      <td>1938</td>\n",
       "      <td>1.230</td>\n",
       "      <td>26.175</td>\n",
       "      <td>14.211250</td>\n",
       "    </tr>\n",
       "    <tr>\n",
       "      <th>1</th>\n",
       "      <td>Afghanistan</td>\n",
       "      <td>1939</td>\n",
       "      <td>1.718</td>\n",
       "      <td>26.743</td>\n",
       "      <td>14.161917</td>\n",
       "    </tr>\n",
       "    <tr>\n",
       "      <th>2</th>\n",
       "      <td>Afghanistan</td>\n",
       "      <td>1940</td>\n",
       "      <td>2.680</td>\n",
       "      <td>27.601</td>\n",
       "      <td>14.734000</td>\n",
       "    </tr>\n",
       "    <tr>\n",
       "      <th>3</th>\n",
       "      <td>Afghanistan</td>\n",
       "      <td>1941</td>\n",
       "      <td>1.140</td>\n",
       "      <td>26.704</td>\n",
       "      <td>15.502750</td>\n",
       "    </tr>\n",
       "    <tr>\n",
       "      <th>4</th>\n",
       "      <td>Afghanistan</td>\n",
       "      <td>1942</td>\n",
       "      <td>1.523</td>\n",
       "      <td>27.037</td>\n",
       "      <td>14.451167</td>\n",
       "    </tr>\n",
       "  </tbody>\n",
       "</table>\n",
       "</div>"
      ],
      "text/plain": [
       "       Country    dt  min_temp  max_temp   avg_temp\n",
       "0  Afghanistan  1938     1.230    26.175  14.211250\n",
       "1  Afghanistan  1939     1.718    26.743  14.161917\n",
       "2  Afghanistan  1940     2.680    27.601  14.734000\n",
       "3  Afghanistan  1941     1.140    26.704  15.502750\n",
       "4  Afghanistan  1942     1.523    27.037  14.451167"
      ]
     },
     "execution_count": 51,
     "metadata": {},
     "output_type": "execute_result"
    }
   ],
   "source": [
    "# group by country and by year\n",
    "# return min, max, and avg temps\n",
    "fast_warm_country = fast_warm_country.groupby(['Country', fast_warm_country.dt.dt.year]).agg({'AverageTemperature': ['min', 'max','mean']})\n",
    "fast_warm_country.columns = ['min_temp', 'max_temp', 'avg_temp']\n",
    "\n",
    "fast_warm_country = fast_warm_country.reset_index()\n",
    "\n",
    "fast_warm_country.head()"
   ]
  },
  {
   "cell_type": "code",
   "execution_count": 52,
   "id": "b96d49ad",
   "metadata": {
    "slideshow": {
     "slide_type": "subslide"
    }
   },
   "outputs": [
    {
     "data": {
      "text/html": [
       "<div>\n",
       "<style scoped>\n",
       "    .dataframe tbody tr th:only-of-type {\n",
       "        vertical-align: middle;\n",
       "    }\n",
       "\n",
       "    .dataframe tbody tr th {\n",
       "        vertical-align: top;\n",
       "    }\n",
       "\n",
       "    .dataframe thead th {\n",
       "        text-align: right;\n",
       "    }\n",
       "</style>\n",
       "<table border=\"1\" class=\"dataframe\">\n",
       "  <thead>\n",
       "    <tr style=\"text-align: right;\">\n",
       "      <th></th>\n",
       "      <th>Country</th>\n",
       "      <th>dt</th>\n",
       "      <th>min_temp</th>\n",
       "      <th>max_temp</th>\n",
       "      <th>avg_temp</th>\n",
       "      <th>temp_range</th>\n",
       "    </tr>\n",
       "  </thead>\n",
       "  <tbody>\n",
       "    <tr>\n",
       "      <th>0</th>\n",
       "      <td>Afghanistan</td>\n",
       "      <td>1938</td>\n",
       "      <td>1.230</td>\n",
       "      <td>26.175</td>\n",
       "      <td>14.211250</td>\n",
       "      <td>24.945</td>\n",
       "    </tr>\n",
       "    <tr>\n",
       "      <th>1</th>\n",
       "      <td>Afghanistan</td>\n",
       "      <td>1939</td>\n",
       "      <td>1.718</td>\n",
       "      <td>26.743</td>\n",
       "      <td>14.161917</td>\n",
       "      <td>25.025</td>\n",
       "    </tr>\n",
       "    <tr>\n",
       "      <th>2</th>\n",
       "      <td>Afghanistan</td>\n",
       "      <td>1940</td>\n",
       "      <td>2.680</td>\n",
       "      <td>27.601</td>\n",
       "      <td>14.734000</td>\n",
       "      <td>24.921</td>\n",
       "    </tr>\n",
       "    <tr>\n",
       "      <th>3</th>\n",
       "      <td>Afghanistan</td>\n",
       "      <td>1941</td>\n",
       "      <td>1.140</td>\n",
       "      <td>26.704</td>\n",
       "      <td>15.502750</td>\n",
       "      <td>25.564</td>\n",
       "    </tr>\n",
       "    <tr>\n",
       "      <th>4</th>\n",
       "      <td>Afghanistan</td>\n",
       "      <td>1942</td>\n",
       "      <td>1.523</td>\n",
       "      <td>27.037</td>\n",
       "      <td>14.451167</td>\n",
       "      <td>25.514</td>\n",
       "    </tr>\n",
       "  </tbody>\n",
       "</table>\n",
       "</div>"
      ],
      "text/plain": [
       "       Country    dt  min_temp  max_temp   avg_temp  temp_range\n",
       "0  Afghanistan  1938     1.230    26.175  14.211250      24.945\n",
       "1  Afghanistan  1939     1.718    26.743  14.161917      25.025\n",
       "2  Afghanistan  1940     2.680    27.601  14.734000      24.921\n",
       "3  Afghanistan  1941     1.140    26.704  15.502750      25.564\n",
       "4  Afghanistan  1942     1.523    27.037  14.451167      25.514"
      ]
     },
     "execution_count": 52,
     "metadata": {},
     "output_type": "execute_result"
    }
   ],
   "source": [
    "fast_warm_country['temp_range']=fast_warm_country['max_temp'] - fast_warm_country['min_temp']\n",
    "\n",
    "fast_warm_country.head()"
   ]
  },
  {
   "cell_type": "code",
   "execution_count": 53,
   "id": "6fcaea3c",
   "metadata": {
    "slideshow": {
     "slide_type": "subslide"
    }
   },
   "outputs": [
    {
     "data": {
      "text/html": [
       "<div>\n",
       "<style scoped>\n",
       "    .dataframe tbody tr th:only-of-type {\n",
       "        vertical-align: middle;\n",
       "    }\n",
       "\n",
       "    .dataframe tbody tr th {\n",
       "        vertical-align: top;\n",
       "    }\n",
       "\n",
       "    .dataframe thead th {\n",
       "        text-align: right;\n",
       "    }\n",
       "</style>\n",
       "<table border=\"1\" class=\"dataframe\">\n",
       "  <thead>\n",
       "    <tr style=\"text-align: right;\">\n",
       "      <th></th>\n",
       "      <th>Country</th>\n",
       "      <th>dt</th>\n",
       "      <th>min_temp</th>\n",
       "      <th>max_temp</th>\n",
       "      <th>avg_temp</th>\n",
       "      <th>temp_range</th>\n",
       "      <th>pct_change</th>\n",
       "      <th>five_yr_avg_pct_change</th>\n",
       "      <th>ten_yr_avg_pct_change</th>\n",
       "    </tr>\n",
       "  </thead>\n",
       "  <tbody>\n",
       "    <tr>\n",
       "      <th>0</th>\n",
       "      <td>Afghanistan</td>\n",
       "      <td>1938</td>\n",
       "      <td>1.230</td>\n",
       "      <td>26.175</td>\n",
       "      <td>14.211250</td>\n",
       "      <td>24.945</td>\n",
       "      <td>NaN</td>\n",
       "      <td>NaN</td>\n",
       "      <td>NaN</td>\n",
       "    </tr>\n",
       "    <tr>\n",
       "      <th>1</th>\n",
       "      <td>Afghanistan</td>\n",
       "      <td>1939</td>\n",
       "      <td>1.718</td>\n",
       "      <td>26.743</td>\n",
       "      <td>14.161917</td>\n",
       "      <td>25.025</td>\n",
       "      <td>-0.347143</td>\n",
       "      <td>NaN</td>\n",
       "      <td>NaN</td>\n",
       "    </tr>\n",
       "    <tr>\n",
       "      <th>2</th>\n",
       "      <td>Afghanistan</td>\n",
       "      <td>1940</td>\n",
       "      <td>2.680</td>\n",
       "      <td>27.601</td>\n",
       "      <td>14.734000</td>\n",
       "      <td>24.921</td>\n",
       "      <td>4.039590</td>\n",
       "      <td>NaN</td>\n",
       "      <td>NaN</td>\n",
       "    </tr>\n",
       "    <tr>\n",
       "      <th>3</th>\n",
       "      <td>Afghanistan</td>\n",
       "      <td>1941</td>\n",
       "      <td>1.140</td>\n",
       "      <td>26.704</td>\n",
       "      <td>15.502750</td>\n",
       "      <td>25.564</td>\n",
       "      <td>5.217524</td>\n",
       "      <td>NaN</td>\n",
       "      <td>NaN</td>\n",
       "    </tr>\n",
       "    <tr>\n",
       "      <th>4</th>\n",
       "      <td>Afghanistan</td>\n",
       "      <td>1942</td>\n",
       "      <td>1.523</td>\n",
       "      <td>27.037</td>\n",
       "      <td>14.451167</td>\n",
       "      <td>25.514</td>\n",
       "      <td>-6.783205</td>\n",
       "      <td>NaN</td>\n",
       "      <td>NaN</td>\n",
       "    </tr>\n",
       "    <tr>\n",
       "      <th>5</th>\n",
       "      <td>Afghanistan</td>\n",
       "      <td>1943</td>\n",
       "      <td>-0.587</td>\n",
       "      <td>26.789</td>\n",
       "      <td>13.707833</td>\n",
       "      <td>27.376</td>\n",
       "      <td>-5.143760</td>\n",
       "      <td>-0.603399</td>\n",
       "      <td>NaN</td>\n",
       "    </tr>\n",
       "    <tr>\n",
       "      <th>6</th>\n",
       "      <td>Afghanistan</td>\n",
       "      <td>1944</td>\n",
       "      <td>-1.296</td>\n",
       "      <td>28.425</td>\n",
       "      <td>14.291750</td>\n",
       "      <td>29.721</td>\n",
       "      <td>4.259730</td>\n",
       "      <td>0.317976</td>\n",
       "      <td>NaN</td>\n",
       "    </tr>\n",
       "    <tr>\n",
       "      <th>7</th>\n",
       "      <td>Afghanistan</td>\n",
       "      <td>1945</td>\n",
       "      <td>-1.013</td>\n",
       "      <td>26.617</td>\n",
       "      <td>13.866250</td>\n",
       "      <td>27.630</td>\n",
       "      <td>-2.977242</td>\n",
       "      <td>-1.085391</td>\n",
       "      <td>NaN</td>\n",
       "    </tr>\n",
       "    <tr>\n",
       "      <th>8</th>\n",
       "      <td>Afghanistan</td>\n",
       "      <td>1946</td>\n",
       "      <td>-0.624</td>\n",
       "      <td>26.931</td>\n",
       "      <td>14.594667</td>\n",
       "      <td>27.555</td>\n",
       "      <td>5.253163</td>\n",
       "      <td>-1.078263</td>\n",
       "      <td>NaN</td>\n",
       "    </tr>\n",
       "    <tr>\n",
       "      <th>9</th>\n",
       "      <td>Afghanistan</td>\n",
       "      <td>1947</td>\n",
       "      <td>2.335</td>\n",
       "      <td>26.855</td>\n",
       "      <td>15.035083</td>\n",
       "      <td>24.520</td>\n",
       "      <td>3.017655</td>\n",
       "      <td>0.881909</td>\n",
       "      <td>NaN</td>\n",
       "    </tr>\n",
       "    <tr>\n",
       "      <th>10</th>\n",
       "      <td>Afghanistan</td>\n",
       "      <td>1948</td>\n",
       "      <td>1.209</td>\n",
       "      <td>27.587</td>\n",
       "      <td>14.335250</td>\n",
       "      <td>26.378</td>\n",
       "      <td>-4.654669</td>\n",
       "      <td>0.979727</td>\n",
       "      <td>0.188164</td>\n",
       "    </tr>\n",
       "    <tr>\n",
       "      <th>11</th>\n",
       "      <td>Afghanistan</td>\n",
       "      <td>1949</td>\n",
       "      <td>-1.374</td>\n",
       "      <td>27.238</td>\n",
       "      <td>13.350083</td>\n",
       "      <td>28.612</td>\n",
       "      <td>-6.872337</td>\n",
       "      <td>-1.246686</td>\n",
       "      <td>-0.464355</td>\n",
       "    </tr>\n",
       "    <tr>\n",
       "      <th>12</th>\n",
       "      <td>Afghanistan</td>\n",
       "      <td>1950</td>\n",
       "      <td>-0.156</td>\n",
       "      <td>27.455</td>\n",
       "      <td>13.043500</td>\n",
       "      <td>27.611</td>\n",
       "      <td>-2.296490</td>\n",
       "      <td>-1.110536</td>\n",
       "      <td>-1.097963</td>\n",
       "    </tr>\n",
       "    <tr>\n",
       "      <th>13</th>\n",
       "      <td>Afghanistan</td>\n",
       "      <td>1951</td>\n",
       "      <td>0.648</td>\n",
       "      <td>26.001</td>\n",
       "      <td>13.967750</td>\n",
       "      <td>25.353</td>\n",
       "      <td>7.085905</td>\n",
       "      <td>-0.743987</td>\n",
       "      <td>-0.911125</td>\n",
       "    </tr>\n",
       "    <tr>\n",
       "      <th>14</th>\n",
       "      <td>Afghanistan</td>\n",
       "      <td>1952</td>\n",
       "      <td>1.198</td>\n",
       "      <td>26.485</td>\n",
       "      <td>14.175417</td>\n",
       "      <td>25.287</td>\n",
       "      <td>1.486758</td>\n",
       "      <td>-1.050167</td>\n",
       "      <td>-0.084129</td>\n",
       "    </tr>\n",
       "    <tr>\n",
       "      <th>15</th>\n",
       "      <td>Afghanistan</td>\n",
       "      <td>1953</td>\n",
       "      <td>2.097</td>\n",
       "      <td>27.407</td>\n",
       "      <td>14.650750</td>\n",
       "      <td>25.310</td>\n",
       "      <td>3.353223</td>\n",
       "      <td>0.551412</td>\n",
       "      <td>0.765570</td>\n",
       "    </tr>\n",
       "    <tr>\n",
       "      <th>16</th>\n",
       "      <td>Afghanistan</td>\n",
       "      <td>1954</td>\n",
       "      <td>1.333</td>\n",
       "      <td>25.918</td>\n",
       "      <td>13.691333</td>\n",
       "      <td>24.585</td>\n",
       "      <td>-6.548584</td>\n",
       "      <td>0.616162</td>\n",
       "      <td>-0.315262</td>\n",
       "    </tr>\n",
       "    <tr>\n",
       "      <th>17</th>\n",
       "      <td>Afghanistan</td>\n",
       "      <td>1955</td>\n",
       "      <td>1.636</td>\n",
       "      <td>27.077</td>\n",
       "      <td>14.642583</td>\n",
       "      <td>25.441</td>\n",
       "      <td>6.947826</td>\n",
       "      <td>2.465026</td>\n",
       "      <td>0.677245</td>\n",
       "    </tr>\n",
       "    <tr>\n",
       "      <th>18</th>\n",
       "      <td>Afghanistan</td>\n",
       "      <td>1956</td>\n",
       "      <td>0.844</td>\n",
       "      <td>26.617</td>\n",
       "      <td>14.191083</td>\n",
       "      <td>25.773</td>\n",
       "      <td>-3.083472</td>\n",
       "      <td>0.431150</td>\n",
       "      <td>-0.156419</td>\n",
       "    </tr>\n",
       "    <tr>\n",
       "      <th>19</th>\n",
       "      <td>Afghanistan</td>\n",
       "      <td>1957</td>\n",
       "      <td>-1.690</td>\n",
       "      <td>25.775</td>\n",
       "      <td>12.777167</td>\n",
       "      <td>27.465</td>\n",
       "      <td>-9.963416</td>\n",
       "      <td>-1.858885</td>\n",
       "      <td>-1.454526</td>\n",
       "    </tr>\n",
       "  </tbody>\n",
       "</table>\n",
       "</div>"
      ],
      "text/plain": [
       "        Country    dt  min_temp  max_temp   avg_temp  temp_range  pct_change  \\\n",
       "0   Afghanistan  1938     1.230    26.175  14.211250      24.945         NaN   \n",
       "1   Afghanistan  1939     1.718    26.743  14.161917      25.025   -0.347143   \n",
       "2   Afghanistan  1940     2.680    27.601  14.734000      24.921    4.039590   \n",
       "3   Afghanistan  1941     1.140    26.704  15.502750      25.564    5.217524   \n",
       "4   Afghanistan  1942     1.523    27.037  14.451167      25.514   -6.783205   \n",
       "5   Afghanistan  1943    -0.587    26.789  13.707833      27.376   -5.143760   \n",
       "6   Afghanistan  1944    -1.296    28.425  14.291750      29.721    4.259730   \n",
       "7   Afghanistan  1945    -1.013    26.617  13.866250      27.630   -2.977242   \n",
       "8   Afghanistan  1946    -0.624    26.931  14.594667      27.555    5.253163   \n",
       "9   Afghanistan  1947     2.335    26.855  15.035083      24.520    3.017655   \n",
       "10  Afghanistan  1948     1.209    27.587  14.335250      26.378   -4.654669   \n",
       "11  Afghanistan  1949    -1.374    27.238  13.350083      28.612   -6.872337   \n",
       "12  Afghanistan  1950    -0.156    27.455  13.043500      27.611   -2.296490   \n",
       "13  Afghanistan  1951     0.648    26.001  13.967750      25.353    7.085905   \n",
       "14  Afghanistan  1952     1.198    26.485  14.175417      25.287    1.486758   \n",
       "15  Afghanistan  1953     2.097    27.407  14.650750      25.310    3.353223   \n",
       "16  Afghanistan  1954     1.333    25.918  13.691333      24.585   -6.548584   \n",
       "17  Afghanistan  1955     1.636    27.077  14.642583      25.441    6.947826   \n",
       "18  Afghanistan  1956     0.844    26.617  14.191083      25.773   -3.083472   \n",
       "19  Afghanistan  1957    -1.690    25.775  12.777167      27.465   -9.963416   \n",
       "\n",
       "    five_yr_avg_pct_change  ten_yr_avg_pct_change  \n",
       "0                      NaN                    NaN  \n",
       "1                      NaN                    NaN  \n",
       "2                      NaN                    NaN  \n",
       "3                      NaN                    NaN  \n",
       "4                      NaN                    NaN  \n",
       "5                -0.603399                    NaN  \n",
       "6                 0.317976                    NaN  \n",
       "7                -1.085391                    NaN  \n",
       "8                -1.078263                    NaN  \n",
       "9                 0.881909                    NaN  \n",
       "10                0.979727               0.188164  \n",
       "11               -1.246686              -0.464355  \n",
       "12               -1.110536              -1.097963  \n",
       "13               -0.743987              -0.911125  \n",
       "14               -1.050167              -0.084129  \n",
       "15                0.551412               0.765570  \n",
       "16                0.616162              -0.315262  \n",
       "17                2.465026               0.677245  \n",
       "18                0.431150              -0.156419  \n",
       "19               -1.858885              -1.454526  "
      ]
     },
     "execution_count": 53,
     "metadata": {},
     "output_type": "execute_result"
    }
   ],
   "source": [
    "# adding pct_change, 5-yr, and 10-yr columns\n",
    "fast_warm_country['pct_change']=(fast_warm_country['avg_temp'].diff() / fast_warm_country['avg_temp'].abs().shift())*100\n",
    "fast_warm_country['five_yr_avg_pct_change']=fast_warm_country['pct_change'].rolling(5).mean()\n",
    "fast_warm_country['ten_yr_avg_pct_change']=fast_warm_country['pct_change'].rolling(10).mean()\n",
    "\n",
    "fast_warm_country.head(20)"
   ]
  },
  {
   "cell_type": "code",
   "execution_count": 54,
   "id": "6f0cc35e",
   "metadata": {
    "scrolled": true,
    "slideshow": {
     "slide_type": "subslide"
    }
   },
   "outputs": [
    {
     "data": {
      "text/html": [
       "<div>\n",
       "<style scoped>\n",
       "    .dataframe tbody tr th:only-of-type {\n",
       "        vertical-align: middle;\n",
       "    }\n",
       "\n",
       "    .dataframe tbody tr th {\n",
       "        vertical-align: top;\n",
       "    }\n",
       "\n",
       "    .dataframe thead th {\n",
       "        text-align: right;\n",
       "    }\n",
       "</style>\n",
       "<table border=\"1\" class=\"dataframe\">\n",
       "  <thead>\n",
       "    <tr style=\"text-align: right;\">\n",
       "      <th></th>\n",
       "      <th>Country</th>\n",
       "      <th>dt</th>\n",
       "      <th>min_temp</th>\n",
       "      <th>max_temp</th>\n",
       "      <th>avg_temp</th>\n",
       "      <th>temp_range</th>\n",
       "      <th>pct_change</th>\n",
       "      <th>five_yr_avg_pct_change</th>\n",
       "      <th>ten_yr_avg_pct_change</th>\n",
       "    </tr>\n",
       "  </thead>\n",
       "  <tbody>\n",
       "    <tr>\n",
       "      <th>5418</th>\n",
       "      <td>Finland</td>\n",
       "      <td>1960</td>\n",
       "      <td>-13.099</td>\n",
       "      <td>17.939</td>\n",
       "      <td>1.775917</td>\n",
       "      <td>31.038</td>\n",
       "      <td>-31.350063</td>\n",
       "      <td>2673.697405</td>\n",
       "      <td>1332.838579</td>\n",
       "    </tr>\n",
       "    <tr>\n",
       "      <th>5419</th>\n",
       "      <td>Finland</td>\n",
       "      <td>1961</td>\n",
       "      <td>-9.978</td>\n",
       "      <td>16.019</td>\n",
       "      <td>3.028417</td>\n",
       "      <td>25.997</td>\n",
       "      <td>70.526958</td>\n",
       "      <td>2669.739916</td>\n",
       "      <td>1342.639905</td>\n",
       "    </tr>\n",
       "    <tr>\n",
       "      <th>5417</th>\n",
       "      <td>Finland</td>\n",
       "      <td>1959</td>\n",
       "      <td>-10.340</td>\n",
       "      <td>15.994</td>\n",
       "      <td>2.586917</td>\n",
       "      <td>26.334</td>\n",
       "      <td>350.747786</td>\n",
       "      <td>2658.528422</td>\n",
       "      <td>1333.216889</td>\n",
       "    </tr>\n",
       "    <tr>\n",
       "      <th>5415</th>\n",
       "      <td>Finland</td>\n",
       "      <td>1957</td>\n",
       "      <td>-9.107</td>\n",
       "      <td>17.112</td>\n",
       "      <td>2.058167</td>\n",
       "      <td>26.219</td>\n",
       "      <td>13030.890052</td>\n",
       "      <td>2627.461211</td>\n",
       "      <td>1320.284606</td>\n",
       "    </tr>\n",
       "    <tr>\n",
       "      <th>5416</th>\n",
       "      <td>Finland</td>\n",
       "      <td>1958</td>\n",
       "      <td>-13.453</td>\n",
       "      <td>13.695</td>\n",
       "      <td>0.573917</td>\n",
       "      <td>27.148</td>\n",
       "      <td>-72.115151</td>\n",
       "      <td>2585.084948</td>\n",
       "      <td>1301.049449</td>\n",
       "    </tr>\n",
       "    <tr>\n",
       "      <th>5404</th>\n",
       "      <td>Finland</td>\n",
       "      <td>1946</td>\n",
       "      <td>-13.401</td>\n",
       "      <td>16.557</td>\n",
       "      <td>1.885750</td>\n",
       "      <td>29.958</td>\n",
       "      <td>49.642904</td>\n",
       "      <td>697.414059</td>\n",
       "      <td>299.284433</td>\n",
       "    </tr>\n",
       "    <tr>\n",
       "      <th>5405</th>\n",
       "      <td>Finland</td>\n",
       "      <td>1947</td>\n",
       "      <td>-16.832</td>\n",
       "      <td>16.275</td>\n",
       "      <td>1.071500</td>\n",
       "      <td>33.107</td>\n",
       "      <td>-43.179106</td>\n",
       "      <td>671.445063</td>\n",
       "      <td>294.784750</td>\n",
       "    </tr>\n",
       "    <tr>\n",
       "      <th>5403</th>\n",
       "      <td>Finland</td>\n",
       "      <td>1945</td>\n",
       "      <td>-12.022</td>\n",
       "      <td>16.859</td>\n",
       "      <td>1.260167</td>\n",
       "      <td>28.881</td>\n",
       "      <td>-49.621881</td>\n",
       "      <td>631.087476</td>\n",
       "      <td>294.225058</td>\n",
       "    </tr>\n",
       "    <tr>\n",
       "      <th>5402</th>\n",
       "      <td>Finland</td>\n",
       "      <td>1944</td>\n",
       "      <td>-7.531</td>\n",
       "      <td>15.529</td>\n",
       "      <td>2.501417</td>\n",
       "      <td>23.060</td>\n",
       "      <td>-19.043638</td>\n",
       "      <td>624.867607</td>\n",
       "      <td>299.111753</td>\n",
       "    </tr>\n",
       "    <tr>\n",
       "      <th>5401</th>\n",
       "      <td>Finland</td>\n",
       "      <td>1943</td>\n",
       "      <td>-12.876</td>\n",
       "      <td>15.724</td>\n",
       "      <td>3.089833</td>\n",
       "      <td>28.600</td>\n",
       "      <td>3419.427037</td>\n",
       "      <td>619.053370</td>\n",
       "      <td>301.290059</td>\n",
       "    </tr>\n",
       "    <tr>\n",
       "      <th>10614</th>\n",
       "      <td>Mongolia</td>\n",
       "      <td>2008</td>\n",
       "      <td>-23.697</td>\n",
       "      <td>19.642</td>\n",
       "      <td>1.115583</td>\n",
       "      <td>43.339</td>\n",
       "      <td>-46.252058</td>\n",
       "      <td>597.890236</td>\n",
       "      <td>315.325752</td>\n",
       "    </tr>\n",
       "    <tr>\n",
       "      <th>10613</th>\n",
       "      <td>Mongolia</td>\n",
       "      <td>2007</td>\n",
       "      <td>-18.604</td>\n",
       "      <td>20.716</td>\n",
       "      <td>2.075583</td>\n",
       "      <td>39.320</td>\n",
       "      <td>118.042546</td>\n",
       "      <td>587.987731</td>\n",
       "      <td>322.629931</td>\n",
       "    </tr>\n",
       "    <tr>\n",
       "      <th>10612</th>\n",
       "      <td>Mongolia</td>\n",
       "      <td>2006</td>\n",
       "      <td>-19.961</td>\n",
       "      <td>18.485</td>\n",
       "      <td>0.951917</td>\n",
       "      <td>38.446</td>\n",
       "      <td>780.750894</td>\n",
       "      <td>573.590683</td>\n",
       "      <td>473.184547</td>\n",
       "    </tr>\n",
       "    <tr>\n",
       "      <th>11837</th>\n",
       "      <td>Oman</td>\n",
       "      <td>1939</td>\n",
       "      <td>19.474</td>\n",
       "      <td>32.462</td>\n",
       "      <td>26.417750</td>\n",
       "      <td>12.988</td>\n",
       "      <td>-0.186081</td>\n",
       "      <td>502.819832</td>\n",
       "      <td>237.915047</td>\n",
       "    </tr>\n",
       "    <tr>\n",
       "      <th>11783</th>\n",
       "      <td>Norway</td>\n",
       "      <td>1961</td>\n",
       "      <td>-9.254</td>\n",
       "      <td>11.069</td>\n",
       "      <td>1.090583</td>\n",
       "      <td>20.323</td>\n",
       "      <td>88.031609</td>\n",
       "      <td>500.139166</td>\n",
       "      <td>252.614080</td>\n",
       "    </tr>\n",
       "    <tr>\n",
       "      <th>11782</th>\n",
       "      <td>Norway</td>\n",
       "      <td>1960</td>\n",
       "      <td>-10.668</td>\n",
       "      <td>11.873</td>\n",
       "      <td>0.580000</td>\n",
       "      <td>22.541</td>\n",
       "      <td>-57.774677</td>\n",
       "      <td>499.402936</td>\n",
       "      <td>235.076485</td>\n",
       "    </tr>\n",
       "    <tr>\n",
       "      <th>10610</th>\n",
       "      <td>Mongolia</td>\n",
       "      <td>2004</td>\n",
       "      <td>-20.021</td>\n",
       "      <td>19.218</td>\n",
       "      <td>1.090667</td>\n",
       "      <td>39.239</td>\n",
       "      <td>2249.730700</td>\n",
       "      <td>488.941297</td>\n",
       "      <td>396.080196</td>\n",
       "    </tr>\n",
       "    <tr>\n",
       "      <th>10611</th>\n",
       "      <td>Mongolia</td>\n",
       "      <td>2005</td>\n",
       "      <td>-23.682</td>\n",
       "      <td>19.984</td>\n",
       "      <td>-0.139833</td>\n",
       "      <td>43.666</td>\n",
       "      <td>-112.820905</td>\n",
       "      <td>483.192886</td>\n",
       "      <td>384.005027</td>\n",
       "    </tr>\n",
       "    <tr>\n",
       "      <th>11836</th>\n",
       "      <td>Oman</td>\n",
       "      <td>1938</td>\n",
       "      <td>19.294</td>\n",
       "      <td>32.745</td>\n",
       "      <td>26.467000</td>\n",
       "      <td>13.451</td>\n",
       "      <td>1425.145862</td>\n",
       "      <td>479.746258</td>\n",
       "      <td>239.785669</td>\n",
       "    </tr>\n",
       "    <tr>\n",
       "      <th>11781</th>\n",
       "      <td>Norway</td>\n",
       "      <td>1959</td>\n",
       "      <td>-10.844</td>\n",
       "      <td>11.362</td>\n",
       "      <td>1.373583</td>\n",
       "      <td>22.206</td>\n",
       "      <td>1410.254372</td>\n",
       "      <td>479.620627</td>\n",
       "      <td>238.935141</td>\n",
       "    </tr>\n",
       "  </tbody>\n",
       "</table>\n",
       "</div>"
      ],
      "text/plain": [
       "        Country    dt  min_temp  max_temp   avg_temp  temp_range  \\\n",
       "5418    Finland  1960   -13.099    17.939   1.775917      31.038   \n",
       "5419    Finland  1961    -9.978    16.019   3.028417      25.997   \n",
       "5417    Finland  1959   -10.340    15.994   2.586917      26.334   \n",
       "5415    Finland  1957    -9.107    17.112   2.058167      26.219   \n",
       "5416    Finland  1958   -13.453    13.695   0.573917      27.148   \n",
       "5404    Finland  1946   -13.401    16.557   1.885750      29.958   \n",
       "5405    Finland  1947   -16.832    16.275   1.071500      33.107   \n",
       "5403    Finland  1945   -12.022    16.859   1.260167      28.881   \n",
       "5402    Finland  1944    -7.531    15.529   2.501417      23.060   \n",
       "5401    Finland  1943   -12.876    15.724   3.089833      28.600   \n",
       "10614  Mongolia  2008   -23.697    19.642   1.115583      43.339   \n",
       "10613  Mongolia  2007   -18.604    20.716   2.075583      39.320   \n",
       "10612  Mongolia  2006   -19.961    18.485   0.951917      38.446   \n",
       "11837      Oman  1939    19.474    32.462  26.417750      12.988   \n",
       "11783    Norway  1961    -9.254    11.069   1.090583      20.323   \n",
       "11782    Norway  1960   -10.668    11.873   0.580000      22.541   \n",
       "10610  Mongolia  2004   -20.021    19.218   1.090667      39.239   \n",
       "10611  Mongolia  2005   -23.682    19.984  -0.139833      43.666   \n",
       "11836      Oman  1938    19.294    32.745  26.467000      13.451   \n",
       "11781    Norway  1959   -10.844    11.362   1.373583      22.206   \n",
       "\n",
       "         pct_change  five_yr_avg_pct_change  ten_yr_avg_pct_change  \n",
       "5418     -31.350063             2673.697405            1332.838579  \n",
       "5419      70.526958             2669.739916            1342.639905  \n",
       "5417     350.747786             2658.528422            1333.216889  \n",
       "5415   13030.890052             2627.461211            1320.284606  \n",
       "5416     -72.115151             2585.084948            1301.049449  \n",
       "5404      49.642904              697.414059             299.284433  \n",
       "5405     -43.179106              671.445063             294.784750  \n",
       "5403     -49.621881              631.087476             294.225058  \n",
       "5402     -19.043638              624.867607             299.111753  \n",
       "5401    3419.427037              619.053370             301.290059  \n",
       "10614    -46.252058              597.890236             315.325752  \n",
       "10613    118.042546              587.987731             322.629931  \n",
       "10612    780.750894              573.590683             473.184547  \n",
       "11837     -0.186081              502.819832             237.915047  \n",
       "11783     88.031609              500.139166             252.614080  \n",
       "11782    -57.774677              499.402936             235.076485  \n",
       "10610   2249.730700              488.941297             396.080196  \n",
       "10611   -112.820905              483.192886             384.005027  \n",
       "11836   1425.145862              479.746258             239.785669  \n",
       "11781   1410.254372              479.620627             238.935141  "
      ]
     },
     "execution_count": 54,
     "metadata": {},
     "output_type": "execute_result"
    }
   ],
   "source": [
    "# top 20 five_yr_avg (by country)\n",
    "fast_warm_country.nlargest(20,'five_yr_avg_pct_change')"
   ]
  },
  {
   "cell_type": "markdown",
   "id": "b32a67d4",
   "metadata": {
    "slideshow": {
     "slide_type": "fragment"
    }
   },
   "source": [
    "Finland in the 50s/60s!\n",
    "\n",
    "With such **massive** `five_yr_avg_pct_change` values, let's investigate the temperatures recorded in Finland over this time."
   ]
  },
  {
   "cell_type": "code",
   "execution_count": 55,
   "id": "a8b5a709",
   "metadata": {
    "scrolled": false,
    "slideshow": {
     "slide_type": "subslide"
    }
   },
   "outputs": [
    {
     "data": {
      "text/html": [
       "<div>\n",
       "<style scoped>\n",
       "    .dataframe tbody tr th:only-of-type {\n",
       "        vertical-align: middle;\n",
       "    }\n",
       "\n",
       "    .dataframe tbody tr th {\n",
       "        vertical-align: top;\n",
       "    }\n",
       "\n",
       "    .dataframe thead th {\n",
       "        text-align: right;\n",
       "    }\n",
       "</style>\n",
       "<table border=\"1\" class=\"dataframe\">\n",
       "  <thead>\n",
       "    <tr style=\"text-align: right;\">\n",
       "      <th></th>\n",
       "      <th>Country</th>\n",
       "      <th>dt</th>\n",
       "      <th>min_temp</th>\n",
       "      <th>max_temp</th>\n",
       "      <th>avg_temp</th>\n",
       "      <th>temp_range</th>\n",
       "      <th>pct_change</th>\n",
       "      <th>five_yr_avg_pct_change</th>\n",
       "      <th>ten_yr_avg_pct_change</th>\n",
       "    </tr>\n",
       "  </thead>\n",
       "  <tbody>\n",
       "    <tr>\n",
       "      <th>5409</th>\n",
       "      <td>Finland</td>\n",
       "      <td>1951</td>\n",
       "      <td>-12.791</td>\n",
       "      <td>16.036</td>\n",
       "      <td>1.599833</td>\n",
       "      <td>28.827</td>\n",
       "      <td>-27.486308</td>\n",
       "      <td>10.215487</td>\n",
       "      <td>353.814773</td>\n",
       "    </tr>\n",
       "    <tr>\n",
       "      <th>5410</th>\n",
       "      <td>Finland</td>\n",
       "      <td>1952</td>\n",
       "      <td>-10.017</td>\n",
       "      <td>14.876</td>\n",
       "      <td>1.140417</td>\n",
       "      <td>24.893</td>\n",
       "      <td>-28.716533</td>\n",
       "      <td>13.108002</td>\n",
       "      <td>342.276532</td>\n",
       "    </tr>\n",
       "    <tr>\n",
       "      <th>5411</th>\n",
       "      <td>Finland</td>\n",
       "      <td>1953</td>\n",
       "      <td>-13.717</td>\n",
       "      <td>16.061</td>\n",
       "      <td>2.734333</td>\n",
       "      <td>29.778</td>\n",
       "      <td>139.766167</td>\n",
       "      <td>17.013949</td>\n",
       "      <td>14.310445</td>\n",
       "    </tr>\n",
       "    <tr>\n",
       "      <th>5412</th>\n",
       "      <td>Finland</td>\n",
       "      <td>1954</td>\n",
       "      <td>-13.518</td>\n",
       "      <td>16.538</td>\n",
       "      <td>2.284000</td>\n",
       "      <td>30.056</td>\n",
       "      <td>-16.469584</td>\n",
       "      <td>7.905356</td>\n",
       "      <td>14.567851</td>\n",
       "    </tr>\n",
       "    <tr>\n",
       "      <th>5413</th>\n",
       "      <td>Finland</td>\n",
       "      <td>1955</td>\n",
       "      <td>-16.457</td>\n",
       "      <td>15.686</td>\n",
       "      <td>-0.164333</td>\n",
       "      <td>32.143</td>\n",
       "      <td>-107.194980</td>\n",
       "      <td>-8.020247</td>\n",
       "      <td>8.810541</td>\n",
       "    </tr>\n",
       "    <tr>\n",
       "      <th>5414</th>\n",
       "      <td>Finland</td>\n",
       "      <td>1956</td>\n",
       "      <td>-15.952</td>\n",
       "      <td>14.127</td>\n",
       "      <td>-0.015917</td>\n",
       "      <td>30.079</td>\n",
       "      <td>90.314402</td>\n",
       "      <td>15.539894</td>\n",
       "      <td>12.877691</td>\n",
       "    </tr>\n",
       "    <tr>\n",
       "      <th>5415</th>\n",
       "      <td>Finland</td>\n",
       "      <td>1957</td>\n",
       "      <td>-9.107</td>\n",
       "      <td>17.112</td>\n",
       "      <td>2.058167</td>\n",
       "      <td>26.219</td>\n",
       "      <td>13030.890052</td>\n",
       "      <td>2627.461211</td>\n",
       "      <td>1320.284606</td>\n",
       "    </tr>\n",
       "    <tr>\n",
       "      <th>5416</th>\n",
       "      <td>Finland</td>\n",
       "      <td>1958</td>\n",
       "      <td>-13.453</td>\n",
       "      <td>13.695</td>\n",
       "      <td>0.573917</td>\n",
       "      <td>27.148</td>\n",
       "      <td>-72.115151</td>\n",
       "      <td>2585.084948</td>\n",
       "      <td>1301.049449</td>\n",
       "    </tr>\n",
       "    <tr>\n",
       "      <th>5417</th>\n",
       "      <td>Finland</td>\n",
       "      <td>1959</td>\n",
       "      <td>-10.340</td>\n",
       "      <td>15.994</td>\n",
       "      <td>2.586917</td>\n",
       "      <td>26.334</td>\n",
       "      <td>350.747786</td>\n",
       "      <td>2658.528422</td>\n",
       "      <td>1333.216889</td>\n",
       "    </tr>\n",
       "    <tr>\n",
       "      <th>5418</th>\n",
       "      <td>Finland</td>\n",
       "      <td>1960</td>\n",
       "      <td>-13.099</td>\n",
       "      <td>17.939</td>\n",
       "      <td>1.775917</td>\n",
       "      <td>31.038</td>\n",
       "      <td>-31.350063</td>\n",
       "      <td>2673.697405</td>\n",
       "      <td>1332.838579</td>\n",
       "    </tr>\n",
       "    <tr>\n",
       "      <th>5419</th>\n",
       "      <td>Finland</td>\n",
       "      <td>1961</td>\n",
       "      <td>-9.978</td>\n",
       "      <td>16.019</td>\n",
       "      <td>3.028417</td>\n",
       "      <td>25.997</td>\n",
       "      <td>70.526958</td>\n",
       "      <td>2669.739916</td>\n",
       "      <td>1342.639905</td>\n",
       "    </tr>\n",
       "    <tr>\n",
       "      <th>5420</th>\n",
       "      <td>Finland</td>\n",
       "      <td>1962</td>\n",
       "      <td>-11.954</td>\n",
       "      <td>13.138</td>\n",
       "      <td>1.001500</td>\n",
       "      <td>25.092</td>\n",
       "      <td>-66.929914</td>\n",
       "      <td>50.175923</td>\n",
       "      <td>1338.818567</td>\n",
       "    </tr>\n",
       "    <tr>\n",
       "      <th>5421</th>\n",
       "      <td>Finland</td>\n",
       "      <td>1963</td>\n",
       "      <td>-13.841</td>\n",
       "      <td>14.656</td>\n",
       "      <td>1.288750</td>\n",
       "      <td>28.497</td>\n",
       "      <td>28.681977</td>\n",
       "      <td>70.335349</td>\n",
       "      <td>1327.710148</td>\n",
       "    </tr>\n",
       "    <tr>\n",
       "      <th>5422</th>\n",
       "      <td>Finland</td>\n",
       "      <td>1964</td>\n",
       "      <td>-12.111</td>\n",
       "      <td>15.128</td>\n",
       "      <td>1.911167</td>\n",
       "      <td>27.239</td>\n",
       "      <td>48.296153</td>\n",
       "      <td>9.845022</td>\n",
       "      <td>1334.186722</td>\n",
       "    </tr>\n",
       "    <tr>\n",
       "      <th>5423</th>\n",
       "      <td>Finland</td>\n",
       "      <td>1965</td>\n",
       "      <td>-10.674</td>\n",
       "      <td>13.226</td>\n",
       "      <td>0.889833</td>\n",
       "      <td>23.900</td>\n",
       "      <td>-53.440307</td>\n",
       "      <td>5.426973</td>\n",
       "      <td>1339.562189</td>\n",
       "    </tr>\n",
       "    <tr>\n",
       "      <th>5424</th>\n",
       "      <td>Finland</td>\n",
       "      <td>1966</td>\n",
       "      <td>-19.235</td>\n",
       "      <td>15.816</td>\n",
       "      <td>-0.256083</td>\n",
       "      <td>35.051</td>\n",
       "      <td>-128.778798</td>\n",
       "      <td>-34.434178</td>\n",
       "      <td>1317.652869</td>\n",
       "    </tr>\n",
       "    <tr>\n",
       "      <th>5425</th>\n",
       "      <td>Finland</td>\n",
       "      <td>1967</td>\n",
       "      <td>-15.347</td>\n",
       "      <td>15.166</td>\n",
       "      <td>2.012667</td>\n",
       "      <td>30.513</td>\n",
       "      <td>885.942076</td>\n",
       "      <td>156.140220</td>\n",
       "      <td>103.158072</td>\n",
       "    </tr>\n",
       "    <tr>\n",
       "      <th>5426</th>\n",
       "      <td>Finland</td>\n",
       "      <td>1968</td>\n",
       "      <td>-18.401</td>\n",
       "      <td>13.786</td>\n",
       "      <td>0.487417</td>\n",
       "      <td>32.187</td>\n",
       "      <td>-75.782544</td>\n",
       "      <td>135.247316</td>\n",
       "      <td>102.791332</td>\n",
       "    </tr>\n",
       "    <tr>\n",
       "      <th>5427</th>\n",
       "      <td>Finland</td>\n",
       "      <td>1969</td>\n",
       "      <td>-14.731</td>\n",
       "      <td>15.192</td>\n",
       "      <td>0.530250</td>\n",
       "      <td>29.923</td>\n",
       "      <td>8.787827</td>\n",
       "      <td>127.345651</td>\n",
       "      <td>68.595337</td>\n",
       "    </tr>\n",
       "    <tr>\n",
       "      <th>5428</th>\n",
       "      <td>Finland</td>\n",
       "      <td>1970</td>\n",
       "      <td>-16.570</td>\n",
       "      <td>16.048</td>\n",
       "      <td>1.173333</td>\n",
       "      <td>32.618</td>\n",
       "      <td>121.279271</td>\n",
       "      <td>162.289566</td>\n",
       "      <td>83.858270</td>\n",
       "    </tr>\n",
       "  </tbody>\n",
       "</table>\n",
       "</div>"
      ],
      "text/plain": [
       "      Country    dt  min_temp  max_temp  avg_temp  temp_range    pct_change  \\\n",
       "5409  Finland  1951   -12.791    16.036  1.599833      28.827    -27.486308   \n",
       "5410  Finland  1952   -10.017    14.876  1.140417      24.893    -28.716533   \n",
       "5411  Finland  1953   -13.717    16.061  2.734333      29.778    139.766167   \n",
       "5412  Finland  1954   -13.518    16.538  2.284000      30.056    -16.469584   \n",
       "5413  Finland  1955   -16.457    15.686 -0.164333      32.143   -107.194980   \n",
       "5414  Finland  1956   -15.952    14.127 -0.015917      30.079     90.314402   \n",
       "5415  Finland  1957    -9.107    17.112  2.058167      26.219  13030.890052   \n",
       "5416  Finland  1958   -13.453    13.695  0.573917      27.148    -72.115151   \n",
       "5417  Finland  1959   -10.340    15.994  2.586917      26.334    350.747786   \n",
       "5418  Finland  1960   -13.099    17.939  1.775917      31.038    -31.350063   \n",
       "5419  Finland  1961    -9.978    16.019  3.028417      25.997     70.526958   \n",
       "5420  Finland  1962   -11.954    13.138  1.001500      25.092    -66.929914   \n",
       "5421  Finland  1963   -13.841    14.656  1.288750      28.497     28.681977   \n",
       "5422  Finland  1964   -12.111    15.128  1.911167      27.239     48.296153   \n",
       "5423  Finland  1965   -10.674    13.226  0.889833      23.900    -53.440307   \n",
       "5424  Finland  1966   -19.235    15.816 -0.256083      35.051   -128.778798   \n",
       "5425  Finland  1967   -15.347    15.166  2.012667      30.513    885.942076   \n",
       "5426  Finland  1968   -18.401    13.786  0.487417      32.187    -75.782544   \n",
       "5427  Finland  1969   -14.731    15.192  0.530250      29.923      8.787827   \n",
       "5428  Finland  1970   -16.570    16.048  1.173333      32.618    121.279271   \n",
       "\n",
       "      five_yr_avg_pct_change  ten_yr_avg_pct_change  \n",
       "5409               10.215487             353.814773  \n",
       "5410               13.108002             342.276532  \n",
       "5411               17.013949              14.310445  \n",
       "5412                7.905356              14.567851  \n",
       "5413               -8.020247               8.810541  \n",
       "5414               15.539894              12.877691  \n",
       "5415             2627.461211            1320.284606  \n",
       "5416             2585.084948            1301.049449  \n",
       "5417             2658.528422            1333.216889  \n",
       "5418             2673.697405            1332.838579  \n",
       "5419             2669.739916            1342.639905  \n",
       "5420               50.175923            1338.818567  \n",
       "5421               70.335349            1327.710148  \n",
       "5422                9.845022            1334.186722  \n",
       "5423                5.426973            1339.562189  \n",
       "5424              -34.434178            1317.652869  \n",
       "5425              156.140220             103.158072  \n",
       "5426              135.247316             102.791332  \n",
       "5427              127.345651              68.595337  \n",
       "5428              162.289566              83.858270  "
      ]
     },
     "execution_count": 55,
     "metadata": {},
     "output_type": "execute_result"
    }
   ],
   "source": [
    "finland_warming = fast_warm_country.loc[(fast_warm_country['Country'] == 'Finland') & (fast_warm_country['dt'] > 1950)]\n",
    "finland_warming.head(20)"
   ]
  },
  {
   "cell_type": "code",
   "execution_count": 56,
   "id": "e0efcfed",
   "metadata": {
    "slideshow": {
     "slide_type": "subslide"
    }
   },
   "outputs": [
    {
     "data": {
      "image/png": "[encoded data removed]",
      "text/plain": [
       "<Figure size 1296x576 with 1 Axes>"
      ]
     },
     "metadata": {},
     "output_type": "display_data"
    }
   ],
   "source": [
    "# Finland average temperature over time (annual)\n",
    "finland_warming = fast_warm_country.loc[(fast_warm_country['Country'] == 'Finland') & (fast_warm_country['dt'] > 1900)]\n",
    "\n",
    "f,ax=plt.subplots(figsize=(18, 8))\n",
    "sns.lineplot(data=finland_warming, x='dt', y='avg_temp', color='xkcd:sage')\n",
    "text=ax.set(xlabel='Time (annnual)', ylabel='Average Temperature (°C)', title='Average Annual Temperature in Finland (1900-2013)')"
   ]
  },
  {
   "cell_type": "markdown",
   "id": "9dab537a",
   "metadata": {
    "slideshow": {
     "slide_type": "fragment"
    }
   },
   "source": [
    "The `pct_change` in `avg_temp` in Finland from 1957 to 1958 was **more than 13,000%**! Of course, looking at the true values of `avg_temp`, we see a change that would likely be imperceptible to the vast majority of people (–0.015917 up to 2.058167) but the *rate of change* is still not the be taken likely."
   ]
  },
  {
   "cell_type": "code",
   "execution_count": 57,
   "id": "ba0bb22c",
   "metadata": {
    "scrolled": false,
    "slideshow": {
     "slide_type": "subslide"
    }
   },
   "outputs": [
    {
     "data": {
      "text/html": [
       "<div>\n",
       "<style scoped>\n",
       "    .dataframe tbody tr th:only-of-type {\n",
       "        vertical-align: middle;\n",
       "    }\n",
       "\n",
       "    .dataframe tbody tr th {\n",
       "        vertical-align: top;\n",
       "    }\n",
       "\n",
       "    .dataframe thead th {\n",
       "        text-align: right;\n",
       "    }\n",
       "</style>\n",
       "<table border=\"1\" class=\"dataframe\">\n",
       "  <thead>\n",
       "    <tr style=\"text-align: right;\">\n",
       "      <th></th>\n",
       "      <th>Country</th>\n",
       "      <th>dt</th>\n",
       "      <th>min_temp</th>\n",
       "      <th>max_temp</th>\n",
       "      <th>avg_temp</th>\n",
       "      <th>temp_range</th>\n",
       "      <th>pct_change</th>\n",
       "      <th>five_yr_avg_pct_change</th>\n",
       "      <th>ten_yr_avg_pct_change</th>\n",
       "    </tr>\n",
       "  </thead>\n",
       "  <tbody>\n",
       "    <tr>\n",
       "      <th>5419</th>\n",
       "      <td>Finland</td>\n",
       "      <td>1961</td>\n",
       "      <td>-9.978</td>\n",
       "      <td>16.019</td>\n",
       "      <td>3.028417</td>\n",
       "      <td>25.997</td>\n",
       "      <td>70.526958</td>\n",
       "      <td>2669.739916</td>\n",
       "      <td>1342.639905</td>\n",
       "    </tr>\n",
       "    <tr>\n",
       "      <th>5423</th>\n",
       "      <td>Finland</td>\n",
       "      <td>1965</td>\n",
       "      <td>-10.674</td>\n",
       "      <td>13.226</td>\n",
       "      <td>0.889833</td>\n",
       "      <td>23.900</td>\n",
       "      <td>-53.440307</td>\n",
       "      <td>5.426973</td>\n",
       "      <td>1339.562189</td>\n",
       "    </tr>\n",
       "    <tr>\n",
       "      <th>5420</th>\n",
       "      <td>Finland</td>\n",
       "      <td>1962</td>\n",
       "      <td>-11.954</td>\n",
       "      <td>13.138</td>\n",
       "      <td>1.001500</td>\n",
       "      <td>25.092</td>\n",
       "      <td>-66.929914</td>\n",
       "      <td>50.175923</td>\n",
       "      <td>1338.818567</td>\n",
       "    </tr>\n",
       "    <tr>\n",
       "      <th>5422</th>\n",
       "      <td>Finland</td>\n",
       "      <td>1964</td>\n",
       "      <td>-12.111</td>\n",
       "      <td>15.128</td>\n",
       "      <td>1.911167</td>\n",
       "      <td>27.239</td>\n",
       "      <td>48.296153</td>\n",
       "      <td>9.845022</td>\n",
       "      <td>1334.186722</td>\n",
       "    </tr>\n",
       "    <tr>\n",
       "      <th>5417</th>\n",
       "      <td>Finland</td>\n",
       "      <td>1959</td>\n",
       "      <td>-10.340</td>\n",
       "      <td>15.994</td>\n",
       "      <td>2.586917</td>\n",
       "      <td>26.334</td>\n",
       "      <td>350.747786</td>\n",
       "      <td>2658.528422</td>\n",
       "      <td>1333.216889</td>\n",
       "    </tr>\n",
       "    <tr>\n",
       "      <th>5418</th>\n",
       "      <td>Finland</td>\n",
       "      <td>1960</td>\n",
       "      <td>-13.099</td>\n",
       "      <td>17.939</td>\n",
       "      <td>1.775917</td>\n",
       "      <td>31.038</td>\n",
       "      <td>-31.350063</td>\n",
       "      <td>2673.697405</td>\n",
       "      <td>1332.838579</td>\n",
       "    </tr>\n",
       "    <tr>\n",
       "      <th>5421</th>\n",
       "      <td>Finland</td>\n",
       "      <td>1963</td>\n",
       "      <td>-13.841</td>\n",
       "      <td>14.656</td>\n",
       "      <td>1.288750</td>\n",
       "      <td>28.497</td>\n",
       "      <td>28.681977</td>\n",
       "      <td>70.335349</td>\n",
       "      <td>1327.710148</td>\n",
       "    </tr>\n",
       "    <tr>\n",
       "      <th>5415</th>\n",
       "      <td>Finland</td>\n",
       "      <td>1957</td>\n",
       "      <td>-9.107</td>\n",
       "      <td>17.112</td>\n",
       "      <td>2.058167</td>\n",
       "      <td>26.219</td>\n",
       "      <td>13030.890052</td>\n",
       "      <td>2627.461211</td>\n",
       "      <td>1320.284606</td>\n",
       "    </tr>\n",
       "    <tr>\n",
       "      <th>5424</th>\n",
       "      <td>Finland</td>\n",
       "      <td>1966</td>\n",
       "      <td>-19.235</td>\n",
       "      <td>15.816</td>\n",
       "      <td>-0.256083</td>\n",
       "      <td>35.051</td>\n",
       "      <td>-128.778798</td>\n",
       "      <td>-34.434178</td>\n",
       "      <td>1317.652869</td>\n",
       "    </tr>\n",
       "    <tr>\n",
       "      <th>5416</th>\n",
       "      <td>Finland</td>\n",
       "      <td>1958</td>\n",
       "      <td>-13.453</td>\n",
       "      <td>13.695</td>\n",
       "      <td>0.573917</td>\n",
       "      <td>27.148</td>\n",
       "      <td>-72.115151</td>\n",
       "      <td>2585.084948</td>\n",
       "      <td>1301.049449</td>\n",
       "    </tr>\n",
       "    <tr>\n",
       "      <th>10612</th>\n",
       "      <td>Mongolia</td>\n",
       "      <td>2006</td>\n",
       "      <td>-19.961</td>\n",
       "      <td>18.485</td>\n",
       "      <td>0.951917</td>\n",
       "      <td>38.446</td>\n",
       "      <td>780.750894</td>\n",
       "      <td>573.590683</td>\n",
       "      <td>473.184547</td>\n",
       "    </tr>\n",
       "    <tr>\n",
       "      <th>10610</th>\n",
       "      <td>Mongolia</td>\n",
       "      <td>2004</td>\n",
       "      <td>-20.021</td>\n",
       "      <td>19.218</td>\n",
       "      <td>1.090667</td>\n",
       "      <td>39.239</td>\n",
       "      <td>2249.730700</td>\n",
       "      <td>488.941297</td>\n",
       "      <td>396.080196</td>\n",
       "    </tr>\n",
       "    <tr>\n",
       "      <th>10611</th>\n",
       "      <td>Mongolia</td>\n",
       "      <td>2005</td>\n",
       "      <td>-23.682</td>\n",
       "      <td>19.984</td>\n",
       "      <td>-0.139833</td>\n",
       "      <td>43.666</td>\n",
       "      <td>-112.820905</td>\n",
       "      <td>483.192886</td>\n",
       "      <td>384.005027</td>\n",
       "    </tr>\n",
       "    <tr>\n",
       "      <th>5409</th>\n",
       "      <td>Finland</td>\n",
       "      <td>1951</td>\n",
       "      <td>-12.791</td>\n",
       "      <td>16.036</td>\n",
       "      <td>1.599833</td>\n",
       "      <td>28.827</td>\n",
       "      <td>-27.486308</td>\n",
       "      <td>10.215487</td>\n",
       "      <td>353.814773</td>\n",
       "    </tr>\n",
       "    <tr>\n",
       "      <th>5410</th>\n",
       "      <td>Finland</td>\n",
       "      <td>1952</td>\n",
       "      <td>-10.017</td>\n",
       "      <td>14.876</td>\n",
       "      <td>1.140417</td>\n",
       "      <td>24.893</td>\n",
       "      <td>-28.716533</td>\n",
       "      <td>13.108002</td>\n",
       "      <td>342.276532</td>\n",
       "    </tr>\n",
       "    <tr>\n",
       "      <th>5408</th>\n",
       "      <td>Finland</td>\n",
       "      <td>1950</td>\n",
       "      <td>-14.745</td>\n",
       "      <td>14.545</td>\n",
       "      <td>2.206250</td>\n",
       "      <td>29.290</td>\n",
       "      <td>-27.566961</td>\n",
       "      <td>25.641329</td>\n",
       "      <td>328.364403</td>\n",
       "    </tr>\n",
       "    <tr>\n",
       "      <th>5407</th>\n",
       "      <td>Finland</td>\n",
       "      <td>1949</td>\n",
       "      <td>-6.089</td>\n",
       "      <td>14.128</td>\n",
       "      <td>3.045917</td>\n",
       "      <td>20.217</td>\n",
       "      <td>29.073381</td>\n",
       "      <td>21.230345</td>\n",
       "      <td>323.048976</td>\n",
       "    </tr>\n",
       "    <tr>\n",
       "      <th>10613</th>\n",
       "      <td>Mongolia</td>\n",
       "      <td>2007</td>\n",
       "      <td>-18.604</td>\n",
       "      <td>20.716</td>\n",
       "      <td>2.075583</td>\n",
       "      <td>39.320</td>\n",
       "      <td>118.042546</td>\n",
       "      <td>587.987731</td>\n",
       "      <td>322.629931</td>\n",
       "    </tr>\n",
       "    <tr>\n",
       "      <th>5406</th>\n",
       "      <td>Finland</td>\n",
       "      <td>1948</td>\n",
       "      <td>-12.954</td>\n",
       "      <td>15.346</td>\n",
       "      <td>2.359833</td>\n",
       "      <td>28.300</td>\n",
       "      <td>120.236429</td>\n",
       "      <td>11.606942</td>\n",
       "      <td>315.330156</td>\n",
       "    </tr>\n",
       "    <tr>\n",
       "      <th>10614</th>\n",
       "      <td>Mongolia</td>\n",
       "      <td>2008</td>\n",
       "      <td>-23.697</td>\n",
       "      <td>19.642</td>\n",
       "      <td>1.115583</td>\n",
       "      <td>43.339</td>\n",
       "      <td>-46.252058</td>\n",
       "      <td>597.890236</td>\n",
       "      <td>315.325752</td>\n",
       "    </tr>\n",
       "  </tbody>\n",
       "</table>\n",
       "</div>"
      ],
      "text/plain": [
       "        Country    dt  min_temp  max_temp  avg_temp  temp_range    pct_change  \\\n",
       "5419    Finland  1961    -9.978    16.019  3.028417      25.997     70.526958   \n",
       "5423    Finland  1965   -10.674    13.226  0.889833      23.900    -53.440307   \n",
       "5420    Finland  1962   -11.954    13.138  1.001500      25.092    -66.929914   \n",
       "5422    Finland  1964   -12.111    15.128  1.911167      27.239     48.296153   \n",
       "5417    Finland  1959   -10.340    15.994  2.586917      26.334    350.747786   \n",
       "5418    Finland  1960   -13.099    17.939  1.775917      31.038    -31.350063   \n",
       "5421    Finland  1963   -13.841    14.656  1.288750      28.497     28.681977   \n",
       "5415    Finland  1957    -9.107    17.112  2.058167      26.219  13030.890052   \n",
       "5424    Finland  1966   -19.235    15.816 -0.256083      35.051   -128.778798   \n",
       "5416    Finland  1958   -13.453    13.695  0.573917      27.148    -72.115151   \n",
       "10612  Mongolia  2006   -19.961    18.485  0.951917      38.446    780.750894   \n",
       "10610  Mongolia  2004   -20.021    19.218  1.090667      39.239   2249.730700   \n",
       "10611  Mongolia  2005   -23.682    19.984 -0.139833      43.666   -112.820905   \n",
       "5409    Finland  1951   -12.791    16.036  1.599833      28.827    -27.486308   \n",
       "5410    Finland  1952   -10.017    14.876  1.140417      24.893    -28.716533   \n",
       "5408    Finland  1950   -14.745    14.545  2.206250      29.290    -27.566961   \n",
       "5407    Finland  1949    -6.089    14.128  3.045917      20.217     29.073381   \n",
       "10613  Mongolia  2007   -18.604    20.716  2.075583      39.320    118.042546   \n",
       "5406    Finland  1948   -12.954    15.346  2.359833      28.300    120.236429   \n",
       "10614  Mongolia  2008   -23.697    19.642  1.115583      43.339    -46.252058   \n",
       "\n",
       "       five_yr_avg_pct_change  ten_yr_avg_pct_change  \n",
       "5419              2669.739916            1342.639905  \n",
       "5423                 5.426973            1339.562189  \n",
       "5420                50.175923            1338.818567  \n",
       "5422                 9.845022            1334.186722  \n",
       "5417              2658.528422            1333.216889  \n",
       "5418              2673.697405            1332.838579  \n",
       "5421                70.335349            1327.710148  \n",
       "5415              2627.461211            1320.284606  \n",
       "5424               -34.434178            1317.652869  \n",
       "5416              2585.084948            1301.049449  \n",
       "10612              573.590683             473.184547  \n",
       "10610              488.941297             396.080196  \n",
       "10611              483.192886             384.005027  \n",
       "5409                10.215487             353.814773  \n",
       "5410                13.108002             342.276532  \n",
       "5408                25.641329             328.364403  \n",
       "5407                21.230345             323.048976  \n",
       "10613              587.987731             322.629931  \n",
       "5406                11.606942             315.330156  \n",
       "10614              597.890236             315.325752  "
      ]
     },
     "execution_count": 57,
     "metadata": {},
     "output_type": "execute_result"
    }
   ],
   "source": [
    "# top 20 ten_yr_avg (by country)\n",
    "fast_warm_country.nlargest(20,'ten_yr_avg_pct_change')"
   ]
  },
  {
   "cell_type": "markdown",
   "id": "4548b940",
   "metadata": {
    "slideshow": {
     "slide_type": "fragment"
    }
   },
   "source": [
    "This `pct_change` has a **huge** impact on subsequent five- and ten-year rolling averages."
   ]
  },
  {
   "cell_type": "markdown",
   "id": "04ae647f",
   "metadata": {
    "slideshow": {
     "slide_type": "subslide"
    }
   },
   "source": [
    "A quick look at temperature ranges (since extreme temperatures are related to extreme weather events and climate change, as a whole)."
   ]
  },
  {
   "cell_type": "code",
   "execution_count": 84,
   "id": "b77a285b",
   "metadata": {
    "scrolled": false,
    "slideshow": {
     "slide_type": "fragment"
    }
   },
   "outputs": [
    {
     "data": {
      "text/html": [
       "<div>\n",
       "<style scoped>\n",
       "    .dataframe tbody tr th:only-of-type {\n",
       "        vertical-align: middle;\n",
       "    }\n",
       "\n",
       "    .dataframe tbody tr th {\n",
       "        vertical-align: top;\n",
       "    }\n",
       "\n",
       "    .dataframe thead th {\n",
       "        text-align: right;\n",
       "    }\n",
       "</style>\n",
       "<table border=\"1\" class=\"dataframe\">\n",
       "  <thead>\n",
       "    <tr style=\"text-align: right;\">\n",
       "      <th></th>\n",
       "      <th>Country</th>\n",
       "      <th>dt</th>\n",
       "      <th>min_temp</th>\n",
       "      <th>max_temp</th>\n",
       "      <th>avg_temp</th>\n",
       "      <th>temp_range</th>\n",
       "      <th>pct_change</th>\n",
       "      <th>five_yr_avg_pct_change</th>\n",
       "      <th>ten_yr_avg_pct_change</th>\n",
       "    </tr>\n",
       "  </thead>\n",
       "  <tbody>\n",
       "    <tr>\n",
       "      <th>8371</th>\n",
       "      <td>Kazakhstan</td>\n",
       "      <td>1969</td>\n",
       "      <td>-23.601</td>\n",
       "      <td>23.128</td>\n",
       "      <td>3.723750</td>\n",
       "      <td>46.729</td>\n",
       "      <td>-30.939355</td>\n",
       "      <td>-3.876786</td>\n",
       "      <td>0.337995</td>\n",
       "    </tr>\n",
       "    <tr>\n",
       "      <th>13083</th>\n",
       "      <td>Russia</td>\n",
       "      <td>1969</td>\n",
       "      <td>-29.789</td>\n",
       "      <td>15.808</td>\n",
       "      <td>-6.766083</td>\n",
       "      <td>45.597</td>\n",
       "      <td>-21.048081</td>\n",
       "      <td>-5.443202</td>\n",
       "      <td>-5.141410</td>\n",
       "    </tr>\n",
       "    <tr>\n",
       "      <th>10550</th>\n",
       "      <td>Mongolia</td>\n",
       "      <td>1944</td>\n",
       "      <td>-25.882</td>\n",
       "      <td>19.252</td>\n",
       "      <td>-1.353167</td>\n",
       "      <td>45.134</td>\n",
       "      <td>-176.721200</td>\n",
       "      <td>-50.090408</td>\n",
       "      <td>-29.696098</td>\n",
       "    </tr>\n",
       "    <tr>\n",
       "      <th>10575</th>\n",
       "      <td>Mongolia</td>\n",
       "      <td>1969</td>\n",
       "      <td>-26.657</td>\n",
       "      <td>18.062</td>\n",
       "      <td>-1.595417</td>\n",
       "      <td>44.719</td>\n",
       "      <td>-62.300780</td>\n",
       "      <td>-110.715184</td>\n",
       "      <td>-48.469195</td>\n",
       "    </tr>\n",
       "    <tr>\n",
       "      <th>10617</th>\n",
       "      <td>Mongolia</td>\n",
       "      <td>2011</td>\n",
       "      <td>-26.225</td>\n",
       "      <td>18.468</td>\n",
       "      <td>-0.092000</td>\n",
       "      <td>44.693</td>\n",
       "      <td>71.129707</td>\n",
       "      <td>-12.585922</td>\n",
       "      <td>280.502380</td>\n",
       "    </tr>\n",
       "  </tbody>\n",
       "</table>\n",
       "</div>"
      ],
      "text/plain": [
       "          Country    dt  min_temp  max_temp  avg_temp  temp_range  pct_change  \\\n",
       "8371   Kazakhstan  1969   -23.601    23.128  3.723750      46.729  -30.939355   \n",
       "13083      Russia  1969   -29.789    15.808 -6.766083      45.597  -21.048081   \n",
       "10550    Mongolia  1944   -25.882    19.252 -1.353167      45.134 -176.721200   \n",
       "10575    Mongolia  1969   -26.657    18.062 -1.595417      44.719  -62.300780   \n",
       "10617    Mongolia  2011   -26.225    18.468 -0.092000      44.693   71.129707   \n",
       "\n",
       "       five_yr_avg_pct_change  ten_yr_avg_pct_change  \n",
       "8371                -3.876786               0.337995  \n",
       "13083               -5.443202              -5.141410  \n",
       "10550              -50.090408             -29.696098  \n",
       "10575             -110.715184             -48.469195  \n",
       "10617              -12.585922             280.502380  "
      ]
     },
     "execution_count": 84,
     "metadata": {},
     "output_type": "execute_result"
    }
   ],
   "source": [
    "# top 5 temp_range (by country)\n",
    "fast_warm_country.nlargest(5,'temp_range')"
   ]
  },
  {
   "cell_type": "code",
   "execution_count": 87,
   "id": "a35ebaf8",
   "metadata": {
    "slideshow": {
     "slide_type": "fragment"
    }
   },
   "outputs": [
    {
     "data": {
      "text/html": [
       "<div>\n",
       "<style scoped>\n",
       "    .dataframe tbody tr th:only-of-type {\n",
       "        vertical-align: middle;\n",
       "    }\n",
       "\n",
       "    .dataframe tbody tr th {\n",
       "        vertical-align: top;\n",
       "    }\n",
       "\n",
       "    .dataframe thead th {\n",
       "        text-align: right;\n",
       "    }\n",
       "</style>\n",
       "<table border=\"1\" class=\"dataframe\">\n",
       "  <thead>\n",
       "    <tr style=\"text-align: right;\">\n",
       "      <th></th>\n",
       "      <th>Country</th>\n",
       "      <th>dt</th>\n",
       "      <th>min_temp</th>\n",
       "      <th>max_temp</th>\n",
       "      <th>avg_temp</th>\n",
       "      <th>temp_range</th>\n",
       "      <th>pct_change</th>\n",
       "      <th>five_yr_avg_pct_change</th>\n",
       "      <th>ten_yr_avg_pct_change</th>\n",
       "    </tr>\n",
       "  </thead>\n",
       "  <tbody>\n",
       "    <tr>\n",
       "      <th>5300</th>\n",
       "      <td>Federated States Of Micronesia</td>\n",
       "      <td>1994</td>\n",
       "      <td>27.067</td>\n",
       "      <td>27.490</td>\n",
       "      <td>27.298417</td>\n",
       "      <td>0.423</td>\n",
       "      <td>1.112113</td>\n",
       "      <td>0.141723</td>\n",
       "      <td>-0.072361</td>\n",
       "    </tr>\n",
       "    <tr>\n",
       "      <th>5314</th>\n",
       "      <td>Federated States Of Micronesia</td>\n",
       "      <td>2008</td>\n",
       "      <td>27.063</td>\n",
       "      <td>27.501</td>\n",
       "      <td>27.321333</td>\n",
       "      <td>0.438</td>\n",
       "      <td>-0.515544</td>\n",
       "      <td>-0.230588</td>\n",
       "      <td>-0.053543</td>\n",
       "    </tr>\n",
       "    <tr>\n",
       "      <th>7513</th>\n",
       "      <td>Indonesia</td>\n",
       "      <td>1947</td>\n",
       "      <td>25.900</td>\n",
       "      <td>26.351</td>\n",
       "      <td>26.123250</td>\n",
       "      <td>0.451</td>\n",
       "      <td>0.808451</td>\n",
       "      <td>-0.028785</td>\n",
       "      <td>0.280795</td>\n",
       "    </tr>\n",
       "    <tr>\n",
       "      <th>245</th>\n",
       "      <td>American Samoa</td>\n",
       "      <td>1955</td>\n",
       "      <td>26.526</td>\n",
       "      <td>26.989</td>\n",
       "      <td>26.710750</td>\n",
       "      <td>0.463</td>\n",
       "      <td>-0.578176</td>\n",
       "      <td>0.146240</td>\n",
       "      <td>0.019589</td>\n",
       "    </tr>\n",
       "    <tr>\n",
       "      <th>14608</th>\n",
       "      <td>Solomon Islands</td>\n",
       "      <td>1974</td>\n",
       "      <td>26.613</td>\n",
       "      <td>27.093</td>\n",
       "      <td>26.803667</td>\n",
       "      <td>0.480</td>\n",
       "      <td>-0.868209</td>\n",
       "      <td>-0.036885</td>\n",
       "      <td>0.033215</td>\n",
       "    </tr>\n",
       "  </tbody>\n",
       "</table>\n",
       "</div>"
      ],
      "text/plain": [
       "                              Country    dt  min_temp  max_temp   avg_temp  \\\n",
       "5300   Federated States Of Micronesia  1994    27.067    27.490  27.298417   \n",
       "5314   Federated States Of Micronesia  2008    27.063    27.501  27.321333   \n",
       "7513                        Indonesia  1947    25.900    26.351  26.123250   \n",
       "245                    American Samoa  1955    26.526    26.989  26.710750   \n",
       "14608                 Solomon Islands  1974    26.613    27.093  26.803667   \n",
       "\n",
       "       temp_range  pct_change  five_yr_avg_pct_change  ten_yr_avg_pct_change  \n",
       "5300        0.423    1.112113                0.141723              -0.072361  \n",
       "5314        0.438   -0.515544               -0.230588              -0.053543  \n",
       "7513        0.451    0.808451               -0.028785               0.280795  \n",
       "245         0.463   -0.578176                0.146240               0.019589  \n",
       "14608       0.480   -0.868209               -0.036885               0.033215  "
      ]
     },
     "execution_count": 87,
     "metadata": {},
     "output_type": "execute_result"
    }
   ],
   "source": [
    "# smallest 5 temp_range (by country)\n",
    "fast_warm_country.nsmallest(5,'temp_range')"
   ]
  },
  {
   "cell_type": "markdown",
   "id": "c18e54af",
   "metadata": {
    "slideshow": {
     "slide_type": "subslide"
    }
   },
   "source": [
    "From the above, we can conclude:\n",
    "* historically, **Finland** was the fastest-warming country in the middle of the 20th century\n",
    "* *more recently*, **Mongolia** has demonstrated relatively rapid warming into the beginning of 21st century\n",
    "* the countries with the greatest range in average temperatures were **Kazakhstan**, **Russia**, and **Mongolia**\n",
    "* the countries with the least range in average temperatures were **Federated States Of Micronesia**, **Indonesia**, and **American Samoa** (all island nations close to the equator)\n",
    "\n",
    "With this, we can observe that **Finland** 🇫🇮 and **Mongolia** 🇲🇳 are the fastest-warming countries (historically and more recently, respectively).\n",
    "\n",
    "The country with the greatest `temp_range` was **Kazakhstan** 🇰🇿 in 1969 and the country with the least `temp_range` was **[The] Federated States of Micronesia** 🇫🇲 in 1994."
   ]
  },
  {
   "cell_type": "markdown",
   "id": "dfdb1a08",
   "metadata": {
    "slideshow": {
     "slide_type": "subslide"
    }
   },
   "source": [
    "Now, using a similar approach with the `city` table, we will find the fastest-warming city."
   ]
  },
  {
   "cell_type": "code",
   "execution_count": 58,
   "id": "634f48a1",
   "metadata": {
    "scrolled": true,
    "slideshow": {
     "slide_type": "fragment"
    }
   },
   "outputs": [
    {
     "data": {
      "text/html": [
       "<div>\n",
       "<style scoped>\n",
       "    .dataframe tbody tr th:only-of-type {\n",
       "        vertical-align: middle;\n",
       "    }\n",
       "\n",
       "    .dataframe tbody tr th {\n",
       "        vertical-align: top;\n",
       "    }\n",
       "\n",
       "    .dataframe thead th {\n",
       "        text-align: right;\n",
       "    }\n",
       "</style>\n",
       "<table border=\"1\" class=\"dataframe\">\n",
       "  <thead>\n",
       "    <tr style=\"text-align: right;\">\n",
       "      <th></th>\n",
       "      <th>dt</th>\n",
       "      <th>AverageTemperature</th>\n",
       "      <th>AverageTemperatureUncertainty</th>\n",
       "      <th>City</th>\n",
       "      <th>Country</th>\n",
       "      <th>Latitude</th>\n",
       "      <th>Longitude</th>\n",
       "      <th>cardinal_NS</th>\n",
       "      <th>cardinal_WE</th>\n",
       "      <th>hemisphere</th>\n",
       "    </tr>\n",
       "  </thead>\n",
       "  <tbody>\n",
       "    <tr>\n",
       "      <th>2330</th>\n",
       "      <td>1938-01-01</td>\n",
       "      <td>1.556</td>\n",
       "      <td>0.321</td>\n",
       "      <td>Århus</td>\n",
       "      <td>Denmark</td>\n",
       "      <td>57.05N</td>\n",
       "      <td>10.33E</td>\n",
       "      <td>N</td>\n",
       "      <td>E</td>\n",
       "      <td>NE</td>\n",
       "    </tr>\n",
       "    <tr>\n",
       "      <th>2331</th>\n",
       "      <td>1938-02-01</td>\n",
       "      <td>2.297</td>\n",
       "      <td>0.352</td>\n",
       "      <td>Århus</td>\n",
       "      <td>Denmark</td>\n",
       "      <td>57.05N</td>\n",
       "      <td>10.33E</td>\n",
       "      <td>N</td>\n",
       "      <td>E</td>\n",
       "      <td>NE</td>\n",
       "    </tr>\n",
       "    <tr>\n",
       "      <th>2332</th>\n",
       "      <td>1938-03-01</td>\n",
       "      <td>6.323</td>\n",
       "      <td>0.383</td>\n",
       "      <td>Århus</td>\n",
       "      <td>Denmark</td>\n",
       "      <td>57.05N</td>\n",
       "      <td>10.33E</td>\n",
       "      <td>N</td>\n",
       "      <td>E</td>\n",
       "      <td>NE</td>\n",
       "    </tr>\n",
       "    <tr>\n",
       "      <th>2333</th>\n",
       "      <td>1938-04-01</td>\n",
       "      <td>6.728</td>\n",
       "      <td>0.437</td>\n",
       "      <td>Århus</td>\n",
       "      <td>Denmark</td>\n",
       "      <td>57.05N</td>\n",
       "      <td>10.33E</td>\n",
       "      <td>N</td>\n",
       "      <td>E</td>\n",
       "      <td>NE</td>\n",
       "    </tr>\n",
       "    <tr>\n",
       "      <th>2334</th>\n",
       "      <td>1938-05-01</td>\n",
       "      <td>10.417</td>\n",
       "      <td>0.253</td>\n",
       "      <td>Århus</td>\n",
       "      <td>Denmark</td>\n",
       "      <td>57.05N</td>\n",
       "      <td>10.33E</td>\n",
       "      <td>N</td>\n",
       "      <td>E</td>\n",
       "      <td>NE</td>\n",
       "    </tr>\n",
       "  </tbody>\n",
       "</table>\n",
       "</div>"
      ],
      "text/plain": [
       "             dt  AverageTemperature  AverageTemperatureUncertainty   City  \\\n",
       "2330 1938-01-01               1.556                          0.321  Århus   \n",
       "2331 1938-02-01               2.297                          0.352  Århus   \n",
       "2332 1938-03-01               6.323                          0.383  Århus   \n",
       "2333 1938-04-01               6.728                          0.437  Århus   \n",
       "2334 1938-05-01              10.417                          0.253  Århus   \n",
       "\n",
       "      Country Latitude Longitude cardinal_NS cardinal_WE hemisphere  \n",
       "2330  Denmark   57.05N    10.33E           N           E         NE  \n",
       "2331  Denmark   57.05N    10.33E           N           E         NE  \n",
       "2332  Denmark   57.05N    10.33E           N           E         NE  \n",
       "2333  Denmark   57.05N    10.33E           N           E         NE  \n",
       "2334  Denmark   57.05N    10.33E           N           E         NE  "
      ]
     },
     "execution_count": 58,
     "metadata": {},
     "output_type": "execute_result"
    }
   ],
   "source": [
    "# filter 1938 through 2013 (about 50 years)\n",
    "fast_warm_city = city_filt[(city_filt['dt']>='1938-01-01')]\n",
    "fast_warm_city.head()"
   ]
  },
  {
   "cell_type": "code",
   "execution_count": 59,
   "id": "5420ddc9",
   "metadata": {
    "scrolled": true,
    "slideshow": {
     "slide_type": "subslide"
    }
   },
   "outputs": [
    {
     "data": {
      "text/html": [
       "<div>\n",
       "<style scoped>\n",
       "    .dataframe tbody tr th:only-of-type {\n",
       "        vertical-align: middle;\n",
       "    }\n",
       "\n",
       "    .dataframe tbody tr th {\n",
       "        vertical-align: top;\n",
       "    }\n",
       "\n",
       "    .dataframe thead th {\n",
       "        text-align: right;\n",
       "    }\n",
       "</style>\n",
       "<table border=\"1\" class=\"dataframe\">\n",
       "  <thead>\n",
       "    <tr style=\"text-align: right;\">\n",
       "      <th></th>\n",
       "      <th>City</th>\n",
       "      <th>dt</th>\n",
       "      <th>min_temp</th>\n",
       "      <th>max_temp</th>\n",
       "      <th>avg_temp</th>\n",
       "    </tr>\n",
       "  </thead>\n",
       "  <tbody>\n",
       "    <tr>\n",
       "      <th>0</th>\n",
       "      <td>A Coruña</td>\n",
       "      <td>1938</td>\n",
       "      <td>8.235</td>\n",
       "      <td>18.579</td>\n",
       "      <td>13.488000</td>\n",
       "    </tr>\n",
       "    <tr>\n",
       "      <th>1</th>\n",
       "      <td>A Coruña</td>\n",
       "      <td>1939</td>\n",
       "      <td>8.538</td>\n",
       "      <td>18.492</td>\n",
       "      <td>12.955083</td>\n",
       "    </tr>\n",
       "    <tr>\n",
       "      <th>2</th>\n",
       "      <td>A Coruña</td>\n",
       "      <td>1940</td>\n",
       "      <td>7.553</td>\n",
       "      <td>19.934</td>\n",
       "      <td>13.251083</td>\n",
       "    </tr>\n",
       "    <tr>\n",
       "      <th>3</th>\n",
       "      <td>A Coruña</td>\n",
       "      <td>1941</td>\n",
       "      <td>6.843</td>\n",
       "      <td>19.028</td>\n",
       "      <td>12.768083</td>\n",
       "    </tr>\n",
       "    <tr>\n",
       "      <th>4</th>\n",
       "      <td>A Coruña</td>\n",
       "      <td>1942</td>\n",
       "      <td>7.258</td>\n",
       "      <td>18.535</td>\n",
       "      <td>13.331333</td>\n",
       "    </tr>\n",
       "  </tbody>\n",
       "</table>\n",
       "</div>"
      ],
      "text/plain": [
       "       City    dt  min_temp  max_temp   avg_temp\n",
       "0  A Coruña  1938     8.235    18.579  13.488000\n",
       "1  A Coruña  1939     8.538    18.492  12.955083\n",
       "2  A Coruña  1940     7.553    19.934  13.251083\n",
       "3  A Coruña  1941     6.843    19.028  12.768083\n",
       "4  A Coruña  1942     7.258    18.535  13.331333"
      ]
     },
     "execution_count": 59,
     "metadata": {},
     "output_type": "execute_result"
    }
   ],
   "source": [
    "# group by city and by year\n",
    "# return min, max, and avg temps\n",
    "fast_warm_city = fast_warm_city.groupby(['City', fast_warm_city.dt.dt.year]).agg({'AverageTemperature': ['min', 'max','mean']})\n",
    "fast_warm_city.columns = ['min_temp', 'max_temp', 'avg_temp']\n",
    "\n",
    "fast_warm_city = fast_warm_city.reset_index()\n",
    "\n",
    "fast_warm_city.head()"
   ]
  },
  {
   "cell_type": "code",
   "execution_count": 60,
   "id": "8bfd36cf",
   "metadata": {
    "scrolled": true,
    "slideshow": {
     "slide_type": "fragment"
    }
   },
   "outputs": [
    {
     "data": {
      "text/html": [
       "<div>\n",
       "<style scoped>\n",
       "    .dataframe tbody tr th:only-of-type {\n",
       "        vertical-align: middle;\n",
       "    }\n",
       "\n",
       "    .dataframe tbody tr th {\n",
       "        vertical-align: top;\n",
       "    }\n",
       "\n",
       "    .dataframe thead th {\n",
       "        text-align: right;\n",
       "    }\n",
       "</style>\n",
       "<table border=\"1\" class=\"dataframe\">\n",
       "  <thead>\n",
       "    <tr style=\"text-align: right;\">\n",
       "      <th></th>\n",
       "      <th>City</th>\n",
       "      <th>dt</th>\n",
       "      <th>min_temp</th>\n",
       "      <th>max_temp</th>\n",
       "      <th>avg_temp</th>\n",
       "      <th>temp_range</th>\n",
       "    </tr>\n",
       "  </thead>\n",
       "  <tbody>\n",
       "    <tr>\n",
       "      <th>0</th>\n",
       "      <td>A Coruña</td>\n",
       "      <td>1938</td>\n",
       "      <td>8.235</td>\n",
       "      <td>18.579</td>\n",
       "      <td>13.488000</td>\n",
       "      <td>10.344</td>\n",
       "    </tr>\n",
       "    <tr>\n",
       "      <th>1</th>\n",
       "      <td>A Coruña</td>\n",
       "      <td>1939</td>\n",
       "      <td>8.538</td>\n",
       "      <td>18.492</td>\n",
       "      <td>12.955083</td>\n",
       "      <td>9.954</td>\n",
       "    </tr>\n",
       "    <tr>\n",
       "      <th>2</th>\n",
       "      <td>A Coruña</td>\n",
       "      <td>1940</td>\n",
       "      <td>7.553</td>\n",
       "      <td>19.934</td>\n",
       "      <td>13.251083</td>\n",
       "      <td>12.381</td>\n",
       "    </tr>\n",
       "    <tr>\n",
       "      <th>3</th>\n",
       "      <td>A Coruña</td>\n",
       "      <td>1941</td>\n",
       "      <td>6.843</td>\n",
       "      <td>19.028</td>\n",
       "      <td>12.768083</td>\n",
       "      <td>12.185</td>\n",
       "    </tr>\n",
       "    <tr>\n",
       "      <th>4</th>\n",
       "      <td>A Coruña</td>\n",
       "      <td>1942</td>\n",
       "      <td>7.258</td>\n",
       "      <td>18.535</td>\n",
       "      <td>13.331333</td>\n",
       "      <td>11.277</td>\n",
       "    </tr>\n",
       "  </tbody>\n",
       "</table>\n",
       "</div>"
      ],
      "text/plain": [
       "       City    dt  min_temp  max_temp   avg_temp  temp_range\n",
       "0  A Coruña  1938     8.235    18.579  13.488000      10.344\n",
       "1  A Coruña  1939     8.538    18.492  12.955083       9.954\n",
       "2  A Coruña  1940     7.553    19.934  13.251083      12.381\n",
       "3  A Coruña  1941     6.843    19.028  12.768083      12.185\n",
       "4  A Coruña  1942     7.258    18.535  13.331333      11.277"
      ]
     },
     "execution_count": 60,
     "metadata": {},
     "output_type": "execute_result"
    }
   ],
   "source": [
    "fast_warm_city['temp_range']=fast_warm_city['max_temp'] - fast_warm_city['min_temp']\n",
    "\n",
    "fast_warm_city.head()"
   ]
  },
  {
   "cell_type": "code",
   "execution_count": 61,
   "id": "9caf581c",
   "metadata": {
    "scrolled": true,
    "slideshow": {
     "slide_type": "subslide"
    }
   },
   "outputs": [
    {
     "data": {
      "text/html": [
       "<div>\n",
       "<style scoped>\n",
       "    .dataframe tbody tr th:only-of-type {\n",
       "        vertical-align: middle;\n",
       "    }\n",
       "\n",
       "    .dataframe tbody tr th {\n",
       "        vertical-align: top;\n",
       "    }\n",
       "\n",
       "    .dataframe thead th {\n",
       "        text-align: right;\n",
       "    }\n",
       "</style>\n",
       "<table border=\"1\" class=\"dataframe\">\n",
       "  <thead>\n",
       "    <tr style=\"text-align: right;\">\n",
       "      <th></th>\n",
       "      <th>City</th>\n",
       "      <th>dt</th>\n",
       "      <th>min_temp</th>\n",
       "      <th>max_temp</th>\n",
       "      <th>avg_temp</th>\n",
       "      <th>temp_range</th>\n",
       "      <th>pct_change</th>\n",
       "      <th>five_yr_avg_pct_change</th>\n",
       "      <th>ten_yr_avg_pct_change</th>\n",
       "    </tr>\n",
       "  </thead>\n",
       "  <tbody>\n",
       "    <tr>\n",
       "      <th>0</th>\n",
       "      <td>A Coruña</td>\n",
       "      <td>1938</td>\n",
       "      <td>8.235</td>\n",
       "      <td>18.579</td>\n",
       "      <td>13.488000</td>\n",
       "      <td>10.344</td>\n",
       "      <td>NaN</td>\n",
       "      <td>NaN</td>\n",
       "      <td>NaN</td>\n",
       "    </tr>\n",
       "    <tr>\n",
       "      <th>1</th>\n",
       "      <td>A Coruña</td>\n",
       "      <td>1939</td>\n",
       "      <td>8.538</td>\n",
       "      <td>18.492</td>\n",
       "      <td>12.955083</td>\n",
       "      <td>9.954</td>\n",
       "      <td>-3.951043</td>\n",
       "      <td>NaN</td>\n",
       "      <td>NaN</td>\n",
       "    </tr>\n",
       "    <tr>\n",
       "      <th>2</th>\n",
       "      <td>A Coruña</td>\n",
       "      <td>1940</td>\n",
       "      <td>7.553</td>\n",
       "      <td>19.934</td>\n",
       "      <td>13.251083</td>\n",
       "      <td>12.381</td>\n",
       "      <td>2.284817</td>\n",
       "      <td>NaN</td>\n",
       "      <td>NaN</td>\n",
       "    </tr>\n",
       "    <tr>\n",
       "      <th>3</th>\n",
       "      <td>A Coruña</td>\n",
       "      <td>1941</td>\n",
       "      <td>6.843</td>\n",
       "      <td>19.028</td>\n",
       "      <td>12.768083</td>\n",
       "      <td>12.185</td>\n",
       "      <td>-3.644985</td>\n",
       "      <td>NaN</td>\n",
       "      <td>NaN</td>\n",
       "    </tr>\n",
       "    <tr>\n",
       "      <th>4</th>\n",
       "      <td>A Coruña</td>\n",
       "      <td>1942</td>\n",
       "      <td>7.258</td>\n",
       "      <td>18.535</td>\n",
       "      <td>13.331333</td>\n",
       "      <td>11.277</td>\n",
       "      <td>4.411390</td>\n",
       "      <td>NaN</td>\n",
       "      <td>NaN</td>\n",
       "    </tr>\n",
       "  </tbody>\n",
       "</table>\n",
       "</div>"
      ],
      "text/plain": [
       "       City    dt  min_temp  max_temp   avg_temp  temp_range  pct_change  \\\n",
       "0  A Coruña  1938     8.235    18.579  13.488000      10.344         NaN   \n",
       "1  A Coruña  1939     8.538    18.492  12.955083       9.954   -3.951043   \n",
       "2  A Coruña  1940     7.553    19.934  13.251083      12.381    2.284817   \n",
       "3  A Coruña  1941     6.843    19.028  12.768083      12.185   -3.644985   \n",
       "4  A Coruña  1942     7.258    18.535  13.331333      11.277    4.411390   \n",
       "\n",
       "   five_yr_avg_pct_change  ten_yr_avg_pct_change  \n",
       "0                     NaN                    NaN  \n",
       "1                     NaN                    NaN  \n",
       "2                     NaN                    NaN  \n",
       "3                     NaN                    NaN  \n",
       "4                     NaN                    NaN  "
      ]
     },
     "execution_count": 61,
     "metadata": {},
     "output_type": "execute_result"
    }
   ],
   "source": [
    "# adding pct_change, 5-yr, and 10-yr columns\n",
    "fast_warm_city['pct_change']=(fast_warm_city['avg_temp'].diff() / fast_warm_city['avg_temp'].abs().shift())*100\n",
    "fast_warm_city['five_yr_avg_pct_change']=fast_warm_city['pct_change'].rolling(5).mean()\n",
    "fast_warm_city['ten_yr_avg_pct_change']=fast_warm_city['pct_change'].rolling(10).mean()\n",
    "\n",
    "fast_warm_city.head()"
   ]
  },
  {
   "cell_type": "code",
   "execution_count": 62,
   "id": "bbf15cf9",
   "metadata": {
    "scrolled": true,
    "slideshow": {
     "slide_type": "subslide"
    }
   },
   "outputs": [
    {
     "data": {
      "text/html": [
       "<div>\n",
       "<style scoped>\n",
       "    .dataframe tbody tr th:only-of-type {\n",
       "        vertical-align: middle;\n",
       "    }\n",
       "\n",
       "    .dataframe tbody tr th {\n",
       "        vertical-align: top;\n",
       "    }\n",
       "\n",
       "    .dataframe thead th {\n",
       "        text-align: right;\n",
       "    }\n",
       "</style>\n",
       "<table border=\"1\" class=\"dataframe\">\n",
       "  <thead>\n",
       "    <tr style=\"text-align: right;\">\n",
       "      <th></th>\n",
       "      <th>City</th>\n",
       "      <th>dt</th>\n",
       "      <th>min_temp</th>\n",
       "      <th>max_temp</th>\n",
       "      <th>avg_temp</th>\n",
       "      <th>temp_range</th>\n",
       "      <th>pct_change</th>\n",
       "      <th>five_yr_avg_pct_change</th>\n",
       "      <th>ten_yr_avg_pct_change</th>\n",
       "    </tr>\n",
       "  </thead>\n",
       "  <tbody>\n",
       "    <tr>\n",
       "      <th>161352</th>\n",
       "      <td>Nizhniy Novgorod</td>\n",
       "      <td>1942</td>\n",
       "      <td>-20.710</td>\n",
       "      <td>18.342</td>\n",
       "      <td>1.883667</td>\n",
       "      <td>39.052</td>\n",
       "      <td>144.632035</td>\n",
       "      <td>18174.150020</td>\n",
       "      <td>8930.348339</td>\n",
       "    </tr>\n",
       "    <tr>\n",
       "      <th>161351</th>\n",
       "      <td>Nizhniy Novgorod</td>\n",
       "      <td>1941</td>\n",
       "      <td>-15.916</td>\n",
       "      <td>19.845</td>\n",
       "      <td>0.770000</td>\n",
       "      <td>35.761</td>\n",
       "      <td>-70.921450</td>\n",
       "      <td>18165.844205</td>\n",
       "      <td>8910.740482</td>\n",
       "    </tr>\n",
       "    <tr>\n",
       "      <th>161349</th>\n",
       "      <td>Nizhniy Novgorod</td>\n",
       "      <td>1939</td>\n",
       "      <td>-11.002</td>\n",
       "      <td>19.243</td>\n",
       "      <td>3.594917</td>\n",
       "      <td>30.245</td>\n",
       "      <td>-28.135204</td>\n",
       "      <td>18121.301026</td>\n",
       "      <td>8815.985285</td>\n",
       "    </tr>\n",
       "    <tr>\n",
       "      <th>161348</th>\n",
       "      <td>Nizhniy Novgorod</td>\n",
       "      <td>1938</td>\n",
       "      <td>-12.331</td>\n",
       "      <td>22.025</td>\n",
       "      <td>5.002333</td>\n",
       "      <td>34.356</td>\n",
       "      <td>90851.515152</td>\n",
       "      <td>18121.063852</td>\n",
       "      <td>8830.369302</td>\n",
       "    </tr>\n",
       "    <tr>\n",
       "      <th>161350</th>\n",
       "      <td>Nizhniy Novgorod</td>\n",
       "      <td>1940</td>\n",
       "      <td>-20.946</td>\n",
       "      <td>19.657</td>\n",
       "      <td>2.648000</td>\n",
       "      <td>40.603</td>\n",
       "      <td>-26.340434</td>\n",
       "      <td>18095.671460</td>\n",
       "      <td>8929.456733</td>\n",
       "    </tr>\n",
       "    <tr>\n",
       "      <th>8515</th>\n",
       "      <td>Angeles</td>\n",
       "      <td>1941</td>\n",
       "      <td>25.436</td>\n",
       "      <td>28.767</td>\n",
       "      <td>26.904083</td>\n",
       "      <td>3.331</td>\n",
       "      <td>1.567642</td>\n",
       "      <td>16322.135593</td>\n",
       "      <td>7108.219550</td>\n",
       "    </tr>\n",
       "    <tr>\n",
       "      <th>8516</th>\n",
       "      <td>Angeles</td>\n",
       "      <td>1942</td>\n",
       "      <td>24.613</td>\n",
       "      <td>28.617</td>\n",
       "      <td>26.553333</td>\n",
       "      <td>4.004</td>\n",
       "      <td>-1.303705</td>\n",
       "      <td>16302.332410</td>\n",
       "      <td>7118.187660</td>\n",
       "    </tr>\n",
       "    <tr>\n",
       "      <th>8513</th>\n",
       "      <td>Angeles</td>\n",
       "      <td>1939</td>\n",
       "      <td>23.617</td>\n",
       "      <td>27.956</td>\n",
       "      <td>26.353250</td>\n",
       "      <td>4.339</td>\n",
       "      <td>-0.398420</td>\n",
       "      <td>16270.953800</td>\n",
       "      <td>7119.554978</td>\n",
       "    </tr>\n",
       "    <tr>\n",
       "      <th>8512</th>\n",
       "      <td>Angeles</td>\n",
       "      <td>1938</td>\n",
       "      <td>24.885</td>\n",
       "      <td>28.017</td>\n",
       "      <td>26.458667</td>\n",
       "      <td>3.132</td>\n",
       "      <td>81511.282051</td>\n",
       "      <td>16257.299320</td>\n",
       "      <td>6963.521200</td>\n",
       "    </tr>\n",
       "    <tr>\n",
       "      <th>8514</th>\n",
       "      <td>Angeles</td>\n",
       "      <td>1940</td>\n",
       "      <td>24.408</td>\n",
       "      <td>28.244</td>\n",
       "      <td>26.488833</td>\n",
       "      <td>3.836</td>\n",
       "      <td>0.514484</td>\n",
       "      <td>16254.289330</td>\n",
       "      <td>7128.562047</td>\n",
       "    </tr>\n",
       "    <tr>\n",
       "      <th>239180</th>\n",
       "      <td>Ufa</td>\n",
       "      <td>1946</td>\n",
       "      <td>-14.568</td>\n",
       "      <td>17.576</td>\n",
       "      <td>1.898333</td>\n",
       "      <td>32.144</td>\n",
       "      <td>363.290624</td>\n",
       "      <td>8924.714636</td>\n",
       "      <td>4441.464918</td>\n",
       "    </tr>\n",
       "    <tr>\n",
       "      <th>239178</th>\n",
       "      <td>Ufa</td>\n",
       "      <td>1944</td>\n",
       "      <td>-15.298</td>\n",
       "      <td>16.686</td>\n",
       "      <td>2.807167</td>\n",
       "      <td>31.984</td>\n",
       "      <td>18.475011</td>\n",
       "      <td>8843.477788</td>\n",
       "      <td>4413.158810</td>\n",
       "    </tr>\n",
       "    <tr>\n",
       "      <th>239177</th>\n",
       "      <td>Ufa</td>\n",
       "      <td>1943</td>\n",
       "      <td>-19.241</td>\n",
       "      <td>19.013</td>\n",
       "      <td>2.369417</td>\n",
       "      <td>38.254</td>\n",
       "      <td>179.384887</td>\n",
       "      <td>8839.055076</td>\n",
       "      <td>4411.513889</td>\n",
       "    </tr>\n",
       "    <tr>\n",
       "      <th>239179</th>\n",
       "      <td>Ufa</td>\n",
       "      <td>1945</td>\n",
       "      <td>-16.287</td>\n",
       "      <td>18.300</td>\n",
       "      <td>0.409750</td>\n",
       "      <td>34.587</td>\n",
       "      <td>-85.403432</td>\n",
       "      <td>8832.080114</td>\n",
       "      <td>4404.979283</td>\n",
       "    </tr>\n",
       "    <tr>\n",
       "      <th>239176</th>\n",
       "      <td>Ufa</td>\n",
       "      <td>1942</td>\n",
       "      <td>-20.333</td>\n",
       "      <td>18.515</td>\n",
       "      <td>0.848083</td>\n",
       "      <td>38.848</td>\n",
       "      <td>44147.826087</td>\n",
       "      <td>8786.562948</td>\n",
       "      <td>4393.752263</td>\n",
       "    </tr>\n",
       "    <tr>\n",
       "      <th>97739</th>\n",
       "      <td>Iruma</td>\n",
       "      <td>1941</td>\n",
       "      <td>2.406</td>\n",
       "      <td>24.124</td>\n",
       "      <td>12.609167</td>\n",
       "      <td>21.718</td>\n",
       "      <td>-0.402183</td>\n",
       "      <td>7790.540182</td>\n",
       "      <td>2842.421845</td>\n",
       "    </tr>\n",
       "    <tr>\n",
       "      <th>97740</th>\n",
       "      <td>Iruma</td>\n",
       "      <td>1942</td>\n",
       "      <td>0.306</td>\n",
       "      <td>26.184</td>\n",
       "      <td>12.797833</td>\n",
       "      <td>25.878</td>\n",
       "      <td>1.496266</td>\n",
       "      <td>7771.296994</td>\n",
       "      <td>2852.669952</td>\n",
       "    </tr>\n",
       "    <tr>\n",
       "      <th>97737</th>\n",
       "      <td>Iruma</td>\n",
       "      <td>1939</td>\n",
       "      <td>-0.292</td>\n",
       "      <td>25.475</td>\n",
       "      <td>12.723000</td>\n",
       "      <td>25.767</td>\n",
       "      <td>1.013603</td>\n",
       "      <td>7739.954153</td>\n",
       "      <td>2854.055155</td>\n",
       "    </tr>\n",
       "    <tr>\n",
       "      <th>97736</th>\n",
       "      <td>Iruma</td>\n",
       "      <td>1938</td>\n",
       "      <td>0.458</td>\n",
       "      <td>24.671</td>\n",
       "      <td>12.595333</td>\n",
       "      <td>24.213</td>\n",
       "      <td>38854.871795</td>\n",
       "      <td>7726.017269</td>\n",
       "      <td>2697.880175</td>\n",
       "    </tr>\n",
       "    <tr>\n",
       "      <th>97738</th>\n",
       "      <td>Iruma</td>\n",
       "      <td>1940</td>\n",
       "      <td>-0.017</td>\n",
       "      <td>25.219</td>\n",
       "      <td>12.660083</td>\n",
       "      <td>25.236</td>\n",
       "      <td>-0.494511</td>\n",
       "      <td>7723.087885</td>\n",
       "      <td>2862.961324</td>\n",
       "    </tr>\n",
       "  </tbody>\n",
       "</table>\n",
       "</div>"
      ],
      "text/plain": [
       "                    City    dt  min_temp  max_temp   avg_temp  temp_range  \\\n",
       "161352  Nizhniy Novgorod  1942   -20.710    18.342   1.883667      39.052   \n",
       "161351  Nizhniy Novgorod  1941   -15.916    19.845   0.770000      35.761   \n",
       "161349  Nizhniy Novgorod  1939   -11.002    19.243   3.594917      30.245   \n",
       "161348  Nizhniy Novgorod  1938   -12.331    22.025   5.002333      34.356   \n",
       "161350  Nizhniy Novgorod  1940   -20.946    19.657   2.648000      40.603   \n",
       "8515             Angeles  1941    25.436    28.767  26.904083       3.331   \n",
       "8516             Angeles  1942    24.613    28.617  26.553333       4.004   \n",
       "8513             Angeles  1939    23.617    27.956  26.353250       4.339   \n",
       "8512             Angeles  1938    24.885    28.017  26.458667       3.132   \n",
       "8514             Angeles  1940    24.408    28.244  26.488833       3.836   \n",
       "239180               Ufa  1946   -14.568    17.576   1.898333      32.144   \n",
       "239178               Ufa  1944   -15.298    16.686   2.807167      31.984   \n",
       "239177               Ufa  1943   -19.241    19.013   2.369417      38.254   \n",
       "239179               Ufa  1945   -16.287    18.300   0.409750      34.587   \n",
       "239176               Ufa  1942   -20.333    18.515   0.848083      38.848   \n",
       "97739              Iruma  1941     2.406    24.124  12.609167      21.718   \n",
       "97740              Iruma  1942     0.306    26.184  12.797833      25.878   \n",
       "97737              Iruma  1939    -0.292    25.475  12.723000      25.767   \n",
       "97736              Iruma  1938     0.458    24.671  12.595333      24.213   \n",
       "97738              Iruma  1940    -0.017    25.219  12.660083      25.236   \n",
       "\n",
       "          pct_change  five_yr_avg_pct_change  ten_yr_avg_pct_change  \n",
       "161352    144.632035            18174.150020            8930.348339  \n",
       "161351    -70.921450            18165.844205            8910.740482  \n",
       "161349    -28.135204            18121.301026            8815.985285  \n",
       "161348  90851.515152            18121.063852            8830.369302  \n",
       "161350    -26.340434            18095.671460            8929.456733  \n",
       "8515        1.567642            16322.135593            7108.219550  \n",
       "8516       -1.303705            16302.332410            7118.187660  \n",
       "8513       -0.398420            16270.953800            7119.554978  \n",
       "8512    81511.282051            16257.299320            6963.521200  \n",
       "8514        0.514484            16254.289330            7128.562047  \n",
       "239180    363.290624             8924.714636            4441.464918  \n",
       "239178     18.475011             8843.477788            4413.158810  \n",
       "239177    179.384887             8839.055076            4411.513889  \n",
       "239179    -85.403432             8832.080114            4404.979283  \n",
       "239176  44147.826087             8786.562948            4393.752263  \n",
       "97739      -0.402183             7790.540182            2842.421845  \n",
       "97740       1.496266             7771.296994            2852.669952  \n",
       "97737       1.013603             7739.954153            2854.055155  \n",
       "97736   38854.871795             7726.017269            2697.880175  \n",
       "97738      -0.494511             7723.087885            2862.961324  "
      ]
     },
     "execution_count": 62,
     "metadata": {},
     "output_type": "execute_result"
    }
   ],
   "source": [
    "# top 20 five_yr_avg (by city)\n",
    "fast_warm_city.nlargest(20,'five_yr_avg_pct_change')"
   ]
  },
  {
   "cell_type": "markdown",
   "id": "229f7c14",
   "metadata": {
    "slideshow": {
     "slide_type": "fragment"
    }
   },
   "source": [
    "Contenders for fastest-warming city include **Nizhniy Novgorod** (Russia) and **Angeles** (Philippines). We will now look at the 10-year rolling average to decide."
   ]
  },
  {
   "cell_type": "code",
   "execution_count": 63,
   "id": "4b66e75e",
   "metadata": {
    "scrolled": true,
    "slideshow": {
     "slide_type": "subslide"
    }
   },
   "outputs": [
    {
     "data": {
      "text/html": [
       "<div>\n",
       "<style scoped>\n",
       "    .dataframe tbody tr th:only-of-type {\n",
       "        vertical-align: middle;\n",
       "    }\n",
       "\n",
       "    .dataframe tbody tr th {\n",
       "        vertical-align: top;\n",
       "    }\n",
       "\n",
       "    .dataframe thead th {\n",
       "        text-align: right;\n",
       "    }\n",
       "</style>\n",
       "<table border=\"1\" class=\"dataframe\">\n",
       "  <thead>\n",
       "    <tr style=\"text-align: right;\">\n",
       "      <th></th>\n",
       "      <th>City</th>\n",
       "      <th>dt</th>\n",
       "      <th>min_temp</th>\n",
       "      <th>max_temp</th>\n",
       "      <th>avg_temp</th>\n",
       "      <th>temp_range</th>\n",
       "      <th>pct_change</th>\n",
       "      <th>five_yr_avg_pct_change</th>\n",
       "      <th>ten_yr_avg_pct_change</th>\n",
       "    </tr>\n",
       "  </thead>\n",
       "  <tbody>\n",
       "    <tr>\n",
       "      <th>161356</th>\n",
       "      <td>Nizhniy Novgorod</td>\n",
       "      <td>1946</td>\n",
       "      <td>-10.460</td>\n",
       "      <td>18.649</td>\n",
       "      <td>3.352250</td>\n",
       "      <td>29.109</td>\n",
       "      <td>79.176874</td>\n",
       "      <td>58.096966</td>\n",
       "      <td>9111.970586</td>\n",
       "    </tr>\n",
       "    <tr>\n",
       "      <th>161357</th>\n",
       "      <td>Nizhniy Novgorod</td>\n",
       "      <td>1947</td>\n",
       "      <td>-15.728</td>\n",
       "      <td>17.377</td>\n",
       "      <td>3.147333</td>\n",
       "      <td>33.105</td>\n",
       "      <td>-6.112810</td>\n",
       "      <td>27.947997</td>\n",
       "      <td>9101.049008</td>\n",
       "    </tr>\n",
       "    <tr>\n",
       "      <th>161354</th>\n",
       "      <td>Nizhniy Novgorod</td>\n",
       "      <td>1944</td>\n",
       "      <td>-10.443</td>\n",
       "      <td>17.426</td>\n",
       "      <td>4.099917</td>\n",
       "      <td>27.869</td>\n",
       "      <td>-2.736097</td>\n",
       "      <td>33.682606</td>\n",
       "      <td>9077.491816</td>\n",
       "    </tr>\n",
       "    <tr>\n",
       "      <th>161353</th>\n",
       "      <td>Nizhniy Novgorod</td>\n",
       "      <td>1943</td>\n",
       "      <td>-15.615</td>\n",
       "      <td>19.054</td>\n",
       "      <td>4.215250</td>\n",
       "      <td>34.669</td>\n",
       "      <td>123.778977</td>\n",
       "      <td>28.602785</td>\n",
       "      <td>9074.833318</td>\n",
       "    </tr>\n",
       "    <tr>\n",
       "      <th>161355</th>\n",
       "      <td>Nizhniy Novgorod</td>\n",
       "      <td>1945</td>\n",
       "      <td>-12.650</td>\n",
       "      <td>18.003</td>\n",
       "      <td>1.870917</td>\n",
       "      <td>30.653</td>\n",
       "      <td>-54.366959</td>\n",
       "      <td>28.077301</td>\n",
       "      <td>9061.874381</td>\n",
       "    </tr>\n",
       "    <tr>\n",
       "      <th>161352</th>\n",
       "      <td>Nizhniy Novgorod</td>\n",
       "      <td>1942</td>\n",
       "      <td>-20.710</td>\n",
       "      <td>18.342</td>\n",
       "      <td>1.883667</td>\n",
       "      <td>39.052</td>\n",
       "      <td>144.632035</td>\n",
       "      <td>18174.150020</td>\n",
       "      <td>8930.348339</td>\n",
       "    </tr>\n",
       "    <tr>\n",
       "      <th>161350</th>\n",
       "      <td>Nizhniy Novgorod</td>\n",
       "      <td>1940</td>\n",
       "      <td>-20.946</td>\n",
       "      <td>19.657</td>\n",
       "      <td>2.648000</td>\n",
       "      <td>40.603</td>\n",
       "      <td>-26.340434</td>\n",
       "      <td>18095.671460</td>\n",
       "      <td>8929.456733</td>\n",
       "    </tr>\n",
       "    <tr>\n",
       "      <th>161351</th>\n",
       "      <td>Nizhniy Novgorod</td>\n",
       "      <td>1941</td>\n",
       "      <td>-15.916</td>\n",
       "      <td>19.845</td>\n",
       "      <td>0.770000</td>\n",
       "      <td>35.761</td>\n",
       "      <td>-70.921450</td>\n",
       "      <td>18165.844205</td>\n",
       "      <td>8910.740482</td>\n",
       "    </tr>\n",
       "    <tr>\n",
       "      <th>161348</th>\n",
       "      <td>Nizhniy Novgorod</td>\n",
       "      <td>1938</td>\n",
       "      <td>-12.331</td>\n",
       "      <td>22.025</td>\n",
       "      <td>5.002333</td>\n",
       "      <td>34.356</td>\n",
       "      <td>90851.515152</td>\n",
       "      <td>18121.063852</td>\n",
       "      <td>8830.369302</td>\n",
       "    </tr>\n",
       "    <tr>\n",
       "      <th>161349</th>\n",
       "      <td>Nizhniy Novgorod</td>\n",
       "      <td>1939</td>\n",
       "      <td>-11.002</td>\n",
       "      <td>19.243</td>\n",
       "      <td>3.594917</td>\n",
       "      <td>30.245</td>\n",
       "      <td>-28.135204</td>\n",
       "      <td>18121.301026</td>\n",
       "      <td>8815.985285</td>\n",
       "    </tr>\n",
       "    <tr>\n",
       "      <th>8520</th>\n",
       "      <td>Angeles</td>\n",
       "      <td>1946</td>\n",
       "      <td>25.782</td>\n",
       "      <td>28.741</td>\n",
       "      <td>26.756500</td>\n",
       "      <td>2.959</td>\n",
       "      <td>2.002383</td>\n",
       "      <td>-0.103041</td>\n",
       "      <td>8161.016276</td>\n",
       "    </tr>\n",
       "    <tr>\n",
       "      <th>8521</th>\n",
       "      <td>Angeles</td>\n",
       "      <td>1947</td>\n",
       "      <td>24.993</td>\n",
       "      <td>28.459</td>\n",
       "      <td>26.524750</td>\n",
       "      <td>3.466</td>\n",
       "      <td>-0.866145</td>\n",
       "      <td>-0.015528</td>\n",
       "      <td>8151.158441</td>\n",
       "    </tr>\n",
       "    <tr>\n",
       "      <th>8518</th>\n",
       "      <td>Angeles</td>\n",
       "      <td>1944</td>\n",
       "      <td>23.500</td>\n",
       "      <td>28.588</td>\n",
       "      <td>26.424083</td>\n",
       "      <td>5.088</td>\n",
       "      <td>0.325889</td>\n",
       "      <td>0.058861</td>\n",
       "      <td>8135.506330</td>\n",
       "    </tr>\n",
       "    <tr>\n",
       "      <th>8517</th>\n",
       "      <td>Angeles</td>\n",
       "      <td>1943</td>\n",
       "      <td>24.663</td>\n",
       "      <td>28.610</td>\n",
       "      <td>26.338250</td>\n",
       "      <td>3.947</td>\n",
       "      <td>-0.810005</td>\n",
       "      <td>-0.086001</td>\n",
       "      <td>8128.606660</td>\n",
       "    </tr>\n",
       "    <tr>\n",
       "      <th>8519</th>\n",
       "      <td>Angeles</td>\n",
       "      <td>1945</td>\n",
       "      <td>24.007</td>\n",
       "      <td>28.036</td>\n",
       "      <td>26.231250</td>\n",
       "      <td>4.029</td>\n",
       "      <td>-0.729764</td>\n",
       "      <td>-0.189989</td>\n",
       "      <td>8127.049671</td>\n",
       "    </tr>\n",
       "    <tr>\n",
       "      <th>8514</th>\n",
       "      <td>Angeles</td>\n",
       "      <td>1940</td>\n",
       "      <td>24.408</td>\n",
       "      <td>28.244</td>\n",
       "      <td>26.488833</td>\n",
       "      <td>3.836</td>\n",
       "      <td>0.514484</td>\n",
       "      <td>16254.289330</td>\n",
       "      <td>7128.562047</td>\n",
       "    </tr>\n",
       "    <tr>\n",
       "      <th>8513</th>\n",
       "      <td>Angeles</td>\n",
       "      <td>1939</td>\n",
       "      <td>23.617</td>\n",
       "      <td>27.956</td>\n",
       "      <td>26.353250</td>\n",
       "      <td>4.339</td>\n",
       "      <td>-0.398420</td>\n",
       "      <td>16270.953800</td>\n",
       "      <td>7119.554978</td>\n",
       "    </tr>\n",
       "    <tr>\n",
       "      <th>8516</th>\n",
       "      <td>Angeles</td>\n",
       "      <td>1942</td>\n",
       "      <td>24.613</td>\n",
       "      <td>28.617</td>\n",
       "      <td>26.553333</td>\n",
       "      <td>4.004</td>\n",
       "      <td>-1.303705</td>\n",
       "      <td>16302.332410</td>\n",
       "      <td>7118.187660</td>\n",
       "    </tr>\n",
       "    <tr>\n",
       "      <th>8515</th>\n",
       "      <td>Angeles</td>\n",
       "      <td>1941</td>\n",
       "      <td>25.436</td>\n",
       "      <td>28.767</td>\n",
       "      <td>26.904083</td>\n",
       "      <td>3.331</td>\n",
       "      <td>1.567642</td>\n",
       "      <td>16322.135593</td>\n",
       "      <td>7108.219550</td>\n",
       "    </tr>\n",
       "    <tr>\n",
       "      <th>8512</th>\n",
       "      <td>Angeles</td>\n",
       "      <td>1938</td>\n",
       "      <td>24.885</td>\n",
       "      <td>28.017</td>\n",
       "      <td>26.458667</td>\n",
       "      <td>3.132</td>\n",
       "      <td>81511.282051</td>\n",
       "      <td>16257.299320</td>\n",
       "      <td>6963.521200</td>\n",
       "    </tr>\n",
       "  </tbody>\n",
       "</table>\n",
       "</div>"
      ],
      "text/plain": [
       "                    City    dt  min_temp  max_temp   avg_temp  temp_range  \\\n",
       "161356  Nizhniy Novgorod  1946   -10.460    18.649   3.352250      29.109   \n",
       "161357  Nizhniy Novgorod  1947   -15.728    17.377   3.147333      33.105   \n",
       "161354  Nizhniy Novgorod  1944   -10.443    17.426   4.099917      27.869   \n",
       "161353  Nizhniy Novgorod  1943   -15.615    19.054   4.215250      34.669   \n",
       "161355  Nizhniy Novgorod  1945   -12.650    18.003   1.870917      30.653   \n",
       "161352  Nizhniy Novgorod  1942   -20.710    18.342   1.883667      39.052   \n",
       "161350  Nizhniy Novgorod  1940   -20.946    19.657   2.648000      40.603   \n",
       "161351  Nizhniy Novgorod  1941   -15.916    19.845   0.770000      35.761   \n",
       "161348  Nizhniy Novgorod  1938   -12.331    22.025   5.002333      34.356   \n",
       "161349  Nizhniy Novgorod  1939   -11.002    19.243   3.594917      30.245   \n",
       "8520             Angeles  1946    25.782    28.741  26.756500       2.959   \n",
       "8521             Angeles  1947    24.993    28.459  26.524750       3.466   \n",
       "8518             Angeles  1944    23.500    28.588  26.424083       5.088   \n",
       "8517             Angeles  1943    24.663    28.610  26.338250       3.947   \n",
       "8519             Angeles  1945    24.007    28.036  26.231250       4.029   \n",
       "8514             Angeles  1940    24.408    28.244  26.488833       3.836   \n",
       "8513             Angeles  1939    23.617    27.956  26.353250       4.339   \n",
       "8516             Angeles  1942    24.613    28.617  26.553333       4.004   \n",
       "8515             Angeles  1941    25.436    28.767  26.904083       3.331   \n",
       "8512             Angeles  1938    24.885    28.017  26.458667       3.132   \n",
       "\n",
       "          pct_change  five_yr_avg_pct_change  ten_yr_avg_pct_change  \n",
       "161356     79.176874               58.096966            9111.970586  \n",
       "161357     -6.112810               27.947997            9101.049008  \n",
       "161354     -2.736097               33.682606            9077.491816  \n",
       "161353    123.778977               28.602785            9074.833318  \n",
       "161355    -54.366959               28.077301            9061.874381  \n",
       "161352    144.632035            18174.150020            8930.348339  \n",
       "161350    -26.340434            18095.671460            8929.456733  \n",
       "161351    -70.921450            18165.844205            8910.740482  \n",
       "161348  90851.515152            18121.063852            8830.369302  \n",
       "161349    -28.135204            18121.301026            8815.985285  \n",
       "8520        2.002383               -0.103041            8161.016276  \n",
       "8521       -0.866145               -0.015528            8151.158441  \n",
       "8518        0.325889                0.058861            8135.506330  \n",
       "8517       -0.810005               -0.086001            8128.606660  \n",
       "8519       -0.729764               -0.189989            8127.049671  \n",
       "8514        0.514484            16254.289330            7128.562047  \n",
       "8513       -0.398420            16270.953800            7119.554978  \n",
       "8516       -1.303705            16302.332410            7118.187660  \n",
       "8515        1.567642            16322.135593            7108.219550  \n",
       "8512    81511.282051            16257.299320            6963.521200  "
      ]
     },
     "execution_count": 63,
     "metadata": {},
     "output_type": "execute_result"
    }
   ],
   "source": [
    "# top 20 ten_yr_avg (by city)\n",
    "fast_warm_city.nlargest(20,'ten_yr_avg_pct_change')"
   ]
  },
  {
   "cell_type": "markdown",
   "id": "33289eb0",
   "metadata": {
    "slideshow": {
     "slide_type": "subslide"
    }
   },
   "source": [
    "Once again, a look at temperature ranges by city."
   ]
  },
  {
   "cell_type": "code",
   "execution_count": 88,
   "id": "4bbeb101",
   "metadata": {
    "scrolled": false,
    "slideshow": {
     "slide_type": "fragment"
    }
   },
   "outputs": [
    {
     "data": {
      "text/html": [
       "<div>\n",
       "<style scoped>\n",
       "    .dataframe tbody tr th:only-of-type {\n",
       "        vertical-align: middle;\n",
       "    }\n",
       "\n",
       "    .dataframe tbody tr th {\n",
       "        vertical-align: top;\n",
       "    }\n",
       "\n",
       "    .dataframe thead th {\n",
       "        text-align: right;\n",
       "    }\n",
       "</style>\n",
       "<table border=\"1\" class=\"dataframe\">\n",
       "  <thead>\n",
       "    <tr style=\"text-align: right;\">\n",
       "      <th></th>\n",
       "      <th>City</th>\n",
       "      <th>dt</th>\n",
       "      <th>min_temp</th>\n",
       "      <th>max_temp</th>\n",
       "      <th>avg_temp</th>\n",
       "      <th>temp_range</th>\n",
       "      <th>pct_change</th>\n",
       "      <th>five_yr_avg_pct_change</th>\n",
       "      <th>ten_yr_avg_pct_change</th>\n",
       "    </tr>\n",
       "  </thead>\n",
       "  <tbody>\n",
       "    <tr>\n",
       "      <th>162225</th>\n",
       "      <td>Norilsk</td>\n",
       "      <td>1979</td>\n",
       "      <td>-42.704</td>\n",
       "      <td>15.862</td>\n",
       "      <td>-13.931500</td>\n",
       "      <td>58.566</td>\n",
       "      <td>-18.147831</td>\n",
       "      <td>-0.949877</td>\n",
       "      <td>-2.201296</td>\n",
       "    </tr>\n",
       "    <tr>\n",
       "      <th>255475</th>\n",
       "      <td>Yichun</td>\n",
       "      <td>1977</td>\n",
       "      <td>-27.466</td>\n",
       "      <td>29.094</td>\n",
       "      <td>8.696958</td>\n",
       "      <td>56.560</td>\n",
       "      <td>1.055450</td>\n",
       "      <td>0.631102</td>\n",
       "      <td>0.021991</td>\n",
       "    </tr>\n",
       "    <tr>\n",
       "      <th>241103</th>\n",
       "      <td>Ust Ilimsk</td>\n",
       "      <td>1969</td>\n",
       "      <td>-35.031</td>\n",
       "      <td>20.562</td>\n",
       "      <td>-5.716667</td>\n",
       "      <td>55.593</td>\n",
       "      <td>-27.920637</td>\n",
       "      <td>-16.365931</td>\n",
       "      <td>-12.265983</td>\n",
       "    </tr>\n",
       "    <tr>\n",
       "      <th>124291</th>\n",
       "      <td>Kyzyl</td>\n",
       "      <td>1969</td>\n",
       "      <td>-38.906</td>\n",
       "      <td>16.676</td>\n",
       "      <td>-7.370083</td>\n",
       "      <td>55.582</td>\n",
       "      <td>-21.251714</td>\n",
       "      <td>-5.486770</td>\n",
       "      <td>-2.269710</td>\n",
       "    </tr>\n",
       "    <tr>\n",
       "      <th>255449</th>\n",
       "      <td>Yichun</td>\n",
       "      <td>1951</td>\n",
       "      <td>-25.633</td>\n",
       "      <td>29.652</td>\n",
       "      <td>9.036667</td>\n",
       "      <td>55.285</td>\n",
       "      <td>1.192587</td>\n",
       "      <td>-0.561505</td>\n",
       "      <td>0.796762</td>\n",
       "    </tr>\n",
       "  </tbody>\n",
       "</table>\n",
       "</div>"
      ],
      "text/plain": [
       "              City    dt  min_temp  max_temp   avg_temp  temp_range  \\\n",
       "162225     Norilsk  1979   -42.704    15.862 -13.931500      58.566   \n",
       "255475      Yichun  1977   -27.466    29.094   8.696958      56.560   \n",
       "241103  Ust Ilimsk  1969   -35.031    20.562  -5.716667      55.593   \n",
       "124291       Kyzyl  1969   -38.906    16.676  -7.370083      55.582   \n",
       "255449      Yichun  1951   -25.633    29.652   9.036667      55.285   \n",
       "\n",
       "        pct_change  five_yr_avg_pct_change  ten_yr_avg_pct_change  \n",
       "162225  -18.147831               -0.949877              -2.201296  \n",
       "255475    1.055450                0.631102               0.021991  \n",
       "241103  -27.920637              -16.365931             -12.265983  \n",
       "124291  -21.251714               -5.486770              -2.269710  \n",
       "255449    1.192587               -0.561505               0.796762  "
      ]
     },
     "execution_count": 88,
     "metadata": {},
     "output_type": "execute_result"
    }
   ],
   "source": [
    "# top 5 temp_range (by city)\n",
    "fast_warm_city.nlargest(5,'temp_range')"
   ]
  },
  {
   "cell_type": "code",
   "execution_count": 89,
   "id": "3808f4f3",
   "metadata": {
    "slideshow": {
     "slide_type": "fragment"
    }
   },
   "outputs": [
    {
     "data": {
      "text/html": [
       "<div>\n",
       "<style scoped>\n",
       "    .dataframe tbody tr th:only-of-type {\n",
       "        vertical-align: middle;\n",
       "    }\n",
       "\n",
       "    .dataframe tbody tr th {\n",
       "        vertical-align: top;\n",
       "    }\n",
       "\n",
       "    .dataframe thead th {\n",
       "        text-align: right;\n",
       "    }\n",
       "</style>\n",
       "<table border=\"1\" class=\"dataframe\">\n",
       "  <thead>\n",
       "    <tr style=\"text-align: right;\">\n",
       "      <th></th>\n",
       "      <th>City</th>\n",
       "      <th>dt</th>\n",
       "      <th>min_temp</th>\n",
       "      <th>max_temp</th>\n",
       "      <th>avg_temp</th>\n",
       "      <th>temp_range</th>\n",
       "      <th>pct_change</th>\n",
       "      <th>five_yr_avg_pct_change</th>\n",
       "      <th>ten_yr_avg_pct_change</th>\n",
       "    </tr>\n",
       "  </thead>\n",
       "  <tbody>\n",
       "    <tr>\n",
       "      <th>17397</th>\n",
       "      <td>Balikpapan</td>\n",
       "      <td>2007</td>\n",
       "      <td>26.985</td>\n",
       "      <td>27.462</td>\n",
       "      <td>27.210083</td>\n",
       "      <td>0.477</td>\n",
       "      <td>-0.238618</td>\n",
       "      <td>-0.200853</td>\n",
       "      <td>-0.025281</td>\n",
       "    </tr>\n",
       "    <tr>\n",
       "      <th>131701</th>\n",
       "      <td>Loa Janan</td>\n",
       "      <td>2007</td>\n",
       "      <td>26.985</td>\n",
       "      <td>27.462</td>\n",
       "      <td>27.210083</td>\n",
       "      <td>0.477</td>\n",
       "      <td>-0.238618</td>\n",
       "      <td>-0.200853</td>\n",
       "      <td>-0.025281</td>\n",
       "    </tr>\n",
       "    <tr>\n",
       "      <th>200177</th>\n",
       "      <td>Samarinda</td>\n",
       "      <td>2007</td>\n",
       "      <td>26.985</td>\n",
       "      <td>27.462</td>\n",
       "      <td>27.210083</td>\n",
       "      <td>0.477</td>\n",
       "      <td>-0.238618</td>\n",
       "      <td>-0.200853</td>\n",
       "      <td>-0.025281</td>\n",
       "    </tr>\n",
       "    <tr>\n",
       "      <th>93342</th>\n",
       "      <td>Ibarra</td>\n",
       "      <td>1952</td>\n",
       "      <td>16.911</td>\n",
       "      <td>17.436</td>\n",
       "      <td>17.185750</td>\n",
       "      <td>0.525</td>\n",
       "      <td>0.455934</td>\n",
       "      <td>0.167855</td>\n",
       "      <td>-0.133950</td>\n",
       "    </tr>\n",
       "    <tr>\n",
       "      <th>174586</th>\n",
       "      <td>Pasto</td>\n",
       "      <td>1952</td>\n",
       "      <td>16.911</td>\n",
       "      <td>17.436</td>\n",
       "      <td>17.185750</td>\n",
       "      <td>0.525</td>\n",
       "      <td>0.455934</td>\n",
       "      <td>0.167855</td>\n",
       "      <td>-0.133950</td>\n",
       "    </tr>\n",
       "  </tbody>\n",
       "</table>\n",
       "</div>"
      ],
      "text/plain": [
       "              City    dt  min_temp  max_temp   avg_temp  temp_range  \\\n",
       "17397   Balikpapan  2007    26.985    27.462  27.210083       0.477   \n",
       "131701   Loa Janan  2007    26.985    27.462  27.210083       0.477   \n",
       "200177   Samarinda  2007    26.985    27.462  27.210083       0.477   \n",
       "93342       Ibarra  1952    16.911    17.436  17.185750       0.525   \n",
       "174586       Pasto  1952    16.911    17.436  17.185750       0.525   \n",
       "\n",
       "        pct_change  five_yr_avg_pct_change  ten_yr_avg_pct_change  \n",
       "17397    -0.238618               -0.200853              -0.025281  \n",
       "131701   -0.238618               -0.200853              -0.025281  \n",
       "200177   -0.238618               -0.200853              -0.025281  \n",
       "93342     0.455934                0.167855              -0.133950  \n",
       "174586    0.455934                0.167855              -0.133950  "
      ]
     },
     "execution_count": 89,
     "metadata": {},
     "output_type": "execute_result"
    }
   ],
   "source": [
    "# bottom 5 temp_range (by city)\n",
    "fast_warm_city.nsmallest(5,'temp_range')"
   ]
  },
  {
   "cell_type": "markdown",
   "id": "3be80d11",
   "metadata": {
    "slideshow": {
     "slide_type": "subslide"
    }
   },
   "source": [
    "Again, we can conclude:\n",
    "* historically, **Nizhniy Novgorod, [Western] Russia** was the fastest-warming city just before the middle of the 20th century\n",
    "* *more recently*, **Abakan, [Southern] Russia** has demonstrated relatively rapid warming leading into the beginning of 21st century\n",
    "* the city with the greatest range in average temperature was **Norilsk, Russia** in 1979\n",
    "* the cities with the least range in average temperature were **Balikpapan**, **Loa Janan**, and **Samarinda** in 2007 (all distinct cities within ~110 km of one another in Indonesia)\n",
    "\n",
    "We observe that **Nizhniy Novgorod** and **Abakan** are the fastest-warming cities (historically and more recently, respectively), both of which are in Russia 🇷🇺.\n",
    "\n",
    "The city with the greatest range in average temperature was **Norilsk, Russia** 🇷🇺 in 1979 and those with the least range in average temperature were **Balikpapan**, **Loa Janan**, and **Samarinda** 🇮🇩 in 2007."
   ]
  },
  {
   "cell_type": "markdown",
   "id": "1cccbdbd",
   "metadata": {
    "slideshow": {
     "slide_type": "fragment"
    }
   },
   "source": [
    "[Back to TOC](#TOC)"
   ]
  },
  {
   "cell_type": "markdown",
   "id": "88c7eae6",
   "metadata": {
    "slideshow": {
     "slide_type": "slide"
    }
   },
   "source": [
    "**** \n",
    "<a id='Conclusion'></a>\n",
    "### 5. [Conclusions, Recommendations, and Areas for Further Exploration](#Conclusion)"
   ]
  },
  {
   "cell_type": "markdown",
   "id": "3b79e445",
   "metadata": {
    "slideshow": {
     "slide_type": "subslide"
    }
   },
   "source": [
    "#### Conclusions\n",
    "In summary, we determined that, from 1880 to 2013,\n",
    "* on average, the **coldest country** was **Greenland**\n",
    "* on average, the **warmest country** was **Djibouti**\n",
    "* on average, the **coldest city** was **Norilsk, Russia**\n",
    "* on average, the **warmest city** was **Jibuti, Djibouti**\n",
    "* the country with the greatest range in average temperatures was **Kazakhstan**\n",
    "* the cities with the greatest range in average temperatures were **Balikpapan**, **Loa Janan**, and **Samarinda** (all Indonesia)\n",
    "* the **countries** that have the **greatest rate of warming** were **Finland and Mongolia** (historically and recently, respectively)\n",
    "* the **cities** that have the **greatest rate of warming** were **Nizhniy Novgorod and Abakan** (historically and recently, respectively)"
   ]
  },
  {
   "cell_type": "markdown",
   "id": "d6843035",
   "metadata": {
    "slideshow": {
     "slide_type": "subslide"
    }
   },
   "source": [
    "#### Recommendations\n",
    "The results of this analysis would [hopefully] be of interest to most global citizens. While these findings may be concerning—especially for residents of the countries and/or cities listed above—they do have the opportunity to be motivating and empowering, too.\n",
    "\n",
    "Additionally, it is important to remember that the areas of Earth that experience the most extreme temperatures are not necessarily those contributing heavily to the changing climate. With wind and ocean currents constantly being influenced by the motion of our planet, often times heavy pollutants, for example, can travel large distances and have an effect on communities and ecosystems thousands of kilometres away.\n",
    "\n",
    "Ultimately, the results from this analysis could serve as data-driven reasoning to work to mitigate our anthropogenic contributions to climate change. Of course, climate change has taken place on Earth from time immemorial, as shown in the geological record; rather, it is the rapid rate and the magnitude of climate change occurring now that is of great concern worldwide.\n",
    "\n",
    "That said, it is important to note that the of limitations in the dataset suggest these findings should not be taken as gospel but, instead, a *soft* warning or realization (from an admittedly-amateur climate scientist).\n",
    "* **Temporal limitations** in both directions:\n",
    "    * the uncertainty associated with early-recorded temperatures (e.g., 1743 through 1900) is much greater than more recent dates, making these records potentially less reliable\n",
    "    * the most recent month of recorded temperatures across both tables is *August of 2013*, nearly 10 years ago, at time of analysis\n",
    "* **Collection methods**:\n",
    "    * early data was collected by technicians using mercury thermometers, where any variation in the visit time impacted measurements\n",
    "    * in the 1940s, the construction of airports caused many weather stations to be moved\n",
    "    * in the 1980s, there was a transition to electronic thermometers that are said to have a cooling bias\n",
    "* **Monthly aggregations**: each record is dated as the first of every month, suggesting averaging over each day of the month\n",
    "* **Locations**: with 3,448 unique cities across 159 countries, there are clearly many areas of the world—even areas of each country—that are not included that could give a much fuller picture of temperature changes\n"
   ]
  },
  {
   "cell_type": "markdown",
   "id": "09fd925b",
   "metadata": {
    "slideshow": {
     "slide_type": "subslide"
    }
   },
   "source": [
    "#### Areas for Further Exploration\n",
    "Given the limitaitons listed above, this analysis and accompanying dataset can still be used for diagnostic purposes despite the raw dataset containing various artifacts that may make it an unreliable recorder of Earth's climate history/future. That said, there are still many directions in which to proceed:\n",
    "* **Forecasting**: given the [personal] limitations of time and the existing length of the analysis, forecasting of temperatures for a given city was not included. This will be added after-the-fact to demonstrate seasonal modelling.\n",
    "* **Improved Geo-Coordinates**: while it was not the main focus of this analysis, it would be informative to join the existing tables with those that include more accurate latitude and longitude measurements (as opposed to rounded off to two decimal places). With this information, a more detailed look at temperatures and/or temperature changes by location could provide deeper insights.\n",
    "* **Other Geographical Information**: measurements such as altitude, humidity, proximity to water/length of coastline, or even population density would be interesting to explore as other variables that may or may not have some correlation with temperatures changes."
   ]
  },
  {
   "cell_type": "markdown",
   "id": "20f0dbd4",
   "metadata": {
    "slideshow": {
     "slide_type": "fragment"
    }
   },
   "source": [
    "[Back to TOC](#TOC)"
   ]
  },
  {
   "cell_type": "markdown",
   "id": "2eac7391",
   "metadata": {
    "slideshow": {
     "slide_type": "fragment"
    }
   },
   "source": [
    "**** \n"
   ]
  },
  {
   "cell_type": "markdown",
   "id": "b6a71838",
   "metadata": {},
   "source": [
    "\\~*fin*\\~"
   ]
  },
  {
   "cell_type": "markdown",
   "id": "e5bc7527",
   "metadata": {},
   "source": [
    "**** "
   ]
  }
 ],
 "metadata": {
  "kernelspec": {
   "display_name": "Python 3 (ipykernel)",
   "language": "python",
   "name": "python3"
  },
  "language_info": {
   "codemirror_mode": {
    "name": "ipython",
    "version": 3
   },
   "file_extension": ".py",
   "mimetype": "text/x-python",
   "name": "python",
   "nbconvert_exporter": "python",
   "pygments_lexer": "ipython3",
   "version": "3.10.4"
  }
 },
 "nbformat": 4,
 "nbformat_minor": 5
}
