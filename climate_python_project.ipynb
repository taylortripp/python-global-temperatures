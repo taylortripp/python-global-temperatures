{
 "cells": [
  {
   "cell_type": "markdown",
   "id": "c97a2c61",
   "metadata": {
    "slideshow": {
     "slide_type": "slide"
    }
   },
   "source": [
    "# Rate of Warming of Global Countries and Cities\n",
    "## *Analysis of rate of warming across Earth (1880-2013)*\n",
    "**** "
   ]
  },
  {
   "cell_type": "markdown",
   "id": "3c883530",
   "metadata": {},
   "source": [
    "![SegmentLocal](warmingearth.gif \"segment\")"
   ]
  },
  {
   "cell_type": "markdown",
   "id": "33862295",
   "metadata": {
    "slideshow": {
     "slide_type": "fragment"
    }
   },
   "source": [
    "Source: https://climate.nasa.gov/"
   ]
  },
  {
   "cell_type": "markdown",
   "id": "199acf95",
   "metadata": {
    "slideshow": {
     "slide_type": "subslide"
    }
   },
   "source": [
    "<a id='TOC'></a>\n",
    "1. [Introduction](#Introduction)\n",
    "2. [Data Overview](#Overview)<br>\n",
    "    a. [Loading](#Loading)<br>\n",
    "    b. [Cleaning/Filtering](#Cleaning)<br>\n",
    "3. [Exploratory Data Analysis (EDA)](#EDA)<br>\n",
    "    a. [Warmest & coldest countries/cities](#Extremes)<br> \n",
    "    b. [Average global temperature over time](#Trending)<br>\n",
    "4. [Answering Questions](#Answers)<br>\n",
    "    a. [Fastest-Warming Countries & Cities and Temperature Ranges](#Fastest)<br>  \n",
    "5. [Conclusions, Recommendations, and Areas for Further Exploration](#Conclusion)"
   ]
  },
  {
   "cell_type": "markdown",
   "id": "28b727b9",
   "metadata": {
    "slideshow": {
     "slide_type": "slide"
    }
   },
   "source": [
    "**** \n",
    "<a id='Introduction'></a>\n",
    "### 1. [Introduction](#Introduction)\n",
    "\n",
    "In this analysis, we will look at average temperature readings for several countries and cities across the globe in order to determine:\n",
    "* the warmest and coldest countries,\n",
    "* the warmest and coldest cities,\n",
    "* the country and city with the greatest rate of warming\\*,\n",
    "* the country and city with the greatest ranges in average temperatures.\n",
    "\n",
    "\\* Note: \"*greatest rate of warming*\" will be defined as the location that has the greatest rolling 10-year average increase in average temperature change. This calculated field is not included in the raw data, so it will be added as a column in our working dataframes.\n",
    "\n",
    "The purpose of this analysis is to inform global citizens of the urgency with which to act as our planet continues to warm. Of course, those based in any of the countries or cities that are found to be warming at an increased rate will immediately see the relevancy in their own lives but this information should also be taken into consideration by individuals that live elsewhere in the world, at the very least for the sake of empathy and empowerment.\n",
    "\n",
    "#### Hypothesis\n",
    "Broadly speaking, our hypothesis is that the coldest countries and cities will be situated closer to the North/South poles, whereas the warmest countries and cities will be situated closer to the equator. Additionally, we hypothesize that the countries and cities with the greatest rate of warming will be closer to the poles, as a result of the albedo effect (i.e., the loss of snow and sea ice resulting in less sunlight being reflected) and the related change in weather systems, as a result. "
   ]
  },
  {
   "cell_type": "markdown",
   "id": "b7c59772",
   "metadata": {
    "slideshow": {
     "slide_type": "fragment"
    }
   },
   "source": [
    "[Back to TOC](#TOC)"
   ]
  },
  {
   "cell_type": "markdown",
   "id": "f243c2f0",
   "metadata": {
    "slideshow": {
     "slide_type": "slide"
    }
   },
   "source": [
    "**** \n",
    "<a id='Overview'></a>\n",
    "### 2. [Data Overview](#Overview)\n",
    "\n",
    "This analysis will work with two datasets:\n",
    "* `GlobalLandTemperaturesByCountry.csv` and\n",
    "* `GlobalLandTemperaturesByCity.csv`\n",
    "\n",
    "We will first use the `GlobalLandTemperaturesByCountry.csv` set in order to look at warming on a national scale, followed by an identical analysis with the `GlobalTemperaturesByCity.csv` set to observe warming across global cities.\n",
    "\n",
    "Ideally, we are able to answer such questions as:\n",
    "* *Which country/countries is/are warming the fastest?*\n",
    "* *Which city/cities is/are warming the fastest?*\n",
    "* *Can we accurately predict temperatures for a specific country or city?*\n",
    "\n",
    "It should be noted that although both datasets contain average temperatures (at the country or city level respectively) dating back to 1743(!), we will only be using records from 1880 onward for the sake of volume processing."
   ]
  },
  {
   "cell_type": "markdown",
   "id": "660e6fd6",
   "metadata": {
    "slideshow": {
     "slide_type": "slide"
    }
   },
   "source": [
    "<a id='Loading'></a>\n",
    "#### [Loading the Data](#Loading)"
   ]
  },
  {
   "cell_type": "code",
   "execution_count": 1,
   "id": "0997fddc",
   "metadata": {
    "slideshow": {
     "slide_type": "subslide"
    }
   },
   "outputs": [
    {
     "data": {
      "text/html": [
       "        <script type=\"text/javascript\">\n",
       "        window.PlotlyConfig = {MathJaxConfig: 'local'};\n",
       "        if (window.MathJax) {MathJax.Hub.Config({SVG: {font: \"STIX-Web\"}});}\n",
       "        if (typeof require !== 'undefined') {\n",
       "        require.undef(\"plotly\");\n",
       "        requirejs.config({\n",
       "            paths: {\n",
       "                'plotly': ['https://cdn.plot.ly/plotly-2.11.1.min']\n",
       "            }\n",
       "        });\n",
       "        require(['plotly'], function(Plotly) {\n",
       "            window._Plotly = Plotly;\n",
       "        });\n",
       "        }\n",
       "        </script>\n",
       "        "
      ]
     },
     "metadata": {},
     "output_type": "display_data"
    }
   ],
   "source": [
    "# data analysis\n",
    "import numpy as np \n",
    "import pandas as pd \n",
    "\n",
    "# dataviz\n",
    "import matplotlib\n",
    "import matplotlib.pyplot as plt\n",
    "import plotly.offline as py\n",
    "py.init_notebook_mode(connected=True)\n",
    "import plotly.graph_objs as go\n",
    "import plotly.tools as tls\n",
    "import seaborn as sns\n",
    "\n",
    "# forecasting tools\n",
    "import itertools\n",
    "from pmdarima.arima import auto_arima\n",
    "from sklearn.metrics import mean_squared_error\n",
    "import statsmodels.api as sm\n",
    "from statsmodels.tsa.seasonal import seasonal_decompose\n",
    "from statsmodels.graphics.tsaplots import plot_acf, plot_pacf\n",
    "from statsmodels.tsa.stattools import adfuller\n",
    "\n",
    "# other misc. libraries\n",
    "from math import sqrt\n",
    "import warnings\n",
    "warnings.filterwarnings('ignore')\n",
    "%matplotlib inline"
   ]
  },
  {
   "cell_type": "code",
   "execution_count": 2,
   "id": "aa06b014",
   "metadata": {
    "slideshow": {
     "slide_type": "fragment"
    }
   },
   "outputs": [],
   "source": [
    "plt.style.use('fivethirtyeight')\n",
    "matplotlib.rcParams['axes.labelsize'] = 18\n",
    "matplotlib.rcParams['xtick.labelsize'] = 12\n",
    "matplotlib.rcParams['ytick.labelsize'] = 12\n",
    "matplotlib.rcParams['text.color'] = 'b'\n",
    "\n",
    "colors = ['xkcd:grey', 'xkcd:light purple', 'xkcd:light yellow','xkcd:light green']"
   ]
  },
  {
   "cell_type": "code",
   "execution_count": 3,
   "id": "2ae0b421",
   "metadata": {
    "slideshow": {
     "slide_type": "fragment"
    }
   },
   "outputs": [],
   "source": [
    "# load Country csv\n",
    "country=pd.read_csv('GlobalLandTemperaturesByCountry.csv',\n",
    "                 infer_datetime_format=True,\n",
    "                date_parser=True)\n",
    "\n",
    "country['dt']=pd.to_datetime(country['dt'])\n",
    "\n",
    "\n",
    "# load City csv\n",
    "city=pd.read_csv('GlobalLandTemperaturesByCity.csv',\n",
    "                 infer_datetime_format=True,\n",
    "                date_parser=True)\n",
    "\n",
    "city['dt']=pd.to_datetime(city['dt'])"
   ]
  },
  {
   "cell_type": "markdown",
   "id": "9fc3abae",
   "metadata": {
    "slideshow": {
     "slide_type": "fragment"
    }
   },
   "source": [
    "[Back to TOC](#TOC)"
   ]
  },
  {
   "cell_type": "markdown",
   "id": "c0230b51",
   "metadata": {
    "slideshow": {
     "slide_type": "slide"
    }
   },
   "source": [
    "<a id='Cleaning'></a>\n",
    "#### [Cleaning/Filtering](#Cleaning)"
   ]
  },
  {
   "cell_type": "markdown",
   "id": "666ba6c0",
   "metadata": {
    "slideshow": {
     "slide_type": "subslide"
    }
   },
   "source": [
    "We will first work with the `Country` data. Let's take surface look at the table and the number of rows (i.e., `shape[0]`)."
   ]
  },
  {
   "cell_type": "code",
   "execution_count": 4,
   "id": "d8745728",
   "metadata": {
    "scrolled": true,
    "slideshow": {
     "slide_type": "fragment"
    }
   },
   "outputs": [
    {
     "data": {
      "text/html": [
       "<div>\n",
       "<style scoped>\n",
       "    .dataframe tbody tr th:only-of-type {\n",
       "        vertical-align: middle;\n",
       "    }\n",
       "\n",
       "    .dataframe tbody tr th {\n",
       "        vertical-align: top;\n",
       "    }\n",
       "\n",
       "    .dataframe thead th {\n",
       "        text-align: right;\n",
       "    }\n",
       "</style>\n",
       "<table border=\"1\" class=\"dataframe\">\n",
       "  <thead>\n",
       "    <tr style=\"text-align: right;\">\n",
       "      <th></th>\n",
       "      <th>dt</th>\n",
       "      <th>AverageTemperature</th>\n",
       "      <th>AverageTemperatureUncertainty</th>\n",
       "      <th>Country</th>\n",
       "    </tr>\n",
       "  </thead>\n",
       "  <tbody>\n",
       "    <tr>\n",
       "      <th>0</th>\n",
       "      <td>1743-11-01</td>\n",
       "      <td>4.384</td>\n",
       "      <td>2.294</td>\n",
       "      <td>Åland</td>\n",
       "    </tr>\n",
       "    <tr>\n",
       "      <th>1</th>\n",
       "      <td>1743-12-01</td>\n",
       "      <td>NaN</td>\n",
       "      <td>NaN</td>\n",
       "      <td>Åland</td>\n",
       "    </tr>\n",
       "    <tr>\n",
       "      <th>2</th>\n",
       "      <td>1744-01-01</td>\n",
       "      <td>NaN</td>\n",
       "      <td>NaN</td>\n",
       "      <td>Åland</td>\n",
       "    </tr>\n",
       "    <tr>\n",
       "      <th>3</th>\n",
       "      <td>1744-02-01</td>\n",
       "      <td>NaN</td>\n",
       "      <td>NaN</td>\n",
       "      <td>Åland</td>\n",
       "    </tr>\n",
       "    <tr>\n",
       "      <th>4</th>\n",
       "      <td>1744-03-01</td>\n",
       "      <td>NaN</td>\n",
       "      <td>NaN</td>\n",
       "      <td>Åland</td>\n",
       "    </tr>\n",
       "  </tbody>\n",
       "</table>\n",
       "</div>"
      ],
      "text/plain": [
       "          dt  AverageTemperature  AverageTemperatureUncertainty Country\n",
       "0 1743-11-01               4.384                          2.294   Åland\n",
       "1 1743-12-01                 NaN                            NaN   Åland\n",
       "2 1744-01-01                 NaN                            NaN   Åland\n",
       "3 1744-02-01                 NaN                            NaN   Åland\n",
       "4 1744-03-01                 NaN                            NaN   Åland"
      ]
     },
     "execution_count": 4,
     "metadata": {},
     "output_type": "execute_result"
    }
   ],
   "source": [
    "country.head()"
   ]
  },
  {
   "cell_type": "code",
   "execution_count": 5,
   "id": "8129c81d",
   "metadata": {
    "scrolled": true,
    "slideshow": {
     "slide_type": "fragment"
    }
   },
   "outputs": [
    {
     "data": {
      "text/plain": [
       "577462"
      ]
     },
     "execution_count": 5,
     "metadata": {},
     "output_type": "execute_result"
    }
   ],
   "source": [
    "country.shape[0]"
   ]
  },
  {
   "cell_type": "code",
   "execution_count": 6,
   "id": "ab4724ba",
   "metadata": {
    "slideshow": {
     "slide_type": "fragment"
    }
   },
   "outputs": [
    {
     "data": {
      "text/plain": [
       "dt                               datetime64[ns]\n",
       "AverageTemperature                      float64\n",
       "AverageTemperatureUncertainty           float64\n",
       "Country                                  object\n",
       "dtype: object"
      ]
     },
     "execution_count": 6,
     "metadata": {},
     "output_type": "execute_result"
    }
   ],
   "source": [
    "# data types\n",
    "country.dtypes"
   ]
  },
  {
   "cell_type": "markdown",
   "id": "f3c5b147",
   "metadata": {
    "slideshow": {
     "slide_type": "slide"
    }
   },
   "source": [
    "In this table, we have the following columns:\n",
    "* `dt` (datetime): date (YYYY-MM-DD), observations collected monthly from 1743-11-01 through 2013-09-01\n",
    "* `AverageTemperature` (float): average temperature, recorded in degrees Celsius (°C)\n",
    "* `AverageTemperatureUncertainty` (float): the 95% confidence interval around the average\n",
    "* `Country` (object, string): ... the country\n",
    "\n",
    "At an initial glance, with over half of a million records, we will begin by cleaning the `country` table to see how many NaN values exist and where in the table they fall."
   ]
  },
  {
   "cell_type": "code",
   "execution_count": 7,
   "id": "25de04db",
   "metadata": {
    "scrolled": true,
    "slideshow": {
     "slide_type": "slide"
    }
   },
   "outputs": [
    {
     "data": {
      "text/plain": [
       "dt                                   0\n",
       "AverageTemperature               32651\n",
       "AverageTemperatureUncertainty    31912\n",
       "Country                              0\n",
       "dtype: int64"
      ]
     },
     "execution_count": 7,
     "metadata": {},
     "output_type": "execute_result"
    }
   ],
   "source": [
    "country.isna().sum()"
   ]
  },
  {
   "cell_type": "markdown",
   "id": "1ce97369",
   "metadata": {
    "slideshow": {
     "slide_type": "fragment"
    }
   },
   "source": [
    "We have 32,641 temperature points missing out of 577,462 (~5.5%). We will filter the dataset to include only records from 1880 onward and reassess."
   ]
  },
  {
   "cell_type": "code",
   "execution_count": 8,
   "id": "8f39630b",
   "metadata": {
    "slideshow": {
     "slide_type": "fragment"
    }
   },
   "outputs": [
    {
     "data": {
      "text/plain": [
       "386654"
      ]
     },
     "execution_count": 8,
     "metadata": {},
     "output_type": "execute_result"
    }
   ],
   "source": [
    "# filtered (1880 onwards)\n",
    "country_filt=country[(country['dt']>'1879-12-31')]\n",
    "country_filt.shape[0]"
   ]
  },
  {
   "cell_type": "code",
   "execution_count": 9,
   "id": "bf5835ef",
   "metadata": {
    "slideshow": {
     "slide_type": "fragment"
    }
   },
   "outputs": [
    {
     "data": {
      "text/plain": [
       "dt                                  0\n",
       "AverageTemperature               2658\n",
       "AverageTemperatureUncertainty    1919\n",
       "Country                             0\n",
       "dtype: int64"
      ]
     },
     "execution_count": 9,
     "metadata": {},
     "output_type": "execute_result"
    }
   ],
   "source": [
    "country_filt.isna().sum()"
   ]
  },
  {
   "cell_type": "markdown",
   "id": "9a0a2a0d",
   "metadata": {
    "slideshow": {
     "slide_type": "slide"
    }
   },
   "source": [
    "After filtering by date, we now have 2658 missing temperature records out of 386, 654 in total (< 1%).\n",
    "\n",
    "With this, we can more confidently drop the NaN values that remain."
   ]
  },
  {
   "cell_type": "code",
   "execution_count": 10,
   "id": "58d205e9",
   "metadata": {
    "slideshow": {
     "slide_type": "fragment"
    }
   },
   "outputs": [
    {
     "data": {
      "text/plain": [
       "dt                               0\n",
       "AverageTemperature               0\n",
       "AverageTemperatureUncertainty    0\n",
       "Country                          0\n",
       "dtype: int64"
      ]
     },
     "execution_count": 10,
     "metadata": {},
     "output_type": "execute_result"
    }
   ],
   "source": [
    "# drop NaNs inplace\n",
    "country_filt.dropna(how='any',axis=0, inplace=True)\n",
    "\n",
    "# confirm\n",
    "country_filt.isna().sum()"
   ]
  },
  {
   "cell_type": "code",
   "execution_count": 11,
   "id": "b1ac1013",
   "metadata": {
    "slideshow": {
     "slide_type": "fragment"
    }
   },
   "outputs": [
    {
     "data": {
      "text/html": [
       "<div>\n",
       "<style scoped>\n",
       "    .dataframe tbody tr th:only-of-type {\n",
       "        vertical-align: middle;\n",
       "    }\n",
       "\n",
       "    .dataframe tbody tr th {\n",
       "        vertical-align: top;\n",
       "    }\n",
       "\n",
       "    .dataframe thead th {\n",
       "        text-align: right;\n",
       "    }\n",
       "</style>\n",
       "<table border=\"1\" class=\"dataframe\">\n",
       "  <thead>\n",
       "    <tr style=\"text-align: right;\">\n",
       "      <th></th>\n",
       "      <th>dt</th>\n",
       "      <th>AverageTemperature</th>\n",
       "      <th>AverageTemperatureUncertainty</th>\n",
       "      <th>Country</th>\n",
       "    </tr>\n",
       "  </thead>\n",
       "  <tbody>\n",
       "    <tr>\n",
       "      <th>1634</th>\n",
       "      <td>1880-01-01</td>\n",
       "      <td>-1.928</td>\n",
       "      <td>1.186</td>\n",
       "      <td>Åland</td>\n",
       "    </tr>\n",
       "    <tr>\n",
       "      <th>1635</th>\n",
       "      <td>1880-02-01</td>\n",
       "      <td>-0.920</td>\n",
       "      <td>0.927</td>\n",
       "      <td>Åland</td>\n",
       "    </tr>\n",
       "    <tr>\n",
       "      <th>1636</th>\n",
       "      <td>1880-03-01</td>\n",
       "      <td>-0.838</td>\n",
       "      <td>0.671</td>\n",
       "      <td>Åland</td>\n",
       "    </tr>\n",
       "    <tr>\n",
       "      <th>1637</th>\n",
       "      <td>1880-04-01</td>\n",
       "      <td>2.111</td>\n",
       "      <td>0.514</td>\n",
       "      <td>Åland</td>\n",
       "    </tr>\n",
       "    <tr>\n",
       "      <th>1638</th>\n",
       "      <td>1880-05-01</td>\n",
       "      <td>6.393</td>\n",
       "      <td>0.727</td>\n",
       "      <td>Åland</td>\n",
       "    </tr>\n",
       "  </tbody>\n",
       "</table>\n",
       "</div>"
      ],
      "text/plain": [
       "             dt  AverageTemperature  AverageTemperatureUncertainty Country\n",
       "1634 1880-01-01              -1.928                          1.186   Åland\n",
       "1635 1880-02-01              -0.920                          0.927   Åland\n",
       "1636 1880-03-01              -0.838                          0.671   Åland\n",
       "1637 1880-04-01               2.111                          0.514   Åland\n",
       "1638 1880-05-01               6.393                          0.727   Åland"
      ]
     },
     "execution_count": 11,
     "metadata": {},
     "output_type": "execute_result"
    }
   ],
   "source": [
    "# the head of the working table\n",
    "country_filt.head()"
   ]
  },
  {
   "cell_type": "code",
   "execution_count": 12,
   "id": "33556da7",
   "metadata": {
    "scrolled": true,
    "slideshow": {
     "slide_type": "fragment"
    }
   },
   "outputs": [
    {
     "data": {
      "text/plain": [
       "383996"
      ]
     },
     "execution_count": 12,
     "metadata": {},
     "output_type": "execute_result"
    }
   ],
   "source": [
    "# total remaining records\n",
    "country_filt.shape[0]"
   ]
  },
  {
   "cell_type": "markdown",
   "id": "bbf8c242",
   "metadata": {
    "slideshow": {
     "slide_type": "slide"
    }
   },
   "source": [
    "We will now take a look at the number of distinct `Country` entries in this table, primarily to ensure there are no duplicates but also to get a sense of how global this dataset really is."
   ]
  },
  {
   "cell_type": "code",
   "execution_count": 13,
   "id": "f4283cc0",
   "metadata": {
    "scrolled": true,
    "slideshow": {
     "slide_type": "fragment"
    }
   },
   "outputs": [
    {
     "name": "stdout",
     "output_type": "stream",
     "text": [
      "['Afghanistan' 'Africa' 'Albania' 'Algeria' 'American Samoa' 'Andorra'\n",
      " 'Angola' 'Anguilla' 'Antigua And Barbuda' 'Argentina' 'Armenia' 'Aruba'\n",
      " 'Asia' 'Australia' 'Austria' 'Azerbaijan' 'Bahamas' 'Bahrain'\n",
      " 'Baker Island' 'Bangladesh' 'Barbados' 'Belarus' 'Belgium' 'Belize'\n",
      " 'Benin' 'Bhutan' 'Bolivia' 'Bonaire, Saint Eustatius And Saba'\n",
      " 'Bosnia And Herzegovina' 'Botswana' 'Brazil' 'British Virgin Islands'\n",
      " 'Bulgaria' 'Burkina Faso' 'Burma' 'Burundi' 'Cambodia' 'Cameroon'\n",
      " 'Canada' 'Cape Verde' 'Cayman Islands' 'Central African Republic' 'Chad'\n",
      " 'Chile' 'China' 'Christmas Island' 'Colombia' 'Comoros' 'Congo'\n",
      " 'Congo (Democratic Republic Of The)' 'Costa Rica' 'Croatia' 'Cuba'\n",
      " 'Curaçao' 'Cyprus' 'Czech Republic' \"Côte D'Ivoire\" 'Denmark'\n",
      " 'Denmark (Europe)' 'Djibouti' 'Dominica' 'Dominican Republic' 'Ecuador'\n",
      " 'Egypt' 'El Salvador' 'Equatorial Guinea' 'Eritrea' 'Estonia' 'Ethiopia'\n",
      " 'Europe' 'Falkland Islands (Islas Malvinas)' 'Faroe Islands'\n",
      " 'Federated States Of Micronesia' 'Fiji' 'Finland' 'France'\n",
      " 'France (Europe)' 'French Guiana' 'French Polynesia'\n",
      " 'French Southern And Antarctic Lands' 'Gabon' 'Gambia' 'Gaza Strip'\n",
      " 'Georgia' 'Germany' 'Ghana' 'Greece' 'Greenland' 'Grenada' 'Guadeloupe'\n",
      " 'Guam' 'Guatemala' 'Guernsey' 'Guinea' 'Guinea Bissau' 'Guyana' 'Haiti'\n",
      " 'Heard Island And Mcdonald Islands' 'Honduras' 'Hong Kong' 'Hungary'\n",
      " 'Iceland' 'India' 'Indonesia' 'Iran' 'Iraq' 'Ireland' 'Isle Of Man'\n",
      " 'Israel' 'Italy' 'Jamaica' 'Japan' 'Jersey' 'Jordan' 'Kazakhstan' 'Kenya'\n",
      " 'Kingman Reef' 'Kiribati' 'Kuwait' 'Kyrgyzstan' 'Laos' 'Latvia' 'Lebanon'\n",
      " 'Lesotho' 'Liberia' 'Libya' 'Liechtenstein' 'Lithuania' 'Luxembourg'\n",
      " 'Macau' 'Macedonia' 'Madagascar' 'Malawi' 'Malaysia' 'Mali' 'Malta'\n",
      " 'Martinique' 'Mauritania' 'Mauritius' 'Mayotte' 'Mexico' 'Moldova'\n",
      " 'Monaco' 'Mongolia' 'Montenegro' 'Montserrat' 'Morocco' 'Mozambique'\n",
      " 'Namibia' 'Nepal' 'Netherlands' 'Netherlands (Europe)' 'New Caledonia'\n",
      " 'New Zealand' 'Nicaragua' 'Niger' 'Nigeria' 'Niue' 'North America'\n",
      " 'North Korea' 'Northern Mariana Islands' 'Norway' 'Oceania' 'Oman'\n",
      " 'Pakistan' 'Palau' 'Palestina' 'Palmyra Atoll' 'Panama'\n",
      " 'Papua New Guinea' 'Paraguay' 'Peru' 'Philippines' 'Poland' 'Portugal'\n",
      " 'Puerto Rico' 'Qatar' 'Reunion' 'Romania' 'Russia' 'Rwanda'\n",
      " 'Saint Barthélemy' 'Saint Kitts And Nevis' 'Saint Lucia' 'Saint Martin'\n",
      " 'Saint Pierre And Miquelon' 'Saint Vincent And The Grenadines' 'Samoa'\n",
      " 'San Marino' 'Sao Tome And Principe' 'Saudi Arabia' 'Senegal' 'Serbia'\n",
      " 'Seychelles' 'Sierra Leone' 'Singapore' 'Sint Maarten' 'Slovakia'\n",
      " 'Slovenia' 'Solomon Islands' 'Somalia' 'South Africa' 'South America'\n",
      " 'South Georgia And The South Sandwich Isla' 'South Korea' 'Spain'\n",
      " 'Sri Lanka' 'Sudan' 'Suriname' 'Svalbard And Jan Mayen' 'Swaziland'\n",
      " 'Sweden' 'Switzerland' 'Syria' 'Taiwan' 'Tajikistan' 'Tanzania'\n",
      " 'Thailand' 'Timor Leste' 'Togo' 'Tonga' 'Trinidad And Tobago' 'Tunisia'\n",
      " 'Turkey' 'Turkmenistan' 'Turks And Caicas Islands' 'Uganda' 'Ukraine'\n",
      " 'United Arab Emirates' 'United Kingdom' 'United Kingdom (Europe)'\n",
      " 'United States' 'Uruguay' 'Uzbekistan' 'Venezuela' 'Vietnam'\n",
      " 'Virgin Islands' 'Western Sahara' 'Yemen' 'Zambia' 'Zimbabwe' 'Åland']\n"
     ]
    }
   ],
   "source": [
    "# unique countries in dataset, sorted\n",
    "unique_countries=pd.unique(country_filt['Country'])\n",
    "unique_countries.sort()\n",
    "print(unique_countries)"
   ]
  },
  {
   "cell_type": "markdown",
   "id": "e2e95b00",
   "metadata": {
    "slideshow": {
     "slide_type": "subslide"
    }
   },
   "source": [
    "We can see in the list above that there are continent (c) entries as well as some *apparent* duplicates (d) of countries.\n",
    "\n",
    "* **Continents/regions**:\n",
    "    * `Africa` (c),\n",
    "    * `Asia` (c),\n",
    "    * `Denmark (Europe)` (d),\n",
    "    * `Europe` (c),\n",
    "    * `France (Europe)` (d),\n",
    "    * `Netherlands (Europe)` (d),\n",
    "    * `North America` (c),\n",
    "    * `Oceania` (c),\n",
    "    * `South America` (c),\n",
    "    * `United Kingdom (Europe) (d)`\n",
    "\n",
    "After doing some digging, the Berkeley Earth data page shows that `France (Europe)` refers to mainland France while `France` refers to mainland France **and** any overseas French colonies/territories (e.g., Réunion in Africa, New Caledonia in Oceania, Suriname in South America).\n",
    "\n",
    "In other words, it turns out, in fact, that **these are not duplicates**.\n",
    "\n",
    "Since this analysis will focus on the geographical implications of change in average temperature (not to mention that all three of the aforementioned examples are also included as unique countries), we will keep any of the entries listed as `NAME (Europe)` and drop any of the singular `NAME` countries. Additionally, we will drop any of the `Country` names that are, in fact, entire continents, as this is too large an area to consider for the purposes of our analysis."
   ]
  },
  {
   "cell_type": "markdown",
   "id": "efa522b8",
   "metadata": {
    "slideshow": {
     "slide_type": "subslide"
    }
   },
   "source": [
    "Other noticings:\n",
    "* **Naming** (not concerning, just good to know alternative names/spelling):\n",
    "    * `Palestina` (alt. naming),\n",
    "    * `South Georgia And The South Sandwich Isla` (name cut off),\n",
    "    * `Turks And Caicas Islands`, (alt. spelling)"
   ]
  },
  {
   "cell_type": "code",
   "execution_count": 14,
   "id": "90dff64b",
   "metadata": {
    "slideshow": {
     "slide_type": "subslide"
    }
   },
   "outputs": [],
   "source": [
    "# dropping continent records and \"colony\" labels\n",
    "country_filt_clean=country_filt[~country_filt['Country'].isin(['Africa',\n",
    "                                                                 'Asia',\n",
    "                                                                 'Denmark',\n",
    "                                                                 'France',\n",
    "                                                                 'Netherlands',\n",
    "                                                                 'North America',\n",
    "                                                                 'Oceania',\n",
    "                                                                 'South America',\n",
    "                                                                 'United Kingdom'\n",
    "                                                                ])]\n",
    "\n",
    "# replacing `NAME (Europe)` in favour of `NAME` records\n",
    "country_filt_clean=country_filt_clean.replace(['Denmark (Europe)',\n",
    "                                                 'France (Europe)',\n",
    "                                                 'Netherlands (Europe)',\n",
    "                                                 'United Kingdom (Europe)'],\n",
    "                                                ['Denmark',\n",
    "                                                 'France',\n",
    "                                                 'Netherlands',\n",
    "                                                 'United Kingdom'\n",
    "                                                ])"
   ]
  },
  {
   "cell_type": "code",
   "execution_count": 15,
   "id": "928a6b86",
   "metadata": {
    "scrolled": true,
    "slideshow": {
     "slide_type": "subslide"
    }
   },
   "outputs": [
    {
     "data": {
      "text/html": [
       "<div>\n",
       "<style scoped>\n",
       "    .dataframe tbody tr th:only-of-type {\n",
       "        vertical-align: middle;\n",
       "    }\n",
       "\n",
       "    .dataframe tbody tr th {\n",
       "        vertical-align: top;\n",
       "    }\n",
       "\n",
       "    .dataframe thead th {\n",
       "        text-align: right;\n",
       "    }\n",
       "</style>\n",
       "<table border=\"1\" class=\"dataframe\">\n",
       "  <thead>\n",
       "    <tr style=\"text-align: right;\">\n",
       "      <th></th>\n",
       "      <th>dt</th>\n",
       "      <th>AverageTemperature</th>\n",
       "      <th>AverageTemperatureUncertainty</th>\n",
       "      <th>Country</th>\n",
       "    </tr>\n",
       "  </thead>\n",
       "  <tbody>\n",
       "    <tr>\n",
       "      <th>1634</th>\n",
       "      <td>1880-01-01</td>\n",
       "      <td>-1.928</td>\n",
       "      <td>1.186</td>\n",
       "      <td>Åland</td>\n",
       "    </tr>\n",
       "    <tr>\n",
       "      <th>1635</th>\n",
       "      <td>1880-02-01</td>\n",
       "      <td>-0.920</td>\n",
       "      <td>0.927</td>\n",
       "      <td>Åland</td>\n",
       "    </tr>\n",
       "    <tr>\n",
       "      <th>1636</th>\n",
       "      <td>1880-03-01</td>\n",
       "      <td>-0.838</td>\n",
       "      <td>0.671</td>\n",
       "      <td>Åland</td>\n",
       "    </tr>\n",
       "    <tr>\n",
       "      <th>1637</th>\n",
       "      <td>1880-04-01</td>\n",
       "      <td>2.111</td>\n",
       "      <td>0.514</td>\n",
       "      <td>Åland</td>\n",
       "    </tr>\n",
       "    <tr>\n",
       "      <th>1638</th>\n",
       "      <td>1880-05-01</td>\n",
       "      <td>6.393</td>\n",
       "      <td>0.727</td>\n",
       "      <td>Åland</td>\n",
       "    </tr>\n",
       "  </tbody>\n",
       "</table>\n",
       "</div>"
      ],
      "text/plain": [
       "             dt  AverageTemperature  AverageTemperatureUncertainty Country\n",
       "1634 1880-01-01              -1.928                          1.186   Åland\n",
       "1635 1880-02-01              -0.920                          0.927   Åland\n",
       "1636 1880-03-01              -0.838                          0.671   Åland\n",
       "1637 1880-04-01               2.111                          0.514   Åland\n",
       "1638 1880-05-01               6.393                          0.727   Åland"
      ]
     },
     "execution_count": 15,
     "metadata": {},
     "output_type": "execute_result"
    }
   ],
   "source": [
    "# looking at the cleaned country table\n",
    "country_filt_clean.head()"
   ]
  },
  {
   "cell_type": "code",
   "execution_count": 16,
   "id": "03b4065d",
   "metadata": {
    "slideshow": {
     "slide_type": "fragment"
    }
   },
   "outputs": [
    {
     "name": "stdout",
     "output_type": "stream",
     "text": [
      "In the 'AvgTempsbyCountry' table, there are 369559 records amongst 233 unique countries.\n"
     ]
    }
   ],
   "source": [
    "# number of records in country table\n",
    "print(f\"In the 'AvgTempsbyCountry' table, there are {country_filt_clean.shape[0]} records amongst {country_filt_clean['Country'].nunique()} unique countries.\")"
   ]
  },
  {
   "cell_type": "code",
   "execution_count": 17,
   "id": "98610f97",
   "metadata": {
    "scrolled": false,
    "slideshow": {
     "slide_type": "slide"
    }
   },
   "outputs": [
    {
     "data": {
      "text/plain": [
       "Text(0, 0.5, 'Count')"
      ]
     },
     "execution_count": 17,
     "metadata": {},
     "output_type": "execute_result"
    },
    {
     "data": {
      "image/png": "[encoded data removed]",
      "text/plain": [
       "<Figure size 1152x432 with 1 Axes>"
      ]
     },
     "metadata": {},
     "output_type": "display_data"
    }
   ],
   "source": [
    "# distribution of ALL temperatures in filtered dataframe\n",
    "sns.set(rc = {'figure.figsize':(16,6)})\n",
    "ax = sns.histplot(country_filt_clean, x='AverageTemperature', binwidth=0.5, color='xkcd:sage', kde=True, legend=False)\n",
    "ax.set_title('Distribution of Average Temperatures (Amongst Countries)')\n",
    "ax.set_xlabel('Average Temperature (°C)')\n",
    "ax.set_ylabel('Count')"
   ]
  },
  {
   "cell_type": "markdown",
   "id": "e82112ac",
   "metadata": {
    "slideshow": {
     "slide_type": "slide"
    }
   },
   "source": [
    "For continuity, we will perform the same degree of \"filtering\" (i.e., from 1880 onward) with the `city` table."
   ]
  },
  {
   "cell_type": "code",
   "execution_count": 18,
   "id": "c5d83a11",
   "metadata": {
    "scrolled": false,
    "slideshow": {
     "slide_type": "fragment"
    }
   },
   "outputs": [
    {
     "data": {
      "text/html": [
       "<div>\n",
       "<style scoped>\n",
       "    .dataframe tbody tr th:only-of-type {\n",
       "        vertical-align: middle;\n",
       "    }\n",
       "\n",
       "    .dataframe tbody tr th {\n",
       "        vertical-align: top;\n",
       "    }\n",
       "\n",
       "    .dataframe thead th {\n",
       "        text-align: right;\n",
       "    }\n",
       "</style>\n",
       "<table border=\"1\" class=\"dataframe\">\n",
       "  <thead>\n",
       "    <tr style=\"text-align: right;\">\n",
       "      <th></th>\n",
       "      <th>dt</th>\n",
       "      <th>AverageTemperature</th>\n",
       "      <th>AverageTemperatureUncertainty</th>\n",
       "      <th>City</th>\n",
       "      <th>Country</th>\n",
       "      <th>Latitude</th>\n",
       "      <th>Longitude</th>\n",
       "    </tr>\n",
       "  </thead>\n",
       "  <tbody>\n",
       "    <tr>\n",
       "      <th>0</th>\n",
       "      <td>1743-11-01</td>\n",
       "      <td>6.068</td>\n",
       "      <td>1.737</td>\n",
       "      <td>Århus</td>\n",
       "      <td>Denmark</td>\n",
       "      <td>57.05N</td>\n",
       "      <td>10.33E</td>\n",
       "    </tr>\n",
       "    <tr>\n",
       "      <th>1</th>\n",
       "      <td>1743-12-01</td>\n",
       "      <td>NaN</td>\n",
       "      <td>NaN</td>\n",
       "      <td>Århus</td>\n",
       "      <td>Denmark</td>\n",
       "      <td>57.05N</td>\n",
       "      <td>10.33E</td>\n",
       "    </tr>\n",
       "    <tr>\n",
       "      <th>2</th>\n",
       "      <td>1744-01-01</td>\n",
       "      <td>NaN</td>\n",
       "      <td>NaN</td>\n",
       "      <td>Århus</td>\n",
       "      <td>Denmark</td>\n",
       "      <td>57.05N</td>\n",
       "      <td>10.33E</td>\n",
       "    </tr>\n",
       "    <tr>\n",
       "      <th>3</th>\n",
       "      <td>1744-02-01</td>\n",
       "      <td>NaN</td>\n",
       "      <td>NaN</td>\n",
       "      <td>Århus</td>\n",
       "      <td>Denmark</td>\n",
       "      <td>57.05N</td>\n",
       "      <td>10.33E</td>\n",
       "    </tr>\n",
       "    <tr>\n",
       "      <th>4</th>\n",
       "      <td>1744-03-01</td>\n",
       "      <td>NaN</td>\n",
       "      <td>NaN</td>\n",
       "      <td>Århus</td>\n",
       "      <td>Denmark</td>\n",
       "      <td>57.05N</td>\n",
       "      <td>10.33E</td>\n",
       "    </tr>\n",
       "  </tbody>\n",
       "</table>\n",
       "</div>"
      ],
      "text/plain": [
       "          dt  AverageTemperature  AverageTemperatureUncertainty   City  \\\n",
       "0 1743-11-01               6.068                          1.737  Århus   \n",
       "1 1743-12-01                 NaN                            NaN  Århus   \n",
       "2 1744-01-01                 NaN                            NaN  Århus   \n",
       "3 1744-02-01                 NaN                            NaN  Århus   \n",
       "4 1744-03-01                 NaN                            NaN  Århus   \n",
       "\n",
       "   Country Latitude Longitude  \n",
       "0  Denmark   57.05N    10.33E  \n",
       "1  Denmark   57.05N    10.33E  \n",
       "2  Denmark   57.05N    10.33E  \n",
       "3  Denmark   57.05N    10.33E  \n",
       "4  Denmark   57.05N    10.33E  "
      ]
     },
     "execution_count": 18,
     "metadata": {},
     "output_type": "execute_result"
    }
   ],
   "source": [
    "city.head()"
   ]
  },
  {
   "cell_type": "code",
   "execution_count": 19,
   "id": "77f58760",
   "metadata": {
    "slideshow": {
     "slide_type": "fragment"
    }
   },
   "outputs": [
    {
     "data": {
      "text/plain": [
       "8599212"
      ]
     },
     "execution_count": 19,
     "metadata": {},
     "output_type": "execute_result"
    }
   ],
   "source": [
    "city.shape[0]"
   ]
  },
  {
   "cell_type": "code",
   "execution_count": 20,
   "id": "501c8eee",
   "metadata": {
    "scrolled": true,
    "slideshow": {
     "slide_type": "fragment"
    }
   },
   "outputs": [
    {
     "data": {
      "text/plain": [
       "dt                               datetime64[ns]\n",
       "AverageTemperature                      float64\n",
       "AverageTemperatureUncertainty           float64\n",
       "City                                     object\n",
       "Country                                  object\n",
       "Latitude                                 object\n",
       "Longitude                                object\n",
       "dtype: object"
      ]
     },
     "execution_count": 20,
     "metadata": {},
     "output_type": "execute_result"
    }
   ],
   "source": [
    "# data types\n",
    "city.dtypes"
   ]
  },
  {
   "cell_type": "markdown",
   "id": "03e7c897",
   "metadata": {
    "slideshow": {
     "slide_type": "slide"
    }
   },
   "source": [
    "In this table, we have the following columns:\n",
    "* `dt` (datetime): date (YYYY-MM-DD), observations collected monthly from 1743-11-01 through 2013-09-01\n",
    "* `AverageTemperature` (float): average temperature, recorded in degrees Celsius\n",
    "* `AverageTemperatureUncertainty` (float): the 95% confidence interval around the average\n",
    "* `City` (object, string): city name\n",
    "* `Country` (object, string): country name\n",
    "* `Latitude` (object, string): geo-coordinates, latitude (might need to be cleaned if used)\n",
    "* `Longitude` (object, string): geo-coordinates, longitude (might need to be cleaned if used)\n",
    "\n",
    "Similarly, now with over 8.5 million records, we will begin by cleaning the `city` table to see how many NaN values exist and where in the table they fall."
   ]
  },
  {
   "cell_type": "code",
   "execution_count": 21,
   "id": "14f09d75",
   "metadata": {
    "scrolled": true,
    "slideshow": {
     "slide_type": "subslide"
    }
   },
   "outputs": [
    {
     "data": {
      "text/plain": [
       "dt                                    0\n",
       "AverageTemperature               364130\n",
       "AverageTemperatureUncertainty    364130\n",
       "City                                  0\n",
       "Country                               0\n",
       "Latitude                              0\n",
       "Longitude                             0\n",
       "dtype: int64"
      ]
     },
     "execution_count": 21,
     "metadata": {},
     "output_type": "execute_result"
    }
   ],
   "source": [
    "# checking for NaNs (count by column)\n",
    "city.isna().sum()"
   ]
  },
  {
   "cell_type": "code",
   "execution_count": 22,
   "id": "d140e656",
   "metadata": {
    "slideshow": {
     "slide_type": "fragment"
    }
   },
   "outputs": [
    {
     "data": {
      "text/plain": [
       "5633253"
      ]
     },
     "execution_count": 22,
     "metadata": {},
     "output_type": "execute_result"
    }
   ],
   "source": [
    "# filtered by date (1880 onwards)\n",
    "city_filt=city[(city['dt']>'1879-12-31')]\n",
    "city_filt.shape[0]"
   ]
  },
  {
   "cell_type": "code",
   "execution_count": 23,
   "id": "1f9ea02a",
   "metadata": {
    "scrolled": true,
    "slideshow": {
     "slide_type": "fragment"
    }
   },
   "outputs": [
    {
     "data": {
      "text/plain": [
       "dt                                   0\n",
       "AverageTemperature               10780\n",
       "AverageTemperatureUncertainty    10780\n",
       "City                                 0\n",
       "Country                              0\n",
       "Latitude                             0\n",
       "Longitude                            0\n",
       "dtype: int64"
      ]
     },
     "execution_count": 23,
     "metadata": {},
     "output_type": "execute_result"
    }
   ],
   "source": [
    "city_filt.isna().sum()"
   ]
  },
  {
   "cell_type": "markdown",
   "id": "facb2f9a",
   "metadata": {
    "slideshow": {
     "slide_type": "subslide"
    }
   },
   "source": [
    "After filtering by date, we now have 10,780 missing temperature records out of 5,633,253 in total (again, < 1%).\n",
    "\n",
    "Again, now we can more confidently drop the NaN values that remain."
   ]
  },
  {
   "cell_type": "code",
   "execution_count": 24,
   "id": "cb49cfad",
   "metadata": {
    "slideshow": {
     "slide_type": "fragment"
    }
   },
   "outputs": [
    {
     "data": {
      "text/plain": [
       "dt                               0\n",
       "AverageTemperature               0\n",
       "AverageTemperatureUncertainty    0\n",
       "City                             0\n",
       "Country                          0\n",
       "Latitude                         0\n",
       "Longitude                        0\n",
       "dtype: int64"
      ]
     },
     "execution_count": 24,
     "metadata": {},
     "output_type": "execute_result"
    }
   ],
   "source": [
    "# drop NaNs inplace\n",
    "city_filt.dropna(how='any',axis=0, inplace=True)\n",
    "\n",
    "# confirm\n",
    "city_filt.isna().sum()"
   ]
  },
  {
   "cell_type": "code",
   "execution_count": 25,
   "id": "0ea85a9d",
   "metadata": {
    "scrolled": true,
    "slideshow": {
     "slide_type": "fragment"
    }
   },
   "outputs": [
    {
     "data": {
      "text/html": [
       "<div>\n",
       "<style scoped>\n",
       "    .dataframe tbody tr th:only-of-type {\n",
       "        vertical-align: middle;\n",
       "    }\n",
       "\n",
       "    .dataframe tbody tr th {\n",
       "        vertical-align: top;\n",
       "    }\n",
       "\n",
       "    .dataframe thead th {\n",
       "        text-align: right;\n",
       "    }\n",
       "</style>\n",
       "<table border=\"1\" class=\"dataframe\">\n",
       "  <thead>\n",
       "    <tr style=\"text-align: right;\">\n",
       "      <th></th>\n",
       "      <th>dt</th>\n",
       "      <th>AverageTemperature</th>\n",
       "      <th>AverageTemperatureUncertainty</th>\n",
       "      <th>City</th>\n",
       "      <th>Country</th>\n",
       "      <th>Latitude</th>\n",
       "      <th>Longitude</th>\n",
       "    </tr>\n",
       "  </thead>\n",
       "  <tbody>\n",
       "    <tr>\n",
       "      <th>1634</th>\n",
       "      <td>1880-01-01</td>\n",
       "      <td>-0.356</td>\n",
       "      <td>1.029</td>\n",
       "      <td>Århus</td>\n",
       "      <td>Denmark</td>\n",
       "      <td>57.05N</td>\n",
       "      <td>10.33E</td>\n",
       "    </tr>\n",
       "    <tr>\n",
       "      <th>1635</th>\n",
       "      <td>1880-02-01</td>\n",
       "      <td>1.503</td>\n",
       "      <td>0.290</td>\n",
       "      <td>Århus</td>\n",
       "      <td>Denmark</td>\n",
       "      <td>57.05N</td>\n",
       "      <td>10.33E</td>\n",
       "    </tr>\n",
       "    <tr>\n",
       "      <th>1636</th>\n",
       "      <td>1880-03-01</td>\n",
       "      <td>2.730</td>\n",
       "      <td>0.565</td>\n",
       "      <td>Århus</td>\n",
       "      <td>Denmark</td>\n",
       "      <td>57.05N</td>\n",
       "      <td>10.33E</td>\n",
       "    </tr>\n",
       "    <tr>\n",
       "      <th>1637</th>\n",
       "      <td>1880-04-01</td>\n",
       "      <td>6.505</td>\n",
       "      <td>0.411</td>\n",
       "      <td>Århus</td>\n",
       "      <td>Denmark</td>\n",
       "      <td>57.05N</td>\n",
       "      <td>10.33E</td>\n",
       "    </tr>\n",
       "    <tr>\n",
       "      <th>1638</th>\n",
       "      <td>1880-05-01</td>\n",
       "      <td>10.334</td>\n",
       "      <td>0.632</td>\n",
       "      <td>Århus</td>\n",
       "      <td>Denmark</td>\n",
       "      <td>57.05N</td>\n",
       "      <td>10.33E</td>\n",
       "    </tr>\n",
       "  </tbody>\n",
       "</table>\n",
       "</div>"
      ],
      "text/plain": [
       "             dt  AverageTemperature  AverageTemperatureUncertainty   City  \\\n",
       "1634 1880-01-01              -0.356                          1.029  Århus   \n",
       "1635 1880-02-01               1.503                          0.290  Århus   \n",
       "1636 1880-03-01               2.730                          0.565  Århus   \n",
       "1637 1880-04-01               6.505                          0.411  Århus   \n",
       "1638 1880-05-01              10.334                          0.632  Århus   \n",
       "\n",
       "      Country Latitude Longitude  \n",
       "1634  Denmark   57.05N    10.33E  \n",
       "1635  Denmark   57.05N    10.33E  \n",
       "1636  Denmark   57.05N    10.33E  \n",
       "1637  Denmark   57.05N    10.33E  \n",
       "1638  Denmark   57.05N    10.33E  "
      ]
     },
     "execution_count": 25,
     "metadata": {},
     "output_type": "execute_result"
    }
   ],
   "source": [
    "# the head of the working table\n",
    "city_filt.head()"
   ]
  },
  {
   "cell_type": "markdown",
   "id": "5a7605e3",
   "metadata": {
    "slideshow": {
     "slide_type": "slide"
    }
   },
   "source": [
    "We will now look at the countries that are represented in the `city` table."
   ]
  },
  {
   "cell_type": "code",
   "execution_count": 26,
   "id": "bcb9e115",
   "metadata": {
    "scrolled": true,
    "slideshow": {
     "slide_type": "fragment"
    }
   },
   "outputs": [
    {
     "name": "stdout",
     "output_type": "stream",
     "text": [
      "['Afghanistan' 'Albania' 'Algeria' 'Angola' 'Argentina' 'Armenia'\n",
      " 'Australia' 'Austria' 'Azerbaijan' 'Bahamas' 'Bahrain' 'Bangladesh'\n",
      " 'Belarus' 'Belgium' 'Benin' 'Bolivia' 'Bosnia And Herzegovina' 'Botswana'\n",
      " 'Brazil' 'Bulgaria' 'Burkina Faso' 'Burma' 'Burundi' 'Cambodia'\n",
      " 'Cameroon' 'Canada' 'Central African Republic' 'Chad' 'Chile' 'China'\n",
      " 'Colombia' 'Congo' 'Congo (Democratic Republic Of The)' 'Costa Rica'\n",
      " 'Croatia' 'Cuba' 'Cyprus' 'Czech Republic' \"Côte D'Ivoire\" 'Denmark'\n",
      " 'Djibouti' 'Dominican Republic' 'Ecuador' 'Egypt' 'El Salvador'\n",
      " 'Equatorial Guinea' 'Eritrea' 'Estonia' 'Ethiopia' 'Finland' 'France'\n",
      " 'Gabon' 'Gambia' 'Georgia' 'Germany' 'Ghana' 'Greece' 'Guatemala'\n",
      " 'Guinea' 'Guinea Bissau' 'Guyana' 'Haiti' 'Honduras' 'Hong Kong'\n",
      " 'Hungary' 'Iceland' 'India' 'Indonesia' 'Iran' 'Iraq' 'Ireland' 'Israel'\n",
      " 'Italy' 'Jamaica' 'Japan' 'Jordan' 'Kazakhstan' 'Kenya' 'Laos' 'Latvia'\n",
      " 'Lebanon' 'Lesotho' 'Liberia' 'Libya' 'Lithuania' 'Macedonia'\n",
      " 'Madagascar' 'Malawi' 'Malaysia' 'Mali' 'Mauritania' 'Mauritius' 'Mexico'\n",
      " 'Moldova' 'Mongolia' 'Montenegro' 'Morocco' 'Mozambique' 'Namibia'\n",
      " 'Nepal' 'Netherlands' 'New Zealand' 'Nicaragua' 'Niger' 'Nigeria'\n",
      " 'Norway' 'Oman' 'Pakistan' 'Panama' 'Papua New Guinea' 'Paraguay' 'Peru'\n",
      " 'Philippines' 'Poland' 'Portugal' 'Puerto Rico' 'Qatar' 'Reunion'\n",
      " 'Romania' 'Russia' 'Rwanda' 'Saudi Arabia' 'Senegal' 'Serbia'\n",
      " 'Sierra Leone' 'Singapore' 'Slovakia' 'Slovenia' 'Somalia' 'South Africa'\n",
      " 'South Korea' 'Spain' 'Sri Lanka' 'Sudan' 'Suriname' 'Swaziland' 'Sweden'\n",
      " 'Switzerland' 'Syria' 'Taiwan' 'Tajikistan' 'Tanzania' 'Thailand' 'Togo'\n",
      " 'Tunisia' 'Turkey' 'Turkmenistan' 'Uganda' 'Ukraine'\n",
      " 'United Arab Emirates' 'United Kingdom' 'United States' 'Uruguay'\n",
      " 'Uzbekistan' 'Venezuela' 'Vietnam' 'Yemen' 'Zambia' 'Zimbabwe']\n"
     ]
    }
   ],
   "source": [
    "# unique countries in dataset, sorted\n",
    "unique_countries = pd.unique(city_filt['Country'])\n",
    "unique_countries.sort()\n",
    "print(unique_countries)"
   ]
  },
  {
   "cell_type": "markdown",
   "id": "11a47e53",
   "metadata": {
    "slideshow": {
     "slide_type": "fragment"
    }
   },
   "source": [
    "We don't seem to have the same problem with naming of countries in the `city` table as we did with the `country` table, which is great."
   ]
  },
  {
   "cell_type": "code",
   "execution_count": null,
   "id": "fc7b1866",
   "metadata": {
    "scrolled": true,
    "slideshow": {
     "slide_type": "fragment"
    }
   },
   "outputs": [],
   "source": [
    "#remaining records\n",
    "print(f\"In the 'AvgTempsbyCity' table, there are {city_filt.shape[0]} records amongst {city_filt['City'].nunique()} unique cities across {city_filt['Country'].nunique()} unique countries.\")"
   ]
  },
  {
   "cell_type": "code",
   "execution_count": null,
   "id": "2c57f1a3",
   "metadata": {
    "scrolled": false,
    "slideshow": {
     "slide_type": "slide"
    }
   },
   "outputs": [],
   "source": [
    "# identifying each unique city by its hemispheres (via lat/long)\n",
    "city_filt['cardinal_NS'] = city_filt['Latitude'].str[-1:]\n",
    "city_filt['cardinal_WE'] = city_filt['Longitude'].str[-1:]\n",
    "city_filt['hemisphere'] = city_filt['cardinal_NS'] + city_filt['cardinal_WE']\n",
    "city_filt.head()"
   ]
  },
  {
   "cell_type": "markdown",
   "id": "1894a915",
   "metadata": {
    "slideshow": {
     "slide_type": "fragment"
    }
   },
   "source": [
    "[Back to TOC](#TOC)"
   ]
  },
  {
   "cell_type": "markdown",
   "id": "264fd34f",
   "metadata": {
    "slideshow": {
     "slide_type": "slide"
    }
   },
   "source": [
    "**** \n",
    "<a id='EDA'></a>\n",
    "### 3. [Exploratory Data Analysis (EDA)](#EDA)\n",
    "\n",
    "Now that we have cleaned up and filtered both tables, we will look at the extremes of temperature records, in addition to the spread of average temperatures (across all years) across the globe."
   ]
  },
  {
   "cell_type": "code",
   "execution_count": null,
   "id": "24cbe2f9",
   "metadata": {
    "scrolled": true,
    "slideshow": {
     "slide_type": "subslide"
    }
   },
   "outputs": [],
   "source": [
    "country_filt_clean.describe().T"
   ]
  },
  {
   "cell_type": "markdown",
   "id": "38bf3a34",
   "metadata": {
    "slideshow": {
     "slide_type": "fragment"
    }
   },
   "source": [
    "With the quick summary above, we can see that, within the truncated (123-year) dataset, we have:\n",
    "* 369,559 records in total,\n",
    "* a minimum average temperature of -37.177°C 🥶,\n",
    "* a maximum average temperature of 38.842°C 🥵,\n",
    "* a resulting range of nearly 80°C (76.019°C, exactly) across all countries.\n",
    "\n",
    "Now, our breakdown by hemisphere..."
   ]
  },
  {
   "cell_type": "code",
   "execution_count": null,
   "id": "0325234c",
   "metadata": {
    "scrolled": false,
    "slideshow": {
     "slide_type": "subslide"
    }
   },
   "outputs": [],
   "source": [
    "hemi_df = city_filt.groupby('hemisphere')\n",
    "hemi_df = hemi_df.agg({'Country': 'nunique'})\n",
    "hemi_df = hemi_df.reset_index()\n",
    "\n",
    "sns.set(rc = {'figure.figsize':(16,6)})\n",
    "ax = sns.barplot(data=hemi_df, x='hemisphere', y='Country', palette='gist_earth_r')\n",
    "ax.set_title('Count of Unique Countries by Hemisphere')\n",
    "ax.set_xlabel('Hemisphere')\n",
    "ax.set_ylabel('Country Count')\n",
    "\n",
    "# label each bar in barplot\n",
    "for p in ax.patches:\n",
    " height = p.get_height() # get the height of each bar\n",
    " # adding text to each bar\n",
    " ax.text(x = p.get_x()+(p.get_width()/2), # x-coordinate position of data label, padded to be in the middle of the bar\n",
    " y = height+1, # y-coordinate position of data label, padded 100 above bar\n",
    " s = '{:.0f}'.format(height), # data label, formatted to ignore decimals\n",
    " ha = 'center') # sets horizontal alignment (ha) to center"
   ]
  },
  {
   "cell_type": "markdown",
   "id": "759122c6",
   "metadata": {
    "slideshow": {
     "slide_type": "fragment"
    }
   },
   "source": [
    "This breakdown is important to keep in mind if, for example, considering which area of the world is warmest/warming the fastest; the count of cities in the NE quadrant of Earth vastly outnumber those in all others (especially SW). A weighted average would be important to implement in such exploration."
   ]
  },
  {
   "cell_type": "code",
   "execution_count": null,
   "id": "6485fc4e",
   "metadata": {
    "scrolled": false,
    "slideshow": {
     "slide_type": "subslide"
    }
   },
   "outputs": [],
   "source": [
    "# series.boxplot('AverageTemperature', by = 'hemisphere', figsize=(16, 8), color='xkcd:forest green', grid=True)\n",
    "sns.set(rc = {'figure.figsize':(16,6)})\n",
    "ax = sns.boxplot(x='hemisphere', y='AverageTemperature', data=city_filt, color='xkcd:sage')\n",
    "ax.set_title('Average Temperature by Hemisphere Boxplot')\n",
    "ax.set_xlabel('Hemisphere')\n",
    "ax.set_ylabel('Average Temperature')"
   ]
  },
  {
   "cell_type": "markdown",
   "id": "fa892092",
   "metadata": {
    "slideshow": {
     "slide_type": "fragment"
    }
   },
   "source": [
    "Again, we can see that there are not only far more cities included in the dataset from the NE quadrant of the Earth, but that this area also has the greatest range in `AverageTemperature` (as denoted by the spread of whiskers). The region with the smallest range in temperatures is the SE. This is to be expected: the more values within a given group, the more likely there is to be greater variance across a singular quantitative measurement."
   ]
  },
  {
   "cell_type": "code",
   "execution_count": null,
   "id": "6c44f5f0",
   "metadata": {
    "slideshow": {
     "slide_type": "subslide"
    }
   },
   "outputs": [],
   "source": [
    "# sns.displot(country_filt, x='AverageTemperature', binwidth=0.5)\n",
    "\n",
    "sns.set(rc = {'figure.figsize':(16,6)})\n",
    "ax = sns.histplot(city_filt, x='AverageTemperature', binwidth=1, color='xkcd:sage', hue='hemisphere', palette='gist_earth_r', alpha=0.4, kde=True, legend=True)\n",
    "ax.set_title('Distribution of Average Temperatures (Cities by Hemisphere)')\n",
    "ax.set_xlabel('Average Temperature (°C)')\n",
    "ax.set_ylabel('Count')"
   ]
  },
  {
   "cell_type": "markdown",
   "id": "0b67301e",
   "metadata": {
    "slideshow": {
     "slide_type": "fragment"
    }
   },
   "source": [
    "[Back to TOC](#TOC)"
   ]
  },
  {
   "cell_type": "markdown",
   "id": "10291e9c",
   "metadata": {
    "slideshow": {
     "slide_type": "slide"
    }
   },
   "source": [
    "<a id='Extremes'></a>\n",
    "#### [Warmest & coldest countries/cities](#Extremes)"
   ]
  },
  {
   "cell_type": "code",
   "execution_count": null,
   "id": "a1a68ff3",
   "metadata": {
    "slideshow": {
     "slide_type": "fragment"
    }
   },
   "outputs": [],
   "source": [
    "# top 10 warmest temperatures (no aggregation)\n",
    "country_filt_clean.nlargest(10,'AverageTemperature')"
   ]
  },
  {
   "cell_type": "code",
   "execution_count": null,
   "id": "37f95481",
   "metadata": {
    "scrolled": false,
    "slideshow": {
     "slide_type": "fragment"
    }
   },
   "outputs": [],
   "source": [
    "# top 10 coldest temperatures (no aggregation)\n",
    "country_filt_clean.nsmallest(10,'AverageTemperature')"
   ]
  },
  {
   "cell_type": "markdown",
   "id": "9401fbd0",
   "metadata": {
    "slideshow": {
     "slide_type": "fragment"
    }
   },
   "source": [
    "From the two above outputs, we can see that the 10 warmest and coldest temperatures recorded belong to **Kuwait** and **Greenland**, respectively.\n",
    "\n",
    "In fact, upon deeper digging, Kuwait still holds 18 of the top 20 warmest temperature recordings and Greenland holds more than *60* of the coldest average temperatures.\n",
    "\n",
    "This is informative on its own but what if we wanted to look at the average temperature *across all years*?"
   ]
  },
  {
   "cell_type": "code",
   "execution_count": null,
   "id": "fa5ca761",
   "metadata": {
    "scrolled": false,
    "slideshow": {
     "slide_type": "subslide"
    }
   },
   "outputs": [],
   "source": [
    "# warmest 5 countries by average average temperature\n",
    "warmest_countries = country_filt_clean.groupby(['Country'])['AverageTemperature'].mean().sort_values(ascending=False).to_frame()\n",
    "warmest_countries.head()"
   ]
  },
  {
   "cell_type": "code",
   "execution_count": null,
   "id": "b82b3ee3",
   "metadata": {
    "scrolled": true,
    "slideshow": {
     "slide_type": "fragment"
    }
   },
   "outputs": [],
   "source": [
    "# coldest 5 countries by average average temperature\n",
    "coldest_countries = country_filt_clean.groupby(['Country'])['AverageTemperature'].mean().sort_values(ascending=True).to_frame()\n",
    "coldest_countries.head()"
   ]
  },
  {
   "cell_type": "markdown",
   "id": "18968769",
   "metadata": {
    "slideshow": {
     "slide_type": "fragment"
    }
   },
   "source": [
    "What's going on here?\n",
    "\n",
    "The coldest country is [significantly] Greenland. Conversely, Kuwait holds several of the warmest temperatures recorded but isn't on the \"top 5 warmest countries on average\" list.\n",
    "\n",
    "Let's check to see all of Kuwait's records."
   ]
  },
  {
   "cell_type": "code",
   "execution_count": null,
   "id": "cbf4f0bb",
   "metadata": {
    "scrolled": false,
    "slideshow": {
     "slide_type": "subslide"
    }
   },
   "outputs": [],
   "source": [
    "# looking at distribution of temperatures in Kuwait\n",
    "kuwait=country_filt_clean[(country_filt_clean['Country']=='Kuwait')]\n",
    "sns.histplot(data=kuwait, x='AverageTemperature', stat='count', binwidth=1, color='xkcd:sage', kde=True).set_title('Distribution of Average Temperatures in Kuwait')\n",
    "# to equally compare with Djibouti, set ranges on x- and y-axis\n",
    "plt.xlim(0, 40)\n",
    "plt.ylim(0, 200)"
   ]
  },
  {
   "cell_type": "code",
   "execution_count": null,
   "id": "30a5097b",
   "metadata": {
    "scrolled": false,
    "slideshow": {
     "slide_type": "fragment"
    }
   },
   "outputs": [],
   "source": [
    "# looking at distribution of temperatures in Djibouti\n",
    "djibouti=country_filt_clean[(country_filt_clean['Country']=='Djibouti')]\n",
    "sns.histplot(data=djibouti, x='AverageTemperature', stat='count', binwidth=1, color='xkcd:sage', kde=True).set_title('Distribution of Average Temperatures in Djibouti')\n",
    "# to equally compare with Kuwait, set ranges on x- and y-axis\n",
    "plt.xlim(0, 40)\n",
    "plt.ylim(0, 200)"
   ]
  },
  {
   "cell_type": "markdown",
   "id": "0ca3fee2",
   "metadata": {
    "slideshow": {
     "slide_type": "subslide"
    }
   },
   "source": [
    "Looking at the two histograms above, we can see why Djibouti takes the crown as the warmest country *on average*: most of its average temperature records are concentrated within the 25-35°C range, whereas Kuwait has a much broader range of average temperatures. Specifically for Kuwait's distribution, the local peaks around 14°C and 20/21°C surely influence the overall average.\n",
    "\n",
    "With that, we are able to concretely answer our first pair of questions. On average,\n",
    "* the **warmest country** is **Djibouti** 🇩🇯, and\n",
    "* the **coldest country** [by far] is **Greenland** 🇬🇱"
   ]
  },
  {
   "cell_type": "code",
   "execution_count": null,
   "id": "576e0f56",
   "metadata": {
    "scrolled": false,
    "slideshow": {
     "slide_type": "slide"
    }
   },
   "outputs": [],
   "source": [
    "# average temperature for each country\n",
    "countries=np.unique(country_filt_clean['Country'])\n",
    "mean_temp=[]\n",
    "for country in countries:\n",
    "    mean_temp.append(country_filt_clean[country_filt_clean['Country']==country]['AverageTemperature'].mean())\n",
    "\n",
    "\n",
    "data=[dict(\n",
    "        type='choropleth',\n",
    "        locations=countries,\n",
    "        z=mean_temp,\n",
    "        locationmode='country names',\n",
    "        text=countries,\n",
    "        marker=dict(\n",
    "            line=dict(color='rgb(0,0,0)', width=1)),\n",
    "            colorbar=dict(autotick=True, tickprefix='', \n",
    "            title='Average Temperature, °C')\n",
    "            )\n",
    "       ]\n",
    "\n",
    "layout=dict(\n",
    "    title='Average Land Temperature by Country',\n",
    "    geo=dict(\n",
    "        showframe=False,\n",
    "        showocean=True,\n",
    "        oceancolor='rgb(200,250,240)',\n",
    "        projection=dict(\n",
    "        type='orthographic',\n",
    "            rotation=dict(\n",
    "                    lon=60,\n",
    "                    lat=10),\n",
    "        ),\n",
    "        lonaxis=dict(\n",
    "                showgrid=True,\n",
    "                gridcolor='rgb(102, 102, 102)'\n",
    "            ),\n",
    "        lataxis=dict(\n",
    "                showgrid=True,\n",
    "                gridcolor='rgb(102, 102, 102)'\n",
    "                )\n",
    "            ),\n",
    "        )\n",
    "\n",
    "fig=dict(data=data, layout=layout, figsize=(16, 16))\n",
    "py.iplot(fig, validate=False, filename='worldmap')"
   ]
  },
  {
   "cell_type": "code",
   "execution_count": null,
   "id": "8959199f",
   "metadata": {
    "scrolled": true,
    "slideshow": {
     "slide_type": "slide"
    }
   },
   "outputs": [],
   "source": [
    "# here's an excessively long horizontal bar plot of average temperatures for ALL countries\n",
    "mean_temp_bar, countries_bar=(list(x) for x in zip(*sorted(zip(mean_temp, countries), reverse=True)))\n",
    "sns.set(font_scale=0.9) \n",
    "f,ax=plt.subplots(figsize=(18, 50))\n",
    "colors_cw=sns.color_palette('coolwarm', len(countries))\n",
    "sns.barplot(np.round(mean_temp_bar, decimals=2), countries_bar, palette=colors_cw[::-1])\n",
    "ax.bar_label(ax.containers[0])\n",
    "text=ax.set(xlabel='Average Temperature (°C)', title='Average Land Temperature (1880-2013)')"
   ]
  },
  {
   "cell_type": "markdown",
   "id": "80e10af6",
   "metadata": {
    "slideshow": {
     "slide_type": "slide"
    }
   },
   "source": [
    "#### Exploring the \"City\" Table"
   ]
  },
  {
   "cell_type": "code",
   "execution_count": null,
   "id": "9658aafd",
   "metadata": {
    "scrolled": false,
    "slideshow": {
     "slide_type": "fragment"
    }
   },
   "outputs": [],
   "source": [
    "city_filt.describe().T"
   ]
  },
  {
   "cell_type": "markdown",
   "id": "a13ea499",
   "metadata": {
    "slideshow": {
     "slide_type": "fragment"
    }
   },
   "source": [
    "Once again, the quick summary above (and from cleaning earlier), we can see that, within the truncated (123-year) dataset, we have:\n",
    "* 5,622,473 records in total,\n",
    "* 3,448 unique cities.\n",
    "* 159 countries,\n",
    "* a minimum average temperature of -42.704°C 🥶🥶,\n",
    "* a maximum average temperature of 39.156°C 🥵🥵,\n",
    "* a resulting range of *more than* 80°C (81.86°C, exactly) across all cities.\n",
    "\n",
    "Again, we will explore to see in which cities in the world these extreme temperatures were recorded."
   ]
  },
  {
   "cell_type": "code",
   "execution_count": null,
   "id": "5b5d8703",
   "metadata": {
    "scrolled": true,
    "slideshow": {
     "slide_type": "subslide"
    }
   },
   "outputs": [],
   "source": [
    "# top 5 warmest city temperatures (no aggregation)\n",
    "city_filt.nlargest(10,'AverageTemperature')"
   ]
  },
  {
   "cell_type": "code",
   "execution_count": null,
   "id": "549bb372",
   "metadata": {
    "scrolled": true,
    "slideshow": {
     "slide_type": "fragment"
    }
   },
   "outputs": [],
   "source": [
    "# top 10 coldest temperatures (no aggregation)\n",
    "city_filt.nsmallest(10,'AverageTemperature')"
   ]
  },
  {
   "cell_type": "markdown",
   "id": "66cbfeed",
   "metadata": {
    "slideshow": {
     "slide_type": "subslide"
    }
   },
   "source": [
    "Noticings from the above two outputs: \n",
    "* 39 of 40 warmest temperatures are recorded in **Iran**\n",
    "    * though Ahvaz and Masjed E Soleyman have the same readings, they are, in fact, distinct cities. Perhaps the exact locations of temperature recording are too close but, for the sake of inclusivity, we will consider both.\n",
    "* **Russia** has 60+ of coldest temperatures\n",
    "    * Norilsk seems to be, consistently, the coldest (Kyzyl close second)\n",
    "    \n",
    "**\\*Note**: there appear to be no cities from Greenland included in the `city` table. As a result, we can expect a *different* country to receive the torch in recognition of \"coldest\" (i.e., other than Greenland)."
   ]
  },
  {
   "cell_type": "code",
   "execution_count": null,
   "id": "acc7b019",
   "metadata": {
    "scrolled": true,
    "slideshow": {
     "slide_type": "subslide"
    }
   },
   "outputs": [],
   "source": [
    "# warmest 5 cities by average average temperature\n",
    "warmest_cities = city_filt.groupby(['City'])['AverageTemperature'].mean().sort_values(ascending=False).to_frame()\n",
    "warmest_cities.head()"
   ]
  },
  {
   "cell_type": "markdown",
   "id": "fea0598a",
   "metadata": {
    "slideshow": {
     "slide_type": "fragment"
    }
   },
   "source": [
    "Jibuti (Arabic for \"Djibouti [City]\") is the capital of Djibouti, the country. With Djibouti being the warmest country, on average across 1880 through 2013, perhaps this isn't too surprising that its capital—and largest city—is the warmest.\n",
    "\n",
    "*Very* close contenders (within 0.05°C): Khartoum, Sudan; Umm Durman, Sudan; and Niamey, Niger."
   ]
  },
  {
   "cell_type": "code",
   "execution_count": null,
   "id": "6f44f410",
   "metadata": {
    "scrolled": true,
    "slideshow": {
     "slide_type": "subslide"
    }
   },
   "outputs": [],
   "source": [
    "# coldest 5 cities by average average temperature\n",
    "coldest_cities = city_filt.groupby(['City'])['AverageTemperature'].mean().sort_values(ascending=True).to_frame()\n",
    "coldest_cities.head()"
   ]
  },
  {
   "cell_type": "markdown",
   "id": "c345783c",
   "metadata": {
    "slideshow": {
     "slide_type": "fragment"
    }
   },
   "source": [
    "The top 5 coldest cities, on average, are all in Russia.\n",
    "\n",
    "With this, we are able to concretely answer our second pair of questions. On average,\n",
    "* the **warmest city** is **Jibuti, Djibouti** 🇩🇯, and\n",
    "* the **coldest city** [by a significant margin] is **Norilsk, Russia** 🇷🇺"
   ]
  },
  {
   "cell_type": "markdown",
   "id": "a508220e",
   "metadata": {
    "slideshow": {
     "slide_type": "fragment"
    }
   },
   "source": [
    "[Back to TOC](#TOC)"
   ]
  },
  {
   "cell_type": "markdown",
   "id": "729844f6",
   "metadata": {
    "slideshow": {
     "slide_type": "slide"
    }
   },
   "source": [
    "<a id='Trending'></a>\n",
    "#### [Average Global Temperature Over Time](#Trending)\n",
    "\n",
    "We will now look at the average temperature across all countries over time for the entire span of our time series. To compare and contrast, we will do the same with our cities and see if the two trends are significantly different."
   ]
  },
  {
   "cell_type": "code",
   "execution_count": null,
   "id": "4683481f",
   "metadata": {
    "scrolled": true,
    "slideshow": {
     "slide_type": "subslide"
    }
   },
   "outputs": [],
   "source": [
    "# average average country temperature over time (monthly)\n",
    "month_countries=country_filt_clean.groupby(pd.Grouper(key='dt', freq=\"1M\")).mean()\n",
    "f,ax=plt.subplots(figsize=(18, 8))\n",
    "sns.lineplot(data=month_countries, x='dt', y='AverageTemperature', color='xkcd:sage')\n",
    "text=ax.set(xlabel='Time (monthly)', ylabel='Average Temperature (°C)', title='Average Monthly Global (COUNTRY) Temperature (1880-2013)')"
   ]
  },
  {
   "cell_type": "markdown",
   "id": "5bbc35d2",
   "metadata": {
    "slideshow": {
     "slide_type": "fragment"
    }
   },
   "source": [
    "Although we can see an upward trend, maybe monthly was too dense. Let's try annually."
   ]
  },
  {
   "cell_type": "code",
   "execution_count": null,
   "id": "40d20c52",
   "metadata": {
    "scrolled": true,
    "slideshow": {
     "slide_type": "subslide"
    }
   },
   "outputs": [],
   "source": [
    "# average average country temperature over time (annual)\n",
    "annual_countries=country_filt_clean.groupby(pd.Grouper(key='dt', freq=\"1Y\")).mean()\n",
    "f,ax=plt.subplots(figsize=(18, 8))\n",
    "sns.lineplot(data=annual_countries, x='dt', y='AverageTemperature', color='xkcd:sage')\n",
    "text=ax.set(xlabel='Time (annnual)', ylabel='Average Temperature (°C)', title='Average Annual Global (COUNTRY) Temperature (1880-2013)')"
   ]
  },
  {
   "cell_type": "markdown",
   "id": "c4bfdf1f",
   "metadata": {
    "slideshow": {
     "slide_type": "fragment"
    }
   },
   "source": [
    "Now, we can clearly see a general trend of increasing global temperatures over time."
   ]
  },
  {
   "cell_type": "code",
   "execution_count": null,
   "id": "e1845000",
   "metadata": {
    "slideshow": {
     "slide_type": "subslide"
    }
   },
   "outputs": [],
   "source": [
    "# average average city temperature over time (monthly)\n",
    "month_cities=city_filt.groupby(pd.Grouper(key='dt', freq=\"1M\")).mean()\n",
    "f,ax=plt.subplots(figsize=(18, 8))\n",
    "sns.lineplot(data=month_cities, x='dt', y='AverageTemperature', color='xkcd:sage')\n",
    "text=ax.set(xlabel='Time (monthly)', ylabel='Average Temperature (°C)', title='Average Monthly Global (CITY) Temperature (1880-2013)')"
   ]
  },
  {
   "cell_type": "markdown",
   "id": "85925c52",
   "metadata": {
    "slideshow": {
     "slide_type": "fragment"
    }
   },
   "source": [
    "Once again, maybe a monthly basis is too dense to look at general trends. Instead, we will look at annual numbers."
   ]
  },
  {
   "cell_type": "code",
   "execution_count": null,
   "id": "3dc4cbb8",
   "metadata": {
    "scrolled": false,
    "slideshow": {
     "slide_type": "subslide"
    }
   },
   "outputs": [],
   "source": [
    "# average average city temperature over time (annual)\n",
    "annual_cities=city_filt.groupby(pd.Grouper(key='dt', freq=\"1Y\")).mean()\n",
    "f,ax=plt.subplots(figsize=(18, 8))\n",
    "sns.lineplot(data=annual_cities, x='dt', y='AverageTemperature', color='xkcd:sage')\n",
    "text=ax.set(xlabel='Time (annnual)', ylabel='Average Temperature (°C)', title='Average Annual Global (CITY) Temperature (1880-2013)')"
   ]
  },
  {
   "cell_type": "markdown",
   "id": "8fd97213",
   "metadata": {
    "slideshow": {
     "slide_type": "fragment"
    }
   },
   "source": [
    "Since the geographical spread—and, as a result, diversity—is greater within the `city` table, we will use the trends found in the corresponding annual average plot to observe the average global temperature over time. By adding a trendline, we can see growth trend from 1880 through 2013."
   ]
  },
  {
   "cell_type": "markdown",
   "id": "6751211f",
   "metadata": {
    "slideshow": {
     "slide_type": "fragment"
    }
   },
   "source": [
    "[Back to TOC](#TOC)"
   ]
  },
  {
   "cell_type": "markdown",
   "id": "41fdd4ce",
   "metadata": {
    "slideshow": {
     "slide_type": "slide"
    }
   },
   "source": [
    "**** \n",
    "<a id='Answers'></a>\n",
    "### 4. [Answering Questions](#Answers)"
   ]
  },
  {
   "cell_type": "markdown",
   "id": "a008fa20",
   "metadata": {
    "slideshow": {
     "slide_type": "subslide"
    }
   },
   "source": [
    "<a id='Fastest'></a>\n",
    "#### [Fastest-Warming Countries & Cities and Temperature Ranges](#Fastest)\n",
    "\n",
    "As defined earlier, \"fastest-warming*\" will be measured by the rolling 10-year average increase in average temperature change. For the sake of recency, the rolling average will be calculated over the 5 and 10 most recent full years; since the data set ends of 2013, we will look at the rolling averages from the past 50 years (from 1938 onward).\n",
    "\n",
    "We will first filter our dataframe and then add columns for year-over-year growth as a percentage, in addition to rolling 10-year average of these year-over-year growth values."
   ]
  },
  {
   "cell_type": "code",
   "execution_count": null,
   "id": "ecf8e73a",
   "metadata": {
    "scrolled": false,
    "slideshow": {
     "slide_type": "subslide"
    }
   },
   "outputs": [],
   "source": [
    "# filter 1938 through 2013 (about 50 years)\n",
    "fast_warm_country = country_filt_clean[(country_filt_clean['dt']>='1938-01-01')]\n",
    "fast_warm_country.head()"
   ]
  },
  {
   "cell_type": "code",
   "execution_count": null,
   "id": "e8385dea",
   "metadata": {
    "scrolled": true,
    "slideshow": {
     "slide_type": "subslide"
    }
   },
   "outputs": [],
   "source": [
    "# group by country and by year\n",
    "# return min, max, and avg temps\n",
    "fast_warm_country = fast_warm_country.groupby(['Country', fast_warm_country.dt.dt.year]).agg({'AverageTemperature': ['min', 'max','mean']})\n",
    "fast_warm_country.columns = ['min_temp', 'max_temp', 'avg_temp']\n",
    "\n",
    "fast_warm_country = fast_warm_country.reset_index()\n",
    "\n",
    "fast_warm_country.head()"
   ]
  },
  {
   "cell_type": "code",
   "execution_count": null,
   "id": "b96d49ad",
   "metadata": {
    "slideshow": {
     "slide_type": "subslide"
    }
   },
   "outputs": [],
   "source": [
    "fast_warm_country['temp_range']=fast_warm_country['max_temp'] - fast_warm_country['min_temp']\n",
    "\n",
    "fast_warm_country.head()"
   ]
  },
  {
   "cell_type": "code",
   "execution_count": null,
   "id": "6fcaea3c",
   "metadata": {
    "slideshow": {
     "slide_type": "subslide"
    }
   },
   "outputs": [],
   "source": [
    "# adding pct_change, 5-yr, and 10-yr columns\n",
    "fast_warm_country['pct_change']=(fast_warm_country['avg_temp'].diff() / fast_warm_country['avg_temp'].abs().shift())*100\n",
    "fast_warm_country['five_yr_avg_pct_change']=fast_warm_country['pct_change'].rolling(5).mean()\n",
    "fast_warm_country['ten_yr_avg_pct_change']=fast_warm_country['pct_change'].rolling(10).mean()\n",
    "\n",
    "fast_warm_country.head(20)"
   ]
  },
  {
   "cell_type": "code",
   "execution_count": null,
   "id": "6f0cc35e",
   "metadata": {
    "scrolled": true,
    "slideshow": {
     "slide_type": "subslide"
    }
   },
   "outputs": [],
   "source": [
    "# top 20 five_yr_avg (by country)\n",
    "fast_warm_country.nlargest(20,'five_yr_avg_pct_change')"
   ]
  },
  {
   "cell_type": "markdown",
   "id": "b32a67d4",
   "metadata": {
    "slideshow": {
     "slide_type": "fragment"
    }
   },
   "source": [
    "Finland in the 50s/60s!\n",
    "\n",
    "With such **massive** `five_yr_avg_pct_change` values, let's investigate the temperatures recorded in Finland over this time."
   ]
  },
  {
   "cell_type": "code",
   "execution_count": null,
   "id": "a8b5a709",
   "metadata": {
    "scrolled": false,
    "slideshow": {
     "slide_type": "subslide"
    }
   },
   "outputs": [],
   "source": [
    "finland_warming = fast_warm_country.loc[(fast_warm_country['Country'] == 'Finland') & (fast_warm_country['dt'] > 1950)]\n",
    "finland_warming.head(20)"
   ]
  },
  {
   "cell_type": "code",
   "execution_count": null,
   "id": "e0efcfed",
   "metadata": {
    "slideshow": {
     "slide_type": "subslide"
    }
   },
   "outputs": [],
   "source": [
    "# Finland average temperature over time (annual)\n",
    "finland_warming = fast_warm_country.loc[(fast_warm_country['Country'] == 'Finland') & (fast_warm_country['dt'] > 1900)]\n",
    "\n",
    "f,ax=plt.subplots(figsize=(18, 8))\n",
    "sns.lineplot(data=finland_warming, x='dt', y='avg_temp', color='xkcd:sage')\n",
    "text=ax.set(xlabel='Time (annnual)', ylabel='Average Temperature (°C)', title='Average Annual Temperature in Finland (1900-2013)')"
   ]
  },
  {
   "cell_type": "markdown",
   "id": "9dab537a",
   "metadata": {
    "slideshow": {
     "slide_type": "fragment"
    }
   },
   "source": [
    "The `pct_change` in `avg_temp` in Finland from 1957 to 1958 was **more than 13,000%**! Of course, looking at the true values of `avg_temp`, we see a change that would likely be imperceptible to the vast majority of people (–0.015917 up to 2.058167) but the *rate of change* is still not the be taken likely."
   ]
  },
  {
   "cell_type": "code",
   "execution_count": null,
   "id": "ba0bb22c",
   "metadata": {
    "scrolled": false,
    "slideshow": {
     "slide_type": "subslide"
    }
   },
   "outputs": [],
   "source": [
    "# top 20 ten_yr_avg (by country)\n",
    "fast_warm_country.nlargest(20,'ten_yr_avg_pct_change')"
   ]
  },
  {
   "cell_type": "markdown",
   "id": "2789a063",
   "metadata": {
    "slideshow": {
     "slide_type": "fragment"
    }
   },
   "source": [
    "This `pct_change` has a **huge** impact on subsequent five- and ten-year rolling averages."
   ]
  },
  {
   "cell_type": "markdown",
   "id": "9d9bd7db",
   "metadata": {
    "slideshow": {
     "slide_type": "subslide"
    }
   },
   "source": [
    "A quick look at temperature ranges (since extreme temperatures are related to extreme weather events and climate change, as a whole)."
   ]
  },
  {
   "cell_type": "code",
   "execution_count": null,
   "id": "ddc5a656",
   "metadata": {
    "scrolled": false,
    "slideshow": {
     "slide_type": "fragment"
    }
   },
   "outputs": [],
   "source": [
    "# top 5 temp_range (by country)\n",
    "fast_warm_country.nlargest(5,'temp_range')"
   ]
  },
  {
   "cell_type": "code",
   "execution_count": null,
   "id": "5eee12ff",
   "metadata": {
    "slideshow": {
     "slide_type": "fragment"
    }
   },
   "outputs": [],
   "source": [
    "# smallest 5 temp_range (by country)\n",
    "fast_warm_country.nsmallest(5,'temp_range')"
   ]
  },
  {
   "cell_type": "markdown",
   "id": "c18e54af",
   "metadata": {
    "slideshow": {
     "slide_type": "subslide"
    }
   },
   "source": [
    "From the above, we can conclude:\n",
    "* historically, **Finland** was the fastest-warming country in the middle of the 20th century\n",
    "* *more recently*, **Mongolia** has demonstrated relatively rapid warming into the beginning of 21st century\n",
    "* the countries with the greatest range in average temperatures were **Kazakhstan**, **Russia**, and **Mongolia**\n",
    "* the countries with the least range in average temperatures were **Federated States Of Micronesia**, **Indonesia**, and **American Samoa** (all island nations close to the equator)\n",
    "\n",
    "With this, we can observe that **Finland** 🇫🇮 and **Mongolia** 🇲🇳 are the fastest-warming countries (historically and more recently, respectively).\n",
    "\n",
    "The country with the greatest `temp_range` was **Kazakhstan** 🇰🇿 in 1969 and the country with the least `temp_range` was **[The] Federated States of Micronesia** 🇫🇲 in 1994."
   ]
  },
  {
   "cell_type": "markdown",
   "id": "dfdb1a08",
   "metadata": {
    "slideshow": {
     "slide_type": "subslide"
    }
   },
   "source": [
    "Now, using a similar approach with the `city` table, we will find the fastest-warming city."
   ]
  },
  {
   "cell_type": "code",
   "execution_count": null,
   "id": "634f48a1",
   "metadata": {
    "scrolled": true,
    "slideshow": {
     "slide_type": "fragment"
    }
   },
   "outputs": [],
   "source": [
    "# filter 1938 through 2013 (about 50 years)\n",
    "fast_warm_city = city_filt[(city_filt['dt']>='1938-01-01')]\n",
    "fast_warm_city.head()"
   ]
  },
  {
   "cell_type": "code",
   "execution_count": null,
   "id": "5420ddc9",
   "metadata": {
    "scrolled": true,
    "slideshow": {
     "slide_type": "subslide"
    }
   },
   "outputs": [],
   "source": [
    "# group by city and by year\n",
    "# return min, max, and avg temps\n",
    "fast_warm_city = fast_warm_city.groupby(['City', fast_warm_city.dt.dt.year]).agg({'AverageTemperature': ['min', 'max','mean']})\n",
    "fast_warm_city.columns = ['min_temp', 'max_temp', 'avg_temp']\n",
    "\n",
    "fast_warm_city = fast_warm_city.reset_index()\n",
    "\n",
    "fast_warm_city.head()"
   ]
  },
  {
   "cell_type": "code",
   "execution_count": null,
   "id": "8bfd36cf",
   "metadata": {
    "scrolled": true,
    "slideshow": {
     "slide_type": "fragment"
    }
   },
   "outputs": [],
   "source": [
    "fast_warm_city['temp_range']=fast_warm_city['max_temp'] - fast_warm_city['min_temp']\n",
    "\n",
    "fast_warm_city.head()"
   ]
  },
  {
   "cell_type": "code",
   "execution_count": null,
   "id": "9caf581c",
   "metadata": {
    "scrolled": true,
    "slideshow": {
     "slide_type": "subslide"
    }
   },
   "outputs": [],
   "source": [
    "# adding pct_change, 5-yr, and 10-yr columns\n",
    "fast_warm_city['pct_change']=(fast_warm_city['avg_temp'].diff() / fast_warm_city['avg_temp'].abs().shift())*100\n",
    "fast_warm_city['five_yr_avg_pct_change']=fast_warm_city['pct_change'].rolling(5).mean()\n",
    "fast_warm_city['ten_yr_avg_pct_change']=fast_warm_city['pct_change'].rolling(10).mean()\n",
    "\n",
    "fast_warm_city.head()"
   ]
  },
  {
   "cell_type": "code",
   "execution_count": null,
   "id": "bbf15cf9",
   "metadata": {
    "scrolled": true,
    "slideshow": {
     "slide_type": "subslide"
    }
   },
   "outputs": [],
   "source": [
    "# top 20 five_yr_avg (by city)\n",
    "fast_warm_city.nlargest(20,'five_yr_avg_pct_change')"
   ]
  },
  {
   "cell_type": "markdown",
   "id": "229f7c14",
   "metadata": {
    "slideshow": {
     "slide_type": "fragment"
    }
   },
   "source": [
    "Contenders for fastest-warming city include **Nizhniy Novgorod** (Russia) and **Angeles** (Philippines). We will now look at the 10-year rolling average to decide."
   ]
  },
  {
   "cell_type": "code",
   "execution_count": null,
   "id": "4b66e75e",
   "metadata": {
    "scrolled": true,
    "slideshow": {
     "slide_type": "subslide"
    }
   },
   "outputs": [],
   "source": [
    "# top 20 ten_yr_avg (by city)\n",
    "fast_warm_city.nlargest(20,'ten_yr_avg_pct_change')"
   ]
  },
  {
   "cell_type": "markdown",
   "id": "30f425b4",
   "metadata": {
    "slideshow": {
     "slide_type": "subslide"
    }
   },
   "source": [
    "Once again, a look at temperature ranges by city."
   ]
  },
  {
   "cell_type": "code",
   "execution_count": null,
   "id": "ea5be24f",
   "metadata": {
    "scrolled": false,
    "slideshow": {
     "slide_type": "fragment"
    }
   },
   "outputs": [],
   "source": [
    "# top 5 temp_range (by city)\n",
    "fast_warm_city.nlargest(5,'temp_range')"
   ]
  },
  {
   "cell_type": "code",
   "execution_count": null,
   "id": "8a89e95e",
   "metadata": {
    "slideshow": {
     "slide_type": "fragment"
    }
   },
   "outputs": [],
   "source": [
    "# bottom 5 temp_range (by city)\n",
    "fast_warm_city.nsmallest(5,'temp_range')"
   ]
  },
  {
   "cell_type": "markdown",
   "id": "3be80d11",
   "metadata": {
    "slideshow": {
     "slide_type": "subslide"
    }
   },
   "source": [
    "Again, we can conclude:\n",
    "* historically, **Nizhniy Novgorod, [Western] Russia** was the fastest-warming city just before the middle of the 20th century\n",
    "* *more recently*, **Abakan, [Southern] Russia** has demonstrated relatively rapid warming leading into the beginning of 21st century\n",
    "* the city with the greatest range in average temperature was **Norilsk, Russia** in 1979\n",
    "* the cities with the least range in average temperature were **Balikpapan**, **Loa Janan**, and **Samarinda** in 2007 (all distinct cities within ~110 km of one another in Indonesia)\n",
    "\n",
    "We observe that **Nizhniy Novgorod** and **Abakan** are the fastest-warming cities (historically and more recently, respectively), both of which are in Russia 🇷🇺.\n",
    "\n",
    "The city with the greatest range in average temperature was **Norilsk, Russia** 🇷🇺 in 1979 and those with the least range in average temperature were **Balikpapan**, **Loa Janan**, and **Samarinda** 🇮🇩 in 2007."
   ]
  },
  {
   "cell_type": "markdown",
   "id": "1cccbdbd",
   "metadata": {
    "slideshow": {
     "slide_type": "fragment"
    }
   },
   "source": [
    "[Back to TOC](#TOC)"
   ]
  },
  {
   "cell_type": "markdown",
   "id": "88c7eae6",
   "metadata": {
    "slideshow": {
     "slide_type": "slide"
    }
   },
   "source": [
    "**** \n",
    "<a id='Conclusion'></a>\n",
    "### 5. [Conclusions, Recommendations, and Areas for Further Exploration](#Conclusion)"
   ]
  },
  {
   "cell_type": "markdown",
   "id": "3b79e445",
   "metadata": {
    "slideshow": {
     "slide_type": "subslide"
    }
   },
   "source": [
    "#### Conclusions\n",
    "In summary, we determined that, from 1880 to 2013,\n",
    "* on average, the **coldest country** was **Greenland**\n",
    "* on average, the **warmest country** was **Djibouti**\n",
    "* on average, the **coldest city** was **Norilsk, Russia**\n",
    "* on average, the **warmest city** was **Jibuti, Djibouti**\n",
    "* the country with the greatest range in average temperatures was **Kazakhstan**\n",
    "* the cities with the greatest range in average temperatures were **Balikpapan**, **Loa Janan**, and **Samarinda** (all Indonesia)\n",
    "* the **countries** that have the **greatest rate of warming** were **Finland and Mongolia** (historically and recently, respectively)\n",
    "* the **cities** that have the **greatest rate of warming** were **Nizhniy Novgorod and Abakan** (historically and recently, respectively)\n",
    "\n",
    "#### Hypotheses, revisited\n",
    "Checking in with the aforementioned hypotheses:\n",
    "* the coldest countries and cities will be situated closer to the North/South poles --> **SUPPORTED**\n",
    "* the warmest countries and cities will be situated closer to the equator --> **SUPPORTED**\n",
    "* the countries and cities with the greatest rate of warming will be closer to the poles --> **PARTIALLY SUPPORTED for country; SUPPORTED for city**"
   ]
  },
  {
   "cell_type": "markdown",
   "id": "d6843035",
   "metadata": {
    "slideshow": {
     "slide_type": "subslide"
    }
   },
   "source": [
    "#### Recommendations\n",
    "The results of this analysis would [hopefully] be of interest to most global citizens. While these findings may be concerning—especially for residents of the countries and/or cities listed above—they do have the opportunity to be motivating and empowering, too.\n",
    "\n",
    "Additionally, it is important to remember that the areas of Earth that experience the most extreme temperatures are not necessarily those contributing heavily to the changing climate. With wind and ocean currents constantly being influenced by the motion of our planet, often times heavy pollutants, for example, can travel large distances and have an effect on communities and ecosystems thousands of kilometres away.\n",
    "\n",
    "Ultimately, the results from this analysis could serve as data-driven reasoning to work to mitigate our anthropogenic contributions to climate change. Of course, climate change has taken place on Earth from time immemorial, as shown in the geological record; rather, it is the rapid rate and the magnitude of climate change occurring now that is of great concern worldwide.\n",
    "\n",
    "That said, it is important to note that the of limitations in the dataset suggest these findings should not be taken as gospel but, instead, a *soft* warning or realization (from an admittedly-amateur climate scientist).\n",
    "* **Temporal limitations** in both directions:\n",
    "    * the uncertainty associated with early-recorded temperatures (e.g., 1743 through 1900) is much greater than more recent dates, making these records potentially less reliable\n",
    "    * the most recent month of recorded temperatures across both tables is *August of 2013*, nearly 10 years ago, at time of analysis\n",
    "* **Collection methods**:\n",
    "    * early data was collected by technicians using mercury thermometers, where any variation in the visit time impacted measurements\n",
    "    * in the 1940s, the construction of airports caused many weather stations to be moved\n",
    "    * in the 1980s, there was a transition to electronic thermometers that are said to have a cooling bias\n",
    "* **Monthly aggregations**: each record is dated as the first of every month, suggesting averaging over each day of the month\n",
    "* **Locations**: with 3,448 unique cities across 159 countries, there are clearly many areas of the world—even areas of each country—that are not included that could give a much fuller picture of temperature changes\n"
   ]
  },
  {
   "cell_type": "markdown",
   "id": "09fd925b",
   "metadata": {
    "slideshow": {
     "slide_type": "subslide"
    }
   },
   "source": [
    "#### Areas for Further Exploration\n",
    "Given the limitaitons listed above, this analysis and accompanying dataset can still be used for diagnostic purposes despite the raw dataset containing various artifacts that may make it an unreliable recorder of Earth's climate history/future. That said, there are still many directions in which to proceed:\n",
    "* **Forecasting**: given the [personal] limitations of time and the existing length of the analysis, forecasting of temperatures for a given city was not included. This will be added after-the-fact to demonstrate seasonal modelling.\n",
    "* **Improved Geo-Coordinates**: while it was not the main focus of this analysis, it would be informative to join the existing tables with those that include more accurate latitude and longitude measurements (as opposed to rounded off to two decimal places). With this information, a more detailed look at temperatures and/or temperature changes by location could provide deeper insights.\n",
    "* **Other Geographical Information**: measurements such as altitude, humidity, proximity to water/length of coastline, or even population density would be interesting to explore as other variables that may or may not have some correlation with temperatures changes."
   ]
  },
  {
   "cell_type": "markdown",
   "id": "20f0dbd4",
   "metadata": {
    "slideshow": {
     "slide_type": "fragment"
    }
   },
   "source": [
    "[Back to TOC](#TOC)"
   ]
  },
  {
   "cell_type": "markdown",
   "id": "2eac7391",
   "metadata": {
    "slideshow": {
     "slide_type": "fragment"
    }
   },
   "source": [
    "**** \n"
   ]
  },
  {
   "cell_type": "markdown",
   "id": "fbffd533",
   "metadata": {
    "slideshow": {
     "slide_type": "fragment"
    }
   },
   "source": [
    "\\~*fin*\\~"
   ]
  },
  {
   "cell_type": "markdown",
   "id": "1d2b6a05",
   "metadata": {},
   "source": [
    "**** "
   ]
  }
 ],
 "metadata": {
  "kernelspec": {
   "display_name": "Python 3 (ipykernel)",
   "language": "python",
   "name": "python3"
  },
  "language_info": {
   "codemirror_mode": {
    "name": "ipython",
    "version": 3
   },
   "file_extension": ".py",
   "mimetype": "text/x-python",
   "name": "python",
   "nbconvert_exporter": "python",
   "pygments_lexer": "ipython3",
   "version": "3.10.4"
  }
 },
 "nbformat": 4,
 "nbformat_minor": 5
}
